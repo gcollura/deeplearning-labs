{
 "cells": [
  {
   "cell_type": "markdown",
   "metadata": {},
   "source": [
    "<h1 style=\"text-align:center\">Deep Learning   </h1>\n",
    "<h1 style=\"text-align:center\"> Lab Session 2 - 3 Hours </h1>\n",
    "<h1 style=\"text-align:center\"> Convolutional Neural Network (CNN) for Handwritten Digits Recognition</h1>"
   ]
  },
  {
   "cell_type": "markdown",
   "metadata": {},
   "source": [
    "<b> Student 1:</b> Collura  \n",
    "<b> Student 2:</b> Spano\n",
    " \n",
    " \n",
    "The aim of this session is to practice with Convolutional Neural Networks. Answers and experiments should be made by groups of one or two students. Each group should fill and run appropriate notebook cells. \n",
    "\n",
    "\n",
    "Once you have completed all of the code implementations and successfully answered each question above, you may finalize your work by exporting the iPython Notebook as an pdf document using print as PDF (Ctrl+P). Do not forget to run all your cells before generating your final report and do not forget to include the names of all participants in the group. The lab session should be completed by May 29th 2017.\n",
    "\n",
    "Send you pdf file to benoit.huet@eurecom.fr and olfa.ben-ahmed@eurecom.fr using **[DeepLearning_lab2]** as Subject of your email."
   ]
  },
  {
   "cell_type": "markdown",
   "metadata": {},
   "source": [
    "# Introduction"
   ]
  },
  {
   "cell_type": "markdown",
   "metadata": {},
   "source": [
    "In the last Lab Session, you built a Multilayer Perceptron for recognizing hand-written digits from the MNIST data-set. The best achieved accuracy on testing data was about 97%.  Can  you do better than these results using a deep CNN ?\n",
    "In this Lab Session, you will build, train and optimize in TensorFlow one of the early Convolutional Neural Networks:  **LeNet-5** to go to  more than 99% of accuracy. \n",
    "\n",
    "\n",
    "\n",
    "\n"
   ]
  },
  {
   "cell_type": "markdown",
   "metadata": {},
   "source": [
    "# Load MNIST Data in TensorFlow\n",
    "Run the cell above to load the MNIST data that comes  with TensorFlow. You will use this data in **Section 1** and **Section 2**."
   ]
  },
  {
   "cell_type": "code",
   "execution_count": 2,
   "metadata": {},
   "outputs": [
    {
     "name": "stdout",
     "output_type": "stream",
     "text": [
      "Extracting MNIST_data/train-images-idx3-ubyte.gz\n",
      "Extracting MNIST_data/train-labels-idx1-ubyte.gz\n",
      "Extracting MNIST_data/t10k-images-idx3-ubyte.gz\n",
      "Extracting MNIST_data/t10k-labels-idx1-ubyte.gz\n",
      "Image Shape: (784,)\n",
      "Training Set:   55000 samples\n",
      "Validation Set: 5000 samples\n",
      "Test Set:       10000 samples\n"
     ]
    }
   ],
   "source": [
    "import tensorflow as tf\n",
    "from tensorflow.examples.tutorials.mnist import input_data\n",
    "import matplotlib.pyplot as plt\n",
    "import numpy as np\n",
    "from __future__ import print_function\n",
    "\n",
    "mnist = input_data.read_data_sets(\"MNIST_data/\", one_hot=True)\n",
    "X_train, y_train           = mnist.train.images, mnist.train.labels\n",
    "X_validation, y_validation = mnist.validation.images, mnist.validation.labels\n",
    "X_test, y_test             = mnist.test.images, mnist.test.labels\n",
    "\n",
    "print(\"Image Shape: {}\".format(X_train[0].shape))\n",
    "print(\"Training Set:   {} samples\".format(len(X_train)))\n",
    "print(\"Validation Set: {} samples\".format(len(X_validation)))\n",
    "print(\"Test Set:       {} samples\".format(len(X_test)))"
   ]
  },
  {
   "cell_type": "markdown",
   "metadata": {},
   "source": [
    "# Section 1 : My First Model in TensorFlow"
   ]
  },
  {
   "cell_type": "markdown",
   "metadata": {
    "collapsed": true
   },
   "source": [
    "Before starting with CNN, let's train and test in TensorFlow the example :\n",
    "$y=softmax(Wx+b)$ seen in the DeepLearing course last week. \n",
    "\n",
    "This model reaches an accuracy of about 92 %.\n",
    "You will also learn how to launch the tensorBoard https://www.tensorflow.org/get_started/summaries_and_tensorboard to  visualize the computation graph, statistics and learning curves. "
   ]
  },
  {
   "cell_type": "markdown",
   "metadata": {},
   "source": [
    "<b> Part 1 </b> : Read carefully the code in the cell below. Run it to perform training. "
   ]
  },
  {
   "cell_type": "code",
   "execution_count": 2,
   "metadata": {
    "scrolled": false
   },
   "outputs": [
    {
     "name": "stdout",
     "output_type": "stream",
     "text": [
      "Epoch:  01   =====> Loss= 1.286880525\n",
      "Epoch:  02   =====> Loss= 0.732248989\n",
      "Epoch:  03   =====> Loss= 0.600288748\n",
      "Epoch:  04   =====> Loss= 0.536618771\n",
      "Epoch:  05   =====> Loss= 0.497932022\n",
      "Epoch:  06   =====> Loss= 0.471024354\n",
      "Epoch:  07   =====> Loss= 0.451344191\n",
      "Epoch:  08   =====> Loss= 0.435820935\n",
      "Epoch:  09   =====> Loss= 0.423493631\n",
      "Epoch:  10   =====> Loss= 0.412806718\n",
      "Epoch:  11   =====> Loss= 0.404156240\n",
      "Epoch:  12   =====> Loss= 0.397093103\n",
      "Epoch:  13   =====> Loss= 0.390190658\n",
      "Epoch:  14   =====> Loss= 0.384361808\n",
      "Epoch:  15   =====> Loss= 0.379231772\n",
      "Epoch:  16   =====> Loss= 0.374436478\n",
      "Epoch:  17   =====> Loss= 0.370329124\n",
      "Epoch:  18   =====> Loss= 0.366378039\n",
      "Epoch:  19   =====> Loss= 0.362917738\n",
      "Epoch:  20   =====> Loss= 0.359655544\n",
      "Epoch:  21   =====> Loss= 0.356483011\n",
      "Epoch:  22   =====> Loss= 0.353724265\n",
      "Epoch:  23   =====> Loss= 0.351018727\n",
      "Epoch:  24   =====> Loss= 0.348683168\n",
      "Epoch:  25   =====> Loss= 0.346374211\n",
      "Epoch:  26   =====> Loss= 0.344201144\n",
      "Epoch:  27   =====> Loss= 0.342161000\n",
      "Epoch:  28   =====> Loss= 0.340172684\n",
      "Epoch:  29   =====> Loss= 0.338605214\n",
      "Epoch:  30   =====> Loss= 0.336518667\n",
      "Epoch:  31   =====> Loss= 0.335155630\n",
      "Epoch:  32   =====> Loss= 0.333588615\n",
      "Epoch:  33   =====> Loss= 0.331938823\n",
      "Epoch:  34   =====> Loss= 0.330692819\n",
      "Epoch:  35   =====> Loss= 0.329291437\n",
      "Epoch:  36   =====> Loss= 0.327642413\n",
      "Epoch:  37   =====> Loss= 0.326482825\n",
      "Epoch:  38   =====> Loss= 0.325343427\n",
      "Epoch:  39   =====> Loss= 0.324163996\n",
      "Epoch:  40   =====> Loss= 0.323212543\n",
      "Epoch:  41   =====> Loss= 0.322077304\n",
      "Epoch:  42   =====> Loss= 0.320968717\n",
      "Epoch:  43   =====> Loss= 0.319604335\n",
      "Epoch:  44   =====> Loss= 0.318663494\n",
      "Epoch:  45   =====> Loss= 0.318003681\n",
      "Epoch:  46   =====> Loss= 0.317011803\n",
      "Epoch:  47   =====> Loss= 0.316179826\n",
      "Epoch:  48   =====> Loss= 0.315080434\n",
      "Epoch:  49   =====> Loss= 0.314385479\n",
      "Epoch:  50   =====> Loss= 0.313815341\n",
      "Epoch:  51   =====> Loss= 0.312970044\n",
      "Epoch:  52   =====> Loss= 0.312256029\n",
      "Epoch:  53   =====> Loss= 0.311253200\n",
      "Epoch:  54   =====> Loss= 0.310683773\n",
      "Epoch:  55   =====> Loss= 0.309992952\n",
      "Epoch:  56   =====> Loss= 0.309458367\n",
      "Epoch:  57   =====> Loss= 0.308593128\n",
      "Epoch:  58   =====> Loss= 0.308073398\n",
      "Epoch:  59   =====> Loss= 0.307358942\n",
      "Epoch:  60   =====> Loss= 0.306655178\n",
      "Epoch:  61   =====> Loss= 0.306005384\n",
      "Epoch:  62   =====> Loss= 0.305476662\n",
      "Epoch:  63   =====> Loss= 0.304717694\n",
      "Epoch:  64   =====> Loss= 0.304430167\n",
      "Epoch:  65   =====> Loss= 0.303982724\n",
      "Epoch:  66   =====> Loss= 0.303342090\n",
      "Epoch:  67   =====> Loss= 0.302722414\n",
      "Epoch:  68   =====> Loss= 0.302291123\n",
      "Epoch:  69   =====> Loss= 0.301832035\n",
      "Epoch:  70   =====> Loss= 0.301339073\n",
      "Epoch:  71   =====> Loss= 0.300976262\n",
      "Epoch:  72   =====> Loss= 0.300349811\n",
      "Epoch:  73   =====> Loss= 0.299939788\n",
      "Epoch:  74   =====> Loss= 0.299344684\n",
      "Epoch:  75   =====> Loss= 0.298870881\n",
      "Epoch:  76   =====> Loss= 0.298602409\n",
      "Epoch:  77   =====> Loss= 0.298146505\n",
      "Epoch:  78   =====> Loss= 0.297854293\n",
      "Epoch:  79   =====> Loss= 0.297086939\n",
      "Epoch:  80   =====> Loss= 0.296815723\n",
      "Epoch:  81   =====> Loss= 0.296454247\n",
      "Epoch:  82   =====> Loss= 0.296090823\n",
      "Epoch:  83   =====> Loss= 0.295722360\n",
      "Epoch:  84   =====> Loss= 0.295202143\n",
      "Epoch:  85   =====> Loss= 0.294892729\n",
      "Epoch:  86   =====> Loss= 0.294540704\n",
      "Epoch:  87   =====> Loss= 0.294027659\n",
      "Epoch:  88   =====> Loss= 0.293714397\n",
      "Epoch:  89   =====> Loss= 0.293547229\n",
      "Epoch:  90   =====> Loss= 0.293413468\n",
      "Epoch:  91   =====> Loss= 0.292716486\n",
      "Epoch:  92   =====> Loss= 0.292701039\n",
      "Epoch:  93   =====> Loss= 0.292102471\n",
      "Epoch:  94   =====> Loss= 0.292076445\n",
      "Epoch:  95   =====> Loss= 0.291621297\n",
      "Epoch:  96   =====> Loss= 0.291069511\n",
      "Epoch:  97   =====> Loss= 0.290467462\n",
      "Epoch:  98   =====> Loss= 0.290789140\n",
      "Epoch:  99   =====> Loss= 0.290245905\n",
      "Epoch:  100   =====> Loss= 0.290008008\n",
      "Optimization Finished!\n",
      "Accuracy: 0.9208\n"
     ]
    }
   ],
   "source": [
    "from __future__ import print_function\n",
    "import tensorflow as tf\n",
    "\n",
    "# STEP 1\n",
    "\n",
    "# Parameters\n",
    "learning_rate = 0.01\n",
    "training_epochs = 100\n",
    "batch_size = 128\n",
    "display_step = 1\n",
    "logs_path = 'log_files/'  # useful for tensorboard\n",
    "\n",
    "# tf Graph Input:  mnist data image of shape 28*28=784\n",
    "x = tf.placeholder(tf.float32, [None, 784], name='InputData')\n",
    "# 0-9 digits recognition,  10 classes\n",
    "y = tf.placeholder(tf.float32, [None, 10], name='LabelData')\n",
    "\n",
    "# Set model weights\n",
    "W = tf.Variable(tf.zeros([784, 10]), name='Weights')\n",
    "b = tf.Variable(tf.zeros([10]), name='Bias')\n",
    "\n",
    "# Construct model and encapsulating all ops into scopes, making Tensorboard's Graph visualization more convenient\n",
    "with tf.name_scope('Model'):\n",
    "    # Model\n",
    "    pred = tf.nn.softmax(tf.matmul(x, W) + b) # Softmax\n",
    "with tf.name_scope('Loss'):\n",
    "    # Minimize error using cross entropy\n",
    "    cost = tf.reduce_mean(-tf.reduce_sum(y*tf.log(pred), reduction_indices=1))\n",
    "with tf.name_scope('SGD'):\n",
    "    # Gradient Descent\n",
    "    optimizer = tf.train.GradientDescentOptimizer(learning_rate).minimize(cost)\n",
    "with tf.name_scope('Accuracy'):\n",
    "    # Accuracy\n",
    "    acc = tf.equal(tf.argmax(pred, 1), tf.argmax(y, 1))\n",
    "    acc = tf.reduce_mean(tf.cast(acc, tf.float32))\n",
    "\n",
    "# Initializing the variables\n",
    "init = tf.global_variables_initializer()\n",
    "# Create a summary to monitor cost tensor\n",
    "tf.summary.scalar(\"Loss\", cost)\n",
    "# Create a summary to monitor accuracy tensor\n",
    "tf.summary.scalar(\"Accuracy\", acc)\n",
    "# Merge all summaries into a single op\n",
    "merged_summary_op = tf.summary.merge_all()\n",
    "\n",
    "\n",
    "# STEP 2 \n",
    "\n",
    "\n",
    "# Launch the graph for training\n",
    "with tf.Session() as sess:\n",
    "    sess.run(init)\n",
    "    # op to write logs to Tensorboard\n",
    "    summary_writer = tf.summary.FileWriter(logs_path, graph=tf.get_default_graph())\n",
    "    # Training cycle\n",
    "    for epoch in range(training_epochs):\n",
    "        avg_cost = 0.\n",
    "        total_batch = int(mnist.train.num_examples/batch_size)\n",
    "        # Loop over all batches\n",
    "        for i in range(total_batch):\n",
    "            batch_xs, batch_ys = mnist.train.next_batch(batch_size)\n",
    "            # Run optimization op (backprop), cost op (to get loss value)\n",
    "            # and summary nodes\n",
    "            _, c, summary = sess.run([optimizer, cost, merged_summary_op],\n",
    "                                     feed_dict={x: batch_xs, y: batch_ys})\n",
    "            # Write logs at every iteration\n",
    "            summary_writer.add_summary(summary, epoch * total_batch + i)\n",
    "            # Compute average loss\n",
    "            avg_cost += c / total_batch\n",
    "        # Display logs per epoch step\n",
    "        if (epoch+1) % display_step == 0:\n",
    "            print(\"Epoch: \", '%02d' % (epoch+1), \"  =====> Loss=\", \"{:.9f}\".format(avg_cost))\n",
    "\n",
    "    print(\"Optimization Finished!\")\n",
    "\n",
    "    # Test model\n",
    "    # Calculate accuracy\n",
    "    print(\"Accuracy:\", acc.eval({x: mnist.test.images, y: mnist.test.labels}))"
   ]
  },
  {
   "cell_type": "markdown",
   "metadata": {},
   "source": [
    "<b> Part 2  </b>: Using Tensorboard, we can  now visualize the created graph, giving you an overview of your architecture and how all of the major components  are connected. You can also see and analyse the learning curves. \n",
    "\n",
    "To launch tensorBoard: \n",
    "- Go to the **TP2** folder, \n",
    "- Open a Terminal and run the command line **\"tensorboard --logdir= log_files/\"**, it will generate an http link ,ex http://666.6.6.6:6006,\n",
    "- Copy this  link into your web browser \n",
    "\n",
    "\n",
    "Enjoy It !! \n"
   ]
  },
  {
   "cell_type": "markdown",
   "metadata": {},
   "source": [
    "# Section 2 : The 99% MNIST Challenge !"
   ]
  },
  {
   "cell_type": "markdown",
   "metadata": {},
   "source": [
    "<b> Part 1 </b> : LeNet5 implementation"
   ]
  },
  {
   "cell_type": "markdown",
   "metadata": {},
   "source": [
    "One you are now familar with **tensorFlow** and **tensorBoard**, you are in this section to build, train and test the baseline [LeNet-5](http://yann.lecun.com/exdb/lenet/)  model for the MNIST digits recognition problem.  \n",
    "\n",
    "In more advanced step you will make some optimizations to get more than 99% of accuracy. The best model can get to over 99.7% accuracy! \n",
    "\n",
    "For more information, have a look at this list of results : http://rodrigob.github.io/are_we_there_yet/build/classification_datasets_results.html"
   ]
  },
  {
   "cell_type": "markdown",
   "metadata": {},
   "source": [
    "\n",
    "<img src=\"lenet.png\",width=\"800\" height=\"600\" align=\"center\">\n",
    "<center><span>Figure 1: Lenet 5 </span></center>\n",
    "\n",
    "\n",
    "\n",
    "\n",
    "\n",
    "The LeNet architecture accepts a 32x32xC image as input, where C is the number of color channels. Since MNIST images are grayscale, C is 1 in this case.\n",
    "\n",
    "--------------------------\n",
    "**Layer 1: Convolutional.** The output shape should be 28x28x6 **Activation.** sigmoid **Pooling.** The output shape should be 14x14x6.\n",
    "\n",
    "**Layer 2: Convolutional.** The output shape should be 10x10x16. **Activation.** sigmoid **Pooling.** The output shape should be 5x5x16.\n",
    "\n",
    "**Flatten.** Flatten the output shape of the final pooling layer such that it's 1D instead of 3D.  You may need to use **flatten** `from tensorflow.contrib.layers import flatten`\n",
    "\n",
    "**Layer 3: Fully Connected.** This should have 120 outputs. **Activation.** sigmoid\n",
    "\n",
    "**Layer 4: Fully Connected.** This should have 84 outputs. **Activation.** sigmoid\n",
    "\n",
    "**Layer 5: Fully Connected.** This should have 10 outputs. **Activation.** SoftMax"
   ]
  },
  {
   "cell_type": "markdown",
   "metadata": {},
   "source": [
    "<b> Question 2.1.1 </b>  Implement the Neural Network architecture described above.\n",
    "For that, your will use classes and functions from  https://www.tensorflow.org/api_docs/python/tf/nn. \n",
    "\n",
    "We give you some helper functions for weigths and bias initilization. Also you can refer to section 1. \n"
   ]
  },
  {
   "cell_type": "code",
   "execution_count": 3,
   "metadata": {
    "collapsed": true
   },
   "outputs": [],
   "source": [
    "# Helper functions  for weigths and bias initilization \n",
    "\n",
    "def weight_variable(shape):\n",
    "    initial = tf.truncated_normal(shape, stddev=0.1)\n",
    "    return tf.Variable(initial)\n",
    "\n",
    "def bias_variable(shape):\n",
    "    initial = tf.constant(0.1, shape=shape)\n",
    "    return tf.Variable(initial)"
   ]
  },
  {
   "cell_type": "code",
   "execution_count": 4,
   "metadata": {
    "collapsed": true
   },
   "outputs": [],
   "source": [
    "from tensorflow.contrib.layers import flatten\n",
    "\n",
    "def LeNet5_Model(data, keep_prob, activation=tf.nn.sigmoid):    \n",
    "    conv_1 = tf.nn.conv2d(data, weight_variable([5, 5, 1, 6]), [1, 1, 1, 1], 'VALID', name='conv_1')\n",
    "    conv_1 = activation(conv_1 + bias_variable([24, 24, 6]), name='activation_conv_1')\n",
    "    conv_1 = tf.nn.max_pool(conv_1, [1, 2, 2, 1], [1, 2, 2, 1], 'VALID')\n",
    "        \n",
    "    conv_2 = tf.nn.conv2d(conv_1, weight_variable([5, 5, 6, 16]), [1, 1, 1, 1], 'VALID', name='conv_2')\n",
    "    conv_2 = activation(conv_2 + bias_variable([8, 8, 16]), name='activation_conv_2')\n",
    "    conv_2 = tf.nn.max_pool(conv_2, [1, 2, 2, 1], [1, 2, 2, 1], 'VALID')\n",
    "    \n",
    "    flat = flatten(conv_2)\n",
    "    \n",
    "    layer_3 = tf.nn.dropout(activation(tf.matmul(flat, weight_variable([256, 120])) + bias_variable([1, 120]),\n",
    "                                       name='activation_layer_3'),\n",
    "                            keep_prob=keep_prob, name='dropout_layer_3')\n",
    "    layer_4 = tf.nn.dropout(activation(tf.matmul(layer_3, weight_variable([120, 84])) + bias_variable([1, 84]),\n",
    "                                       name='activation_layer_4'),\n",
    "                            keep_prob=keep_prob, name='dropout_layer_4')\n",
    "    layer_5 = tf.matmul(layer_4, weight_variable([84, 10])) + bias_variable([1, 10])\n",
    "    return tf.nn.softmax(layer_5, name='output_layer')"
   ]
  },
  {
   "cell_type": "markdown",
   "metadata": {},
   "source": [
    "<b> Question 2.1.2. </b>  Calculate the number of parameters of this model "
   ]
  },
  {
   "cell_type": "markdown",
   "metadata": {
    "collapsed": true
   },
   "source": [
    "**Number of parameters in the model**  \n",
    "We have 50000 images, of size 28x28x1, on which sometimes the dropout gets applied, so we need to multiply this by the keep factor --> 50000 x 28 x 28 x 1 x keep_factor = 39200000 x keep_factor\n",
    "\n",
    "**Comment on the parameters chosen above**  \n",
    "We start from images of dimension 28x28, on which we apply the convolutional layer. In this layer, we use a 5x5 filter, and since the image is not RGB, we use only one channel. As depicted in the picture above, we want to obtain 6 images, so we will use as filter [5,5,1,6]. The stride will be set to 1, so we will end up with 6 images, each 24x24. On these, we will apply the pooling layer, with a filter of [1,2,2,1], indicating the size of the window for each of the 4 dimensions of the convolutional layer ([batch, height, width, channels]). The same idea is applied to the following convolutional and max pooling layer. We can also notice how we introduced the dropout layers, that fit with the shape of the layer they come after, and have a parameter, keep_prob, that is going to be set to 1.0 each time it is not necessary to apply it.\n",
    " \n",
    " https://www.tensorflow.org/api_docs/python/tf/nn/conv2d\n",
    " https://www.tensorflow.org/api_docs/python/tf/nn/max_pool"
   ]
  },
  {
   "cell_type": "markdown",
   "metadata": {},
   "source": [
    "<b> Question 2.1.3. </b>  Start the training with the parameters cited below:\n",
    "\n",
    "     Learning rate = 0.1\n",
    "     Loss Function: Cross entropy\n",
    "     Optimisateur: SGD\n",
    "     Number of training iterations = 10000\n",
    "     The batch size = 128"
   ]
  },
  {
   "cell_type": "code",
   "execution_count": 9,
   "metadata": {
    "collapsed": true
   },
   "outputs": [],
   "source": [
    "# Training parameters \n",
    "learning_rate = 0.1\n",
    "batch_size = 128\n",
    "training_epochs = 200\n",
    "display_step = 5\n",
    "logs_path = 'log_files/'  # useful for tensorboard"
   ]
  },
  {
   "cell_type": "markdown",
   "metadata": {},
   "source": [
    "<b> Question 2.1.4. </b>  Implement the evaluation function for accuracy computation "
   ]
  },
  {
   "cell_type": "code",
   "execution_count": 6,
   "metadata": {
    "collapsed": true
   },
   "outputs": [],
   "source": [
    "def evaluate(model, y):\n",
    "    # Accuracy\n",
    "    acc = tf.equal(tf.argmax(model, 1), tf.argmax(y, 1))\n",
    "    acc = tf.reduce_mean(tf.cast(acc, tf.float32))\n",
    "    return acc"
   ]
  },
  {
   "cell_type": "markdown",
   "metadata": {},
   "source": [
    "<b> Question 2.1.5. </b>  Implement training pipeline and run the training data through it to train the model.\n",
    "\n",
    "- Before each epoch, shuffle the training set. \n",
    "- Print the loss per mini batch and the training/validation accuracy per epoch. (Display results every 100 epochs)\n",
    "- Save the model after training\n",
    "- Print after training the final testing accuracy \n",
    "\n"
   ]
  },
  {
   "cell_type": "code",
   "execution_count": 7,
   "metadata": {
    "collapsed": true,
    "scrolled": false
   },
   "outputs": [],
   "source": [
    "import time\n",
    "\n",
    "def train(learning_rate=0.1, optimizer_function=tf.train.GradientDescentOptimizer, batch_size=128, \n",
    "          training_epochs=50, drop_out=1.0, activation=tf.nn.sigmoid, display_step=5):\n",
    "    tf.reset_default_graph()\n",
    "\n",
    "    # tf Graph Input:  mnist data image of shape 28*28=784\n",
    "    x = tf.placeholder(tf.float32, [None, 28, 28, 1], name='InputData')\n",
    "    # 0-9 digits recognition,  10 classes\n",
    "    y = tf.placeholder(tf.float32, [None, 10], name='LabelData')\n",
    "    keep_prob = tf.placeholder(tf.float32)\n",
    "\n",
    "    # Construct model and encapsulating all ops into scopes, making Tensorboard's Graph visualization more convenient\n",
    "    with tf.name_scope('Model'):\n",
    "        # Model\n",
    "        model = LeNet5_Model(x, keep_prob, activation)\n",
    "    with tf.name_scope('LeNet_Loss'):\n",
    "        # Minimize error using cross entropy\n",
    "        cost = tf.reduce_mean(-tf.reduce_sum(y*tf.log(model), reduction_indices=1))\n",
    "    with tf.name_scope('SGD'):\n",
    "        # Gradient Descent\n",
    "        optimizer = optimizer_function(learning_rate).minimize(cost)\n",
    "    with tf.name_scope('LeNet_Accuracy'):\n",
    "        acc = tf.equal(tf.argmax(model, 1), tf.argmax(y, 1))\n",
    "        acc = tf.reduce_mean(tf.cast(acc, tf.float32))\n",
    "\n",
    "    # Initializing the variables\n",
    "    init = tf.global_variables_initializer()\n",
    "    # Create a summary to monitor cost tensor\n",
    "    tf.summary.scalar(\"LeNet_Loss\", cost)\n",
    "    # Create a summary to monitor accuracy tensor\n",
    "    tf.summary.scalar(\"LeNet_Accuracy\", acc)\n",
    "    # Merge all summaries into a single op\n",
    "    merged_summary_op = tf.summary.merge_all()\n",
    "    \n",
    "    losses = []\n",
    "    val_accuracies = []\n",
    "    \n",
    "    # Initializing the session \n",
    "    print (\"Start Training!\")\n",
    "    t0 = time.time()\n",
    "    \n",
    "    with tf.Session() as sess:\n",
    "        sess.run(init)\n",
    "        # op to write logs to Tensorboard\n",
    "        summary_writer = tf.summary.FileWriter(logs_path, graph=tf.get_default_graph())\n",
    "        # Training cycle\n",
    "        for epoch in range(training_epochs):\n",
    "            avg_cost = 0.\n",
    "            total_batch = int(mnist.train.num_examples / batch_size)\n",
    "            # Loop over all batches\n",
    "            for i in range(total_batch):\n",
    "                batch_xs, batch_ys = mnist.train.next_batch(batch_size)\n",
    "                batch_xs = batch_xs.reshape([-1, 28, 28, 1])\n",
    "                # Run optimization op (backprop), cost op (to get loss value)\n",
    "                # and summary nodes\n",
    "                _, c, summary = sess.run([optimizer, cost, merged_summary_op],\n",
    "                                         feed_dict={x: batch_xs, y: batch_ys, keep_prob: drop_out})\n",
    "                # Write logs at every iteration\n",
    "                summary_writer.add_summary(summary, epoch * total_batch + i)\n",
    "                # Compute average loss\n",
    "                avg_cost += c / total_batch\n",
    "                losses.append(avg_cost)\n",
    "            # Display logs per epoch step\n",
    "            if (epoch + 1) % display_step == 0:\n",
    "                print(\"Epoch: \", '%02d' % (epoch+1), \"  =====> Loss =\", \"{:.9f}\".format(avg_cost))\n",
    "            if (epoch + 1) % 10 == 0:\n",
    "                val_acc = acc.eval({x: mnist.validation.images.reshape([-1, 28, 28, 1]), y: mnist.validation.labels, keep_prob: 1.0})\n",
    "                val_accuracies.append(val_acc)\n",
    "                print(\" Validation Accuracy\", val_acc)\n",
    "        \n",
    "        accuracy = acc.eval({x: mnist.test.images.reshape([-1, 28, 28, 1]), y: mnist.test.labels, keep_prob: 1.0})\n",
    "        print(\"Test Accuracy:\", acc)\n",
    "\n",
    "    t = time.time() - t0\n",
    "    print (\"Training Finished!\")\n",
    "    return model, losses, accuracy, val_accuracies, t"
   ]
  },
  {
   "cell_type": "code",
   "execution_count": 16,
   "metadata": {
    "scrolled": false
   },
   "outputs": [
    {
     "name": "stdout",
     "output_type": "stream",
     "text": [
      "Start Training!\n",
      "Epoch:  05   =====> Loss = 2.303681664\n",
      "Epoch:  10   =====> Loss = 1.985473893\n",
      " Validation Accuracy 0.5386\n",
      "Epoch:  15   =====> Loss = 0.348670271\n",
      "Epoch:  20   =====> Loss = 0.197566728\n",
      " Validation Accuracy 0.945\n",
      "Epoch:  25   =====> Loss = 0.143798197\n",
      "Epoch:  30   =====> Loss = 0.118059446\n",
      " Validation Accuracy 0.969\n",
      "Epoch:  35   =====> Loss = 0.097290927\n",
      "Epoch:  40   =====> Loss = 0.083829200\n",
      " Validation Accuracy 0.9758\n",
      "Epoch:  45   =====> Loss = 0.075145381\n",
      "Epoch:  50   =====> Loss = 0.068835146\n",
      " Validation Accuracy 0.9774\n",
      "Epoch:  55   =====> Loss = 0.062221851\n",
      "Epoch:  60   =====> Loss = 0.057811255\n",
      " Validation Accuracy 0.98\n",
      "Epoch:  65   =====> Loss = 0.053389792\n",
      "Epoch:  70   =====> Loss = 0.050435040\n",
      " Validation Accuracy 0.9822\n",
      "Epoch:  75   =====> Loss = 0.045134243\n",
      "Epoch:  80   =====> Loss = 0.044510402\n",
      " Validation Accuracy 0.983\n",
      "Epoch:  85   =====> Loss = 0.041094452\n",
      "Epoch:  90   =====> Loss = 0.039796579\n",
      " Validation Accuracy 0.9836\n",
      "Epoch:  95   =====> Loss = 0.036995962\n",
      "Epoch:  100   =====> Loss = 0.035716341\n",
      " Validation Accuracy 0.9852\n",
      "Epoch:  105   =====> Loss = 0.034872841\n",
      "Epoch:  110   =====> Loss = 0.031499830\n",
      " Validation Accuracy 0.9852\n",
      "Epoch:  115   =====> Loss = 0.029724281\n",
      "Epoch:  120   =====> Loss = 0.029957623\n",
      " Validation Accuracy 0.9856\n",
      "Epoch:  125   =====> Loss = 0.028280137\n",
      "Epoch:  130   =====> Loss = 0.027243593\n",
      " Validation Accuracy 0.9864\n",
      "Epoch:  135   =====> Loss = 0.026993929\n",
      "Epoch:  140   =====> Loss = 0.024402443\n",
      " Validation Accuracy 0.9868\n",
      "Epoch:  145   =====> Loss = 0.024460227\n",
      "Epoch:  150   =====> Loss = 0.022971060\n",
      " Validation Accuracy 0.9866\n",
      "Epoch:  155   =====> Loss = 0.021923270\n",
      "Epoch:  160   =====> Loss = 0.020686504\n",
      " Validation Accuracy 0.987\n",
      "Epoch:  165   =====> Loss = 0.020386214\n",
      "Epoch:  170   =====> Loss = 0.019141773\n",
      " Validation Accuracy 0.9862\n",
      "Epoch:  175   =====> Loss = 0.018210012\n",
      "Epoch:  180   =====> Loss = 0.017583150\n",
      " Validation Accuracy 0.987\n",
      "Epoch:  185   =====> Loss = 0.016085117\n",
      "Epoch:  190   =====> Loss = 0.015225766\n",
      " Validation Accuracy 0.9876\n",
      "Epoch:  195   =====> Loss = 0.016034210\n",
      "Epoch:  200   =====> Loss = 0.015234593\n",
      " Validation Accuracy 0.9874\n",
      "Test Accuracy: Tensor(\"LeNet_Accuracy/Mean:0\", shape=(), dtype=float32)\n",
      "Training Finished!\n",
      "Total time 5219.180213212967\n"
     ]
    },
    {
     "data": {
      "image/png": "[encoded data removed]",
      "text/plain": [
       "<matplotlib.figure.Figure at 0x2b5c9a91ff60>"
      ]
     },
     "metadata": {},
     "output_type": "display_data"
    }
   ],
   "source": [
    "model, _, _, accuracies, t = train(learning_rate, tf.train.GradientDescentOptimizer,\n",
    "                                   batch_size, training_epochs, display_step=5)\n",
    "print('Total time', t)\n",
    "\n",
    "plt.figure(figsize=(15,5))\n",
    "plt.ylabel(\"validation accuracy\")\n",
    "plt.plot(accuracies)\n",
    "plt.show()"
   ]
  },
  {
   "cell_type": "markdown",
   "metadata": {},
   "source": [
    "<b> Question 2.1.6 </b> : Use tensorBoard to visualise and save the LeNet5 Graph and all learning curves. \n",
    "Save all obtained figures in the folder **\"TP2/MNIST_99_Challenge_Figures\"**"
   ]
  },
  {
   "cell_type": "markdown",
   "metadata": {},
   "source": [
    "<img src=\"MNIST_99_Challenge_Figures/main_graph.png\",width=\"800\" height=\"600\" align=\"center\">\n",
    "<center><span>Figure 2: Main Graph</span></center>"
   ]
  },
  {
   "cell_type": "markdown",
   "metadata": {
    "collapsed": true
   },
   "source": [
    "<img src=\"MNIST_99_Challenge_Figures/graph_run=.png\",width=\"1000\" height=\"900\" align=\"center\">\n",
    "<center><span>Figure 3: Model</span></center>"
   ]
  },
  {
   "cell_type": "markdown",
   "metadata": {
    "collapsed": true
   },
   "source": [
    "We can see how the performance has increased with respect to the previously proposed code, reaching 98% on both validation and test sets."
   ]
  },
  {
   "cell_type": "markdown",
   "metadata": {},
   "source": [
    "<b> Part 2 </b> : LeNET 5 Optimization"
   ]
  },
  {
   "cell_type": "markdown",
   "metadata": {},
   "source": [
    "\n",
    "<b> Question 2.2.1 </b>  Change the sigmoid function with a Relu :\n",
    "\n",
    "- Retrain your network with SGD and AdamOptimizer and then fill the table above  :\n",
    "\n",
    "\n",
    "| Optimizer            |  Gradient Descent         |AdamOptimizer |\n",
    "| -------------        |: -------------: | ---------:   \n",
    "| Validation Accuracy  |         |    |      \n",
    "| Testing Accuracy     |           |    |       \n",
    "| Training Time        |           |        |  |  \n",
    "\n",
    "\n",
    "- Try with different learning rates for each Optimizer (0.0001 and 0.001 ) and different Batch sizes (50 and 128) for 20000 Epochs. \n",
    "\n",
    "- For each optimizer, plot (on the same curve) the **testing accuracies** function to **(learning rate, batch size)** \n",
    "\n",
    "\n",
    "\n",
    "- Did you reach the 99% accuracy ? What are the optimal parametres that gave you the best results? \n",
    "\n",
    "\n",
    "\n",
    "\n",
    "\n",
    "\n"
   ]
  },
  {
   "cell_type": "code",
   "execution_count": null,
   "metadata": {
    "scrolled": false
   },
   "outputs": [
    {
     "name": "stdout",
     "output_type": "stream",
     "text": [
      "Training with optimizer: <class 'tensorflow.python.training.gradient_descent.GradientDescentOptimizer'>\n",
      "learning rate: 0.100000\n",
      "batch size: 128\n",
      "Start Training!\n",
      "Epoch:  05   =====> Loss = 0.048310628\n",
      "Epoch:  10   =====> Loss = 0.026256751\n",
      " Validation Accuracy 0.982\n",
      "Epoch:  15   =====> Loss = 0.015347749\n",
      "Epoch:  20   =====> Loss = 0.010333216\n",
      " Validation Accuracy 0.9852\n",
      "Epoch:  25   =====> Loss = 0.005060173\n",
      "Epoch:  30   =====> Loss = nan\n",
      " Validation Accuracy 0.0958\n",
      "Epoch:  35   =====> Loss = nan\n"
     ]
    }
   ],
   "source": [
    "optimizers = [tf.train.GradientDescentOptimizer, tf.train.AdamOptimizer]\n",
    "learning_rates = [0.1, 0.001, 0.0001]\n",
    "batch_sizes = [128, 50]\n",
    "epochs = 200\n",
    "\n",
    "results = []\n",
    "a = []\n",
    "x = []\n",
    "\n",
    "for optimizer in optimizers:\n",
    "    for learning_rate in learning_rates:\n",
    "        for batch_size in batch_sizes:\n",
    "            print(\"Training with optimizer: %s\\nlearning rate: %f\\nbatch size: %d\" %(optimizer, learning_rate, batch_size))\n",
    "            model, losses, accuracy, validation, t = train(learning_rate, optimizer, batch_size, epochs, activation=tf.nn.relu)\n",
    "            results.append((optimizer, learning_rate, batch_size, model, losses, accuracy, validation, t))"
   ]
  },
  {
   "cell_type": "code",
   "execution_count": null,
   "metadata": {
    "collapsed": true
   },
   "outputs": [],
   "source": [
    "for touple in results:\n",
    "    a.append(touple[5])\n",
    "    x.append(\"%.2f, %d\" %(touple[1], touple[2]))\n",
    "plt.figure(figsize=(15,5))\n",
    "plt.xlabel(\"learning rate, batch size\")\n",
    "plt.ylabel(\"testing accuracy\")\n",
    "plt.plot(a)\n",
    "plt.xticks(np.arange(len(x)), x, size='small')\n",
    "plt.show()"
   ]
  },
  {
   "cell_type": "markdown",
   "metadata": {},
   "source": [
    "<b> Question 2.2.2 </b>  What about applying a dropout layer on the Fully conntected layer and then retraining the model with the best Optimizer and parameters(Learning rate and Batsh size) obtained in *Question 2.2.1*  ? (probability to keep units=0.75). For this stage ensure that the keep prob is set to 1.0 to evaluate the \n",
    "performance of the network including all nodes."
   ]
  },
  {
   "cell_type": "code",
   "execution_count": null,
   "metadata": {
    "collapsed": true
   },
   "outputs": [],
   "source": [
    "\n",
    "model, (losses, accuracy) = create_model(learning_rate, optimizer, batch_size, epochs, 0.75)"
   ]
  },
  {
   "cell_type": "code",
   "execution_count": null,
   "metadata": {
    "collapsed": true
   },
   "outputs": [],
   "source": [
    "Your comments go here"
   ]
  }
 ],
 "metadata": {
  "anaconda-cloud": {},
  "kernelspec": {
   "display_name": "Python 3",
   "language": "python",
   "name": "python3"
  },
  "language_info": {
   "codemirror_mode": {
    "name": "ipython",
    "version": 3
   },
   "file_extension": ".py",
   "mimetype": "text/x-python",
   "name": "python",
   "nbconvert_exporter": "python",
   "pygments_lexer": "ipython3",
   "version": "3.5.3"
  },
  "widgets": {
   "state": {},
   "version": "1.1.2"
  }
 },
 "nbformat": 4,
 "nbformat_minor": 1
}

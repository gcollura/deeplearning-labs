{
 "cells": [
  {
   "cell_type": "markdown",
   "metadata": {},
   "source": [
    "## Deep Learning\n",
    "# Lab Session 3 - 3 Hours\n",
    "## Long Short Term Memory (LSTM) for Language Modeling"
   ]
  },
  {
   "cell_type": "markdown",
   "metadata": {},
   "source": [
    "### Student 1: Collura  \n",
    "### Student 2: Spano\n",
    " \n",
    " \n",
    "In this Lab Session,  you will build and train a Recurrent Neural Network, based on Long Short-Term Memory (LSTM) units for next word prediction task. \n",
    "\n",
    "Answers and experiments should be made by groups of one or two students. Each group should fill and run appropriate notebook cells. \n",
    "Once you have completed all of the code implementations and successfully answered each question above, you may finalize your work by exporting the iPython Notebook as an pdf document using print as PDF (Ctrl+P). Do not forget to run all your cells before generating your final report and do not forget to include the names of all participants in the group. The lab session should be completed by June 9th 2017.\n",
    "\n",
    "Send you pdf file to benoit.huet@eurecom.fr and olfa.ben-ahmed@eurecom.fr using **[DeepLearning_lab3]** as Subject of your email."
   ]
  },
  {
   "cell_type": "markdown",
   "metadata": {},
   "source": [
    "#  Introduction"
   ]
  },
  {
   "cell_type": "markdown",
   "metadata": {},
   "source": [
    "You will train a LSTM to predict the next word using a sample short story. The LSTM will learn to predict the next item of a sentence from the 3 previous items (given as input). Ponctuation marks are considered as dictionnary items so they can be predicted too. Figure 1 shows the LSTM and the process of next word prediction. \n",
    "\n",
    "<img src=\"lstm.png\" height=\"370\" width=\"370\"> \n",
    "\n",
    "\n",
    "Each word (and ponctuation) from text sentences is encoded by a unique integer. The integer value corresponds to the index of the corresponding word (or punctuation mark) in the dictionnary. The network output is a one-hot-vector indicating the index of the predicted word in the reversed dictionnary (Section 1.2). For example if the prediction is 86, the predicted word will be \"company\". \n",
    "\n",
    "\n",
    "\n",
    "You will use a sample short story from Aesop’s Fables (http://www.taleswithmorals.com/) to train your model. \n"
   ]
  },
  {
   "cell_type": "markdown",
   "metadata": {},
   "source": [
    "<font size=\"3\" face=\"verdana\" > <i> \"There was once a young Shepherd Boy who tended his sheep at the foot of a mountain near a dark forest.\n",
    "\n",
    "It was rather lonely for him all day, so he thought upon a plan by which he could get a little company and some excitement.\n",
    "He rushed down towards the village calling out \"Wolf, Wolf,\" and the villagers came out to meet him, and some of them stopped with him for a considerable time.\n",
    "This pleased the boy so much that a few days afterwards he tried the same trick, and again the villagers came to his help.\n",
    "But shortly after this a Wolf actually did come out from the forest, and began to worry the sheep, and the boy of course cried out \"Wolf, Wolf,\" still louder than before.\n",
    "But this time the villagers, who had been fooled twice before, thought the boy was again deceiving them, and nobody stirred to come to his help.\n",
    "So the Wolf made a good meal off the boy's flock, and when the boy complained, the wise man of the village said:\n",
    "\"A liar will not be believed, even when he speaks the truth.\"  \"</i> </font>.    \n",
    "\n",
    "\n",
    "\n",
    "\n",
    "\n"
   ]
  },
  {
   "cell_type": "markdown",
   "metadata": {},
   "source": [
    "Start by loading the necessary libraries and resetting the default computational graph. For more details about the rnn packages, we suggest you to take a look at https://www.tensorflow.org/api_guides/python/contrib.rnn"
   ]
  },
  {
   "cell_type": "code",
   "execution_count": 1,
   "metadata": {
    "collapsed": true
   },
   "outputs": [],
   "source": [
    "import numpy as np\n",
    "import collections # used to build the dictionary\n",
    "import random\n",
    "import time\n",
    "import pickle # may be used to save your model \n",
    "%matplotlib inline\n",
    "import matplotlib.pyplot as plt\n",
    "#Import Tensorflow and rnn\n",
    "import tensorflow as tf\n",
    "from tensorflow.contrib import rnn  \n",
    "\n",
    "# Target log path\n",
    "logs_path = 'lstm_words'\n",
    "writer = tf.summary.FileWriter(logs_path)"
   ]
  },
  {
   "cell_type": "markdown",
   "metadata": {},
   "source": [
    "# Next-word prediction task"
   ]
  },
  {
   "cell_type": "markdown",
   "metadata": {
    "collapsed": true
   },
   "source": [
    "## Part 1: Data  preparation"
   ]
  },
  {
   "cell_type": "markdown",
   "metadata": {
    "collapsed": true
   },
   "source": [
    "### 1.1. Loading data"
   ]
  },
  {
   "cell_type": "markdown",
   "metadata": {},
   "source": [
    "Load and split the text of our story"
   ]
  },
  {
   "cell_type": "code",
   "execution_count": 2,
   "metadata": {},
   "outputs": [
    {
     "name": "stdout",
     "output_type": "stream",
     "text": [
      "['there' 'was' 'once' 'a' 'young' 'shepherd' 'boy' 'who' 'tended' 'his'\n",
      " 'sheep' 'at' 'the' 'foot' 'of' 'a' 'mountain' 'near' 'a' 'dark' 'forest'\n",
      " '.' 'it' 'was' 'rather' 'lonely' 'for' 'him' 'all' 'day' ',' 'so' 'he'\n",
      " 'thought' 'upon' 'a' 'plan' 'by' 'which' 'he' 'could' 'get' 'a' 'little'\n",
      " 'company' 'and' 'some' 'excitement' '.' 'he' 'rushed' 'down' 'towards'\n",
      " 'the' 'village' 'calling' 'out' 'wolf' ',' 'wolf' ',' 'and' 'the'\n",
      " 'villagers' 'came' 'out' 'to' 'meet' 'him' ',' 'and' 'some' 'of' 'them'\n",
      " 'stopped' 'with' 'him' 'for' 'a' 'considerable' 'time' '.' 'this'\n",
      " 'pleased' 'the' 'boy' 'so' 'much' 'that' 'a' 'few' 'days' 'afterwards'\n",
      " 'he' 'tried' 'the' 'same' 'trick' ',' 'and' 'again' 'the' 'villagers'\n",
      " 'came' 'to' 'his' 'help' '.' 'but' 'shortly' 'after' 'this' 'a' 'wolf'\n",
      " 'actually' 'did' 'come' 'out' 'from' 'the' 'forest' ',' 'and' 'began' 'to'\n",
      " 'worry' 'the' 'sheep,' 'and' 'the' 'boy' 'of' 'course' 'cried' 'out'\n",
      " 'wolf' ',' 'wolf' ',' 'still' 'louder' 'than' 'before' '.' 'but' 'this'\n",
      " 'time' 'the' 'villagers' ',' 'who' 'had' 'been' 'fooled' 'twice' 'before'\n",
      " ',' 'thought' 'the' 'boy' 'was' 'again' 'deceiving' 'them' ',' 'and'\n",
      " 'nobody' 'stirred' 'to' 'come' 'to' 'his' 'help' '.' 'so' 'the' 'wolf'\n",
      " 'made' 'a' 'good' 'meal' 'off' 'the' \"boy's\" 'flock' ',' 'and' 'when'\n",
      " 'the' 'boy' 'complained' ',' 'the' 'wise' 'man' 'of' 'the' 'village'\n",
      " 'said' ':' 'a' 'liar' 'will' 'not' 'be' 'believed' ',' 'even' 'when' 'he'\n",
      " 'speaks' 'the' 'truth' '.']\n",
      "Loaded training data...\n",
      "214\n"
     ]
    }
   ],
   "source": [
    "def load_data(filename):\n",
    "    with open(filename) as f:\n",
    "        data = f.readlines()\n",
    "    data = [x.strip().lower() for x in data]\n",
    "    data = [data[i].split() for i in range(len(data))]\n",
    "    data = np.array(data)\n",
    "    data = np.reshape(data, [-1, ])\n",
    "    print(data)\n",
    "    return data\n",
    "\n",
    "#Run the cell \n",
    "train_file ='data/story.txt'\n",
    "train_data = load_data(train_file)\n",
    "print(\"Loaded training data...\")\n",
    "print(len(train_data))"
   ]
  },
  {
   "cell_type": "markdown",
   "metadata": {},
   "source": [
    "### 1.2. Symbols encoding"
   ]
  },
  {
   "cell_type": "markdown",
   "metadata": {},
   "source": [
    "The LSTM input's can only be numbers. A way to convert words (symbols or any items) to numbers is to assign a unique integer to each word. This process is often based on frequency of occurrence for efficient coding purpose.\n",
    "\n",
    "Here, we define a function to build an indexed word dictionary (word->number). The \"build_vocabulary\" function builds both:\n",
    "\n",
    "- Dictionary : used for encoding words to numbers for the LSTM inputs \n",
    "- Reverted dictionnary : used for decoding the outputs of the LSTM into words (and punctuation).\n",
    "\n",
    "For example, in the story above, we have **113** individual words. The \"build_vocabulary\" function builds a dictionary with the following entries ['the': 0], [',': 1], ['company': 85],...\n"
   ]
  },
  {
   "cell_type": "code",
   "execution_count": 3,
   "metadata": {
    "collapsed": true
   },
   "outputs": [],
   "source": [
    "def build_vocabulary(words):\n",
    "    count = collections.Counter(words).most_common()\n",
    "    dic= dict()\n",
    "    for word, _ in count:\n",
    "        dic[word] = len(dic)\n",
    "    reverse_dic = dict(zip(dic.values(), dic.keys()))\n",
    "    return dic, reverse_dic"
   ]
  },
  {
   "cell_type": "markdown",
   "metadata": {},
   "source": [
    "Run the cell below to display the vocabulary"
   ]
  },
  {
   "cell_type": "code",
   "execution_count": 4,
   "metadata": {
    "scrolled": false
   },
   "outputs": [
    {
     "name": "stdout",
     "output_type": "stream",
     "text": [
      "Dictionary size (Vocabulary size) =  113\n",
      "\n",
      "\n",
      "Dictionary : \n",
      "\n",
      "{'this': 11, 'out': 9, 'truth': 32, 'towards': 33, 'mountain': 34, 'near': 35, 'it': 36, 'from': 37, 'but': 23, 'again': 17, 'began': 38, 'help': 18, 'meet': 75, 'some': 19, 'foot': 40, 'excitement': 43, 'calling': 90, 'upon': 44, 'when': 20, 'down': 45, 'speaks': 42, 'stopped': 47, 'few': 48, 'complained': 49, 'considerable': 50, 'plan': 46, 'pleased': 52, 'dark': 53, 'cried': 54, 'nobody': 55, 'once': 68, 'them': 21, 'sheep,': 56, \"boy's\": 59, 'louder': 60, 'wolf': 5, 'get': 106, 'was': 12, 'that': 62, 'than': 58, 'of': 10, 'at': 57, 'fooled': 63, 'did': 64, 'off': 73, 'worry': 65, 'deceiving': 108, 'with': 66, 'course': 67, 'who': 31, 'days': 70, 'so': 13, 'flock': 71, 'lonely': 72, 'not': 41, 'been': 74, 'stirred': 39, '.': 4, 'after': 76, 'his': 14, 'a': 2, 'for': 24, 'and': 3, 'village': 25, 'had': 77, 'came': 26, 'little': 78, 'young': 79, 'same': 80, 'rather': 81, 'shortly': 110, 'forest': 27, 'tended': 82, ':': 83, 'trick': 103, 'believed': 84, 'villagers': 15, 'meal': 85, 'time': 28, 'which': 87, 'sheep': 88, 'come': 29, 'twice': 89, 'could': 51, 'the': 0, 'day': 91, 'man': 92, 'there': 93, 'will': 94, 'to': 7, 'he': 6, 'even': 61, 'boy': 8, 'him': 16, 'wise': 96, ',': 1, 'still': 97, 'actually': 98, 'company': 99, 'by': 100, 'rushed': 101, 'much': 95, 'said': 102, 'thought': 22, 'before': 30, 'all': 104, 'tried': 105, 'be': 86, 'good': 107, 'shepherd': 109, 'afterwards': 69, 'liar': 111, 'made': 112}\n",
      "\n",
      "\n",
      "Reverted Dictionary : \n",
      "\n",
      "{0: 'the', 1: ',', 2: 'a', 3: 'and', 4: '.', 5: 'wolf', 6: 'he', 7: 'to', 8: 'boy', 9: 'out', 10: 'of', 11: 'this', 12: 'was', 13: 'so', 14: 'his', 15: 'villagers', 16: 'him', 17: 'again', 18: 'help', 19: 'some', 20: 'when', 21: 'them', 22: 'thought', 23: 'but', 24: 'for', 25: 'village', 26: 'came', 27: 'forest', 28: 'time', 29: 'come', 30: 'before', 31: 'who', 32: 'truth', 33: 'towards', 34: 'mountain', 35: 'near', 36: 'it', 37: 'from', 38: 'began', 39: 'stirred', 40: 'foot', 41: 'not', 42: 'speaks', 43: 'excitement', 44: 'upon', 45: 'down', 46: 'plan', 47: 'stopped', 48: 'few', 49: 'complained', 50: 'considerable', 51: 'could', 52: 'pleased', 53: 'dark', 54: 'cried', 55: 'nobody', 56: 'sheep,', 57: 'at', 58: 'than', 59: \"boy's\", 60: 'louder', 61: 'even', 62: 'that', 63: 'fooled', 64: 'did', 65: 'worry', 66: 'with', 67: 'course', 68: 'once', 69: 'afterwards', 70: 'days', 71: 'flock', 72: 'lonely', 73: 'off', 74: 'been', 75: 'meet', 76: 'after', 77: 'had', 78: 'little', 79: 'young', 80: 'same', 81: 'rather', 82: 'tended', 83: ':', 84: 'believed', 85: 'meal', 86: 'be', 87: 'which', 88: 'sheep', 89: 'twice', 90: 'calling', 91: 'day', 92: 'man', 93: 'there', 94: 'will', 95: 'much', 96: 'wise', 97: 'still', 98: 'actually', 99: 'company', 100: 'by', 101: 'rushed', 102: 'said', 103: 'trick', 104: 'all', 105: 'tried', 106: 'get', 107: 'good', 108: 'deceiving', 109: 'shepherd', 110: 'shortly', 111: 'liar', 112: 'made'}\n"
     ]
    }
   ],
   "source": [
    "dictionary, reverse_dictionary = build_vocabulary(train_data)\n",
    "vocabulary_size = len(dictionary) \n",
    "print(\"Dictionary size (Vocabulary size) = \", vocabulary_size)\n",
    "print(\"\\n\")\n",
    "print(\"Dictionary : \\n\")\n",
    "print(dictionary)\n",
    "print(\"\\n\")\n",
    "print(\"Reverted Dictionary : \\n\" )\n",
    "print(reverse_dictionary)"
   ]
  },
  {
   "cell_type": "markdown",
   "metadata": {},
   "source": [
    "## Part 2 : LSTM Model in TensorFlow"
   ]
  },
  {
   "cell_type": "markdown",
   "metadata": {},
   "source": [
    "Since you have defined how the data will be modeled, you are now to develop an LSTM model to predict the word of following a sequence of 3 words. "
   ]
  },
  {
   "cell_type": "markdown",
   "metadata": {},
   "source": [
    "### 2.1. Model definition"
   ]
  },
  {
   "cell_type": "markdown",
   "metadata": {},
   "source": [
    "Define a 2-layers LSTM model.  \n",
    "\n",
    "For this use the following classes from the tensorflow.contrib library:\n",
    "\n",
    "- rnn.BasicLSTMCell(number of hidden units) \n",
    "- rnn.static_rnn(rnn_cell, data, dtype=tf.float32)\n",
    "- rnn.MultiRNNCell(,)\n",
    "\n",
    "\n",
    "You may need some tensorflow functions (https://www.tensorflow.org/api_docs/python/tf/) :\n",
    "- tf.split\n",
    "- tf.reshape \n",
    "- ...\n",
    "\n",
    "\n"
   ]
  },
  {
   "cell_type": "code",
   "execution_count": 5,
   "metadata": {
    "collapsed": true
   },
   "outputs": [],
   "source": [
    "def lstm_model(x, w, b, n_hidden=265, n_input=3, n_layers=2):\n",
    "    x = tf.reshape(x, [-1, n_input])\n",
    "    x = tf.split(x, n_input, 1)\n",
    "\n",
    "    # n LSTM with n_hidden units.\n",
    "    rnn_cell = rnn.MultiRNNCell([rnn.BasicLSTMCell(n_hidden) for _ in range(n_layers)])\n",
    "\n",
    "    outputs, states = rnn.static_rnn(rnn_cell, x, dtype=tf.float32)\n",
    "    \n",
    "    return tf.matmul(outputs[-1], w['out']) + b['out']"
   ]
  },
  {
   "cell_type": "markdown",
   "metadata": {},
   "source": [
    "Training Parameters, constants the Loss/Cost and optimizer"
   ]
  },
  {
   "cell_type": "code",
   "execution_count": 10,
   "metadata": {
    "collapsed": true,
    "scrolled": true
   },
   "outputs": [],
   "source": [
    "def define_graph(learning_rate=0.001, n_input=3, n_layers=2, n_hidden=64):\n",
    "    \"\"\"\n",
    "    # Training Parameters\n",
    "    learning_rate = 0.001\n",
    "    epochs = 50000\n",
    "    display_step = 1000\n",
    "    n_input = 3\n",
    "    n_layers = 2\n",
    "    \n",
    "    # For each LSTM cell that you initialise, supply a value for the hidden dimension, number of units in LSTM cell\n",
    "    n_hidden = 64\n",
    "    \"\"\"\n",
    "    tf.reset_default_graph()\n",
    "\n",
    "    model_path = 'lstm_model/lstm-%d-%d' % (n_layers, n_input)\n",
    "\n",
    "    # tf Graph input\n",
    "    x = tf.placeholder(\"float\", [None, n_input, 1])\n",
    "    y = tf.placeholder(\"float\", [None, vocabulary_size])\n",
    "\n",
    "    # LSTM  weights and biases\n",
    "    weights = {'out': tf.Variable(tf.random_normal([n_hidden, vocabulary_size]))}\n",
    "    biases = {'out': tf.Variable(tf.random_normal([vocabulary_size]))}\n",
    "\n",
    "    # build the model\n",
    "    pred = lstm_model(x, weights, biases, n_hidden=n_hidden, n_input=n_input, n_layers=n_layers)\n",
    "\n",
    "    # Loss and optimizer\n",
    "    cost = tf.reduce_mean(tf.nn.softmax_cross_entropy_with_logits(logits=pred, labels=y))  # Cross Entropy loss\n",
    "    optimizer = tf.train.RMSPropOptimizer(learning_rate).minimize(cost)  # use RMSProp Optimizer\n",
    "\n",
    "    # Model evaluation\n",
    "    correct_pred = tf.equal(tf.argmax(pred, 1), tf.argmax(y, 1))\n",
    "    accuracy = tf.reduce_mean(tf.cast(correct_pred, tf.float32))\n",
    "    \n",
    "    return x, y, weights, biases, pred, cost, optimizer, correct_pred, accuracy, model_path"
   ]
  },
  {
   "cell_type": "markdown",
   "metadata": {
    "collapsed": true
   },
   "source": [
    "We give you here the Test Function"
   ]
  },
  {
   "cell_type": "code",
   "execution_count": 11,
   "metadata": {
    "collapsed": true
   },
   "outputs": [],
   "source": [
    "#run the cell\n",
    "def test(sentence, session, verbose=False):\n",
    "    sentence = sentence.strip()\n",
    "    words = sentence.split(' ')\n",
    "    if len(words) != n_input:\n",
    "        print(\"sentence length should be equal to\", n_input, \"!\")\n",
    "    try:\n",
    "        symbols_inputs = [dictionary[str(words[i - n_input])] for i in range(n_input)]\n",
    "        keys = np.reshape(np.array(symbols_inputs), [-1, n_input, 1])\n",
    "        onehot_pred = session.run(pred, feed_dict={x: keys})\n",
    "        onehot_pred_index = int(tf.argmax(onehot_pred, 1).eval())\n",
    "        words.append(reverse_dictionary[onehot_pred_index])\n",
    "        sentence = \" \".join(words)\n",
    "        if verbose:\n",
    "            print(sentence)\n",
    "        return reverse_dictionary[onehot_pred_index]\n",
    "    except:\n",
    "        print(\" \".join([\"Word\", words[i - n_input], \"not in dictionary\"]))"
   ]
  },
  {
   "cell_type": "markdown",
   "metadata": {},
   "source": [
    "## Part 3 : LSTM Training  "
   ]
  },
  {
   "cell_type": "markdown",
   "metadata": {},
   "source": [
    "In the Training process, at each epoch, 3 words are taken from the training data, encoded to integer to form the input vector. The training labels are one-hot vector encoding the word that comes after the 3 inputs words. Display the loss and the training accuracy every 1000 iteration. Save the model at the end of training in the **lstm_model** folder"
   ]
  },
  {
   "cell_type": "code",
   "execution_count": 12,
   "metadata": {
    "collapsed": true,
    "scrolled": false
   },
   "outputs": [],
   "source": [
    "def lstm_training(x, y, weights, biases, pred, cost, optimizer, correct_pred, \n",
    "                  accuracy, model_path, n_input, epochs=30000, display_step=1000):\n",
    "    # Initializing the variables\n",
    "    start_time = time.time()\n",
    "    init = tf.global_variables_initializer()\n",
    "    model_saver = tf.train.Saver()\n",
    "    \n",
    "    losses = []\n",
    "    accuracies = []\n",
    "\n",
    "    # Launch the graph\n",
    "    with tf.Session() as session:\n",
    "        session.run(init)\n",
    "\n",
    "        print(\"Start Training\")\n",
    "        step = 0\n",
    "        offset = random.randint(0, n_input + 1)\n",
    "        end_offset = n_input + 1\n",
    "        acc_total = 0\n",
    "        loss_total = 0\n",
    "\n",
    "        writer.add_graph(session.graph)\n",
    "\n",
    "        for step in range(epochs):\n",
    "            # Generate a minibatch. Add some randomness on selection process.\n",
    "            if offset > (len(train_data) - end_offset):\n",
    "                offset = random.randint(0, n_input + 1)\n",
    "\n",
    "            symbols_in_keys = [[dictionary[str(train_data[i])]] for i in range(offset, offset+n_input)]\n",
    "            symbols_in_keys = np.reshape(np.array(symbols_in_keys), [-1, n_input, 1])\n",
    "\n",
    "            symbols_out_onehot = np.zeros([vocabulary_size], dtype=float)\n",
    "            symbols_out_onehot[dictionary[str(train_data[offset+n_input])]] = 1.0\n",
    "            symbols_out_onehot = np.reshape(symbols_out_onehot,[1,-1])\n",
    "\n",
    "            _, acc, loss, onehot_pred = session.run([optimizer, accuracy, cost, pred], \\\n",
    "                                                    feed_dict={x: symbols_in_keys, y: symbols_out_onehot})\n",
    "            loss_total += loss\n",
    "            acc_total += acc\n",
    "            \n",
    "            if (step + 1) % display_step == 0:    \n",
    "                losses.append(loss_total / display_step)\n",
    "                accuracies.append(100 * acc_total / display_step)\n",
    "                \n",
    "                print(\"Iter = \" + str(step + 1) + \", Average Loss = \" + \\\n",
    "                      \"{:.6f}\".format(loss_total / display_step) + \", Average Accuracy = \" + \\\n",
    "                      \"{:.2f}%\".format(100 * acc_total / display_step))\n",
    "                acc_total = 0\n",
    "                loss_total = 0\n",
    "                symbols_in = [train_data[i] for i in range(offset, offset + n_input)]\n",
    "                symbols_out = train_data[offset + n_input]\n",
    "                symbols_out_pred = reverse_dictionary[int(tf.argmax(onehot_pred, 1).eval())]\n",
    "                print(\"%s - [%s] vs [%s]\" % (symbols_in,symbols_out,symbols_out_pred))\n",
    "            step += 1\n",
    "            offset += n_input + 1\n",
    "\n",
    "        print(\"End Of training Finished!\")\n",
    "        print(\"time: \",time.time() - start_time)\n",
    "        print(\"For tensorboard visualisation run on command line.\")\n",
    "        print(\"\\ttensorboard --logdir=%s\" % (logs_path))\n",
    "        print(\"and point your web browser to the returned link\")\n",
    "\n",
    "        # save your model \n",
    "        model_saver.save(session, model_path)\n",
    "        print(\"Model saved\")\n",
    "        \n",
    "        return losses, accuracies"
   ]
  },
  {
   "cell_type": "code",
   "execution_count": 13,
   "metadata": {
    "scrolled": false
   },
   "outputs": [
    {
     "name": "stdout",
     "output_type": "stream",
     "text": [
      "Start Training\n",
      "Iter = 1000, Average Loss = 4.463258, Average Accuracy = 6.50%\n",
      "['be', 'believed', ','] - [even] vs [when]\n",
      "Iter = 2000, Average Loss = 3.591176, Average Accuracy = 14.00%\n",
      "['said', ':', 'a'] - [liar] vs [foot]\n",
      "Iter = 3000, Average Loss = 2.974352, Average Accuracy = 27.00%\n",
      "['be', 'believed', ','] - [even] vs [boy's]\n",
      "Iter = 4000, Average Loss = 2.941588, Average Accuracy = 23.60%\n",
      "['he', 'speaks', 'the'] - [truth] vs [boy]\n",
      "Iter = 5000, Average Loss = 1.900931, Average Accuracy = 49.00%\n",
      "['once', 'a', 'young'] - [shepherd] vs [days]\n",
      "Iter = 6000, Average Loss = 2.187606, Average Accuracy = 40.80%\n",
      "['young', 'shepherd', 'boy'] - [who] vs [the]\n",
      "Iter = 7000, Average Loss = 1.711673, Average Accuracy = 52.10%\n",
      "['once', 'a', 'young'] - [shepherd] vs [shepherd]\n",
      "Iter = 8000, Average Loss = 1.251597, Average Accuracy = 64.90%\n",
      "['at', 'the', 'foot'] - [of] vs [of]\n",
      "Iter = 9000, Average Loss = 1.259011, Average Accuracy = 66.70%\n",
      "['a', 'mountain', 'near'] - [a] vs [.]\n",
      "Iter = 10000, Average Loss = 1.168199, Average Accuracy = 67.00%\n",
      "['even', 'when', 'he'] - [speaks] vs [speaks]\n",
      "Iter = 11000, Average Loss = 1.055139, Average Accuracy = 71.40%\n",
      "['foot', 'of', 'a'] - [mountain] vs [mountain]\n",
      "Iter = 12000, Average Loss = 0.784202, Average Accuracy = 77.00%\n",
      "['there', 'was', 'once'] - [a] vs [a]\n",
      "Iter = 13000, Average Loss = 0.686031, Average Accuracy = 80.00%\n",
      "['be', 'believed', ','] - [even] vs [boy's]\n",
      "Iter = 14000, Average Loss = 0.724753, Average Accuracy = 80.00%\n",
      "['village', 'said', ':'] - [a] vs [a]\n",
      "Iter = 15000, Average Loss = 0.597709, Average Accuracy = 83.60%\n",
      "['not', 'be', 'believed'] - [,] vs [,]\n",
      "Iter = 16000, Average Loss = 0.532250, Average Accuracy = 84.40%\n",
      "['a', 'liar', 'will'] - [not] vs [not]\n",
      "Iter = 17000, Average Loss = 0.479432, Average Accuracy = 86.80%\n",
      "['tended', 'his', 'sheep'] - [at] vs [at]\n",
      "Iter = 18000, Average Loss = 0.390668, Average Accuracy = 87.90%\n",
      "['tended', 'his', 'sheep'] - [at] vs [at]\n",
      "Iter = 19000, Average Loss = 0.450868, Average Accuracy = 86.90%\n",
      "['forest', '.', 'it'] - [was] vs [was]\n",
      "Iter = 20000, Average Loss = 0.322172, Average Accuracy = 90.10%\n",
      "['for', 'him', 'all'] - [day] vs [.]\n",
      "Iter = 21000, Average Loss = 0.467221, Average Accuracy = 86.20%\n",
      "['of', 'a', 'mountain'] - [near] vs [near]\n",
      "Iter = 22000, Average Loss = 0.418414, Average Accuracy = 88.60%\n",
      "[',', 'so', 'he'] - [thought] vs [thought]\n",
      "Iter = 23000, Average Loss = 0.292292, Average Accuracy = 91.00%\n",
      "['could', 'get', 'a'] - [little] vs [little]\n",
      "Iter = 24000, Average Loss = 0.410243, Average Accuracy = 87.60%\n",
      "['excitement', '.', 'he'] - [rushed] vs [rushed]\n",
      "Iter = 25000, Average Loss = 0.227661, Average Accuracy = 92.60%\n",
      "['he', 'rushed', 'down'] - [towards] vs [towards]\n",
      "Iter = 26000, Average Loss = 0.313968, Average Accuracy = 90.30%\n",
      "['village', 'calling', 'out'] - [wolf] vs [wolf]\n",
      "Iter = 27000, Average Loss = 0.306290, Average Accuracy = 91.30%\n",
      "['out', 'wolf', ','] - [wolf] vs [wolf]\n",
      "Iter = 28000, Average Loss = 0.264128, Average Accuracy = 93.10%\n",
      "['towards', 'the', 'village'] - [calling] vs [calling]\n",
      "Iter = 29000, Average Loss = 0.322010, Average Accuracy = 91.00%\n",
      "['wolf', ',', 'and'] - [the] vs [the]\n",
      "Iter = 30000, Average Loss = 0.275683, Average Accuracy = 92.30%\n",
      "['out', 'to', 'meet'] - [him] vs [him]\n",
      "Iter = 31000, Average Loss = 0.286637, Average Accuracy = 91.80%\n",
      "['village', 'calling', 'out'] - [wolf] vs [wolf]\n",
      "Iter = 32000, Average Loss = 0.262887, Average Accuracy = 91.80%\n",
      "['down', 'towards', 'the'] - [village] vs [village]\n",
      "Iter = 33000, Average Loss = 0.251124, Average Accuracy = 91.70%\n",
      "['the', 'villagers', 'came'] - [out] vs [to]\n",
      "Iter = 34000, Average Loss = 0.238950, Average Accuracy = 92.40%\n",
      "['towards', 'the', 'village'] - [calling] vs [calling]\n",
      "Iter = 35000, Average Loss = 0.214000, Average Accuracy = 93.00%\n",
      "['the', 'village', 'calling'] - [out] vs [out]\n",
      "Iter = 36000, Average Loss = 0.236239, Average Accuracy = 92.40%\n",
      "['calling', 'out', 'wolf'] - [,] vs [,]\n",
      "Iter = 37000, Average Loss = 0.254417, Average Accuracy = 92.20%\n",
      "['came', 'out', 'to'] - [meet] vs [meet]\n",
      "Iter = 38000, Average Loss = 0.190381, Average Accuracy = 93.70%\n",
      "['to', 'meet', 'him'] - [,] vs [,]\n",
      "Iter = 39000, Average Loss = 0.225763, Average Accuracy = 92.70%\n",
      "['wolf', ',', 'and'] - [the] vs [the]\n",
      "Iter = 40000, Average Loss = 0.187582, Average Accuracy = 94.40%\n",
      "['villagers', 'came', 'out'] - [to] vs [to]\n",
      "Iter = 41000, Average Loss = 0.182569, Average Accuracy = 94.20%\n",
      "['stopped', 'with', 'him'] - [for] vs [for]\n",
      "Iter = 42000, Average Loss = 0.194206, Average Accuracy = 94.20%\n",
      "['with', 'him', 'for'] - [a] vs [a]\n",
      "Iter = 43000, Average Loss = 0.177248, Average Accuracy = 94.60%\n",
      "['with', 'him', 'for'] - [a] vs [a]\n",
      "Iter = 44000, Average Loss = 0.138028, Average Accuracy = 95.40%\n",
      "['them', 'stopped', 'with'] - [him] vs [him]\n",
      "Iter = 45000, Average Loss = 0.179170, Average Accuracy = 94.70%\n",
      "['him', ',', 'and'] - [some] vs [some]\n",
      "Iter = 46000, Average Loss = 0.166527, Average Accuracy = 94.50%\n",
      "['him', ',', 'and'] - [some] vs [some]\n",
      "Iter = 47000, Average Loss = 0.193670, Average Accuracy = 94.20%\n",
      "['and', 'some', 'of'] - [them] vs [them]\n",
      "Iter = 48000, Average Loss = 0.173322, Average Accuracy = 93.80%\n",
      "['and', 'some', 'of'] - [them] vs [them]\n",
      "Iter = 49000, Average Loss = 0.150387, Average Accuracy = 94.40%\n",
      "['a', 'considerable', 'time'] - [.] vs [.]\n",
      "Iter = 50000, Average Loss = 0.154299, Average Accuracy = 95.80%\n",
      "['that', 'a', 'few'] - [days] vs [days]\n",
      "End Of training Finished!\n",
      "time:  100.35209107398987\n",
      "For tensorboard visualisation run on command line.\n",
      "\ttensorboard --logdir=lstm_words\n",
      "and point your web browser to the returned link\n",
      "Model saved\n"
     ]
    }
   ],
   "source": [
    "n_input=3\n",
    "n_layers=2\n",
    "n_hidden=64\n",
    "\n",
    "x, y, weights, biases, pred, cost, optimizer, correct_pred, accuracy, path = define_graph(learning_rate=0.001,\n",
    "                                                                                          n_input=n_input,\n",
    "                                                                                          n_layers=n_layers,\n",
    "                                                                                          n_hidden=n_hidden)\n",
    "losses, accuracies = lstm_training(x, y, weights, biases, pred, cost, optimizer, correct_pred, \n",
    "                                   accuracy, path, epochs=50000, n_input=n_input)"
   ]
  },
  {
   "cell_type": "code",
   "execution_count": 20,
   "metadata": {},
   "outputs": [
    {
     "data": {
      "image/png": "[encoded data removed]",
      "text/plain": [
       "<matplotlib.figure.Figure at 0x7f1e994629e8>"
      ]
     },
     "metadata": {},
     "output_type": "display_data"
    }
   ],
   "source": [
    "fig, (ax1, ax2) = plt.subplots(2, 1, figsize=(15, 8))\n",
    "ax1.plot(np.arange(0,50000, 1000), losses)\n",
    "ax1.set_title('Loss')\n",
    "ax2.plot(np.arange(0,50000, 1000), accuracies)\n",
    "ax2.set_title('Accuracy')\n",
    "ax2.set_xlabel('iterations')\n",
    "plt.show()"
   ]
  },
  {
   "cell_type": "markdown",
   "metadata": {
    "collapsed": true
   },
   "source": [
    "## Part 4 : Test your model "
   ]
  },
  {
   "cell_type": "markdown",
   "metadata": {
    "collapsed": true
   },
   "source": [
    "### 3.1. Next word prediction"
   ]
  },
  {
   "cell_type": "markdown",
   "metadata": {},
   "source": [
    "Load your model (using the model_saved variable given in the training session) and test the sentences :\n",
    "- 'get a little' \n",
    "- 'nobody tried to'\n",
    "- Try with other sentences using words from the story's vocabulary. "
   ]
  },
  {
   "cell_type": "markdown",
   "metadata": {},
   "source": [
    "In addition to the two sentences proposed, we decided to test our predictions on 10 random 3-word-sentences taken from the original text."
   ]
  },
  {
   "cell_type": "code",
   "execution_count": 21,
   "metadata": {},
   "outputs": [
    {
     "name": "stdout",
     "output_type": "stream",
     "text": [
      "INFO:tensorflow:Restoring parameters from lstm_model/lstm-2-3\n",
      "get a little company\n",
      "nobody tried to who\n",
      "\n",
      "\n",
      "at the foot of\n",
      " Predicted word: of \n",
      " Word from text: of\n",
      "could get a little\n",
      " Predicted word: little \n",
      " Word from text: little\n",
      ", and some the\n",
      " Predicted word: the \n",
      " Word from text: of\n",
      ", so he thought\n",
      " Predicted word: thought \n",
      " Word from text: thought\n",
      "before , thought the\n",
      " Predicted word: the \n",
      " Word from text: the\n",
      "mountain near a dark\n",
      " Predicted word: dark \n",
      " Word from text: dark\n",
      ", and the villagers\n",
      " Predicted word: villagers \n",
      " Word from text: villagers\n",
      ". but this time\n",
      " Predicted word: time \n",
      " Word from text: time\n",
      "and some excitement .\n",
      " Predicted word: . \n",
      " Word from text: .\n",
      "he rushed down towards\n",
      " Predicted word: towards \n",
      " Word from text: towards\n"
     ]
    }
   ],
   "source": [
    "def next_word_prediction(model_path, n_input, sentences=None):\n",
    "    model_saver = tf.train.Saver()\n",
    "    with tf.Session() as session:\n",
    "        model_saver.restore(session, model_path)\n",
    "\n",
    "        if sentences is not None:\n",
    "            for sentence in sentences:\n",
    "                test(sentence, session, True)\n",
    "            print('\\n')\n",
    "\n",
    "        # Take n_input + 1 word, this way we can compare the generated word with the real one\n",
    "        sentences = [train_data[n:n + n_input + 1] \n",
    "                     for n in np.random.randint(0, len(train_data) - n_input - 1, 10)]\n",
    "        for sentence in sentences:\n",
    "            predicted = test(' '.join(sentence[:-1]), session, True)\n",
    "            print(' Predicted word:', predicted, '\\n Word from text:', sentence[-1])\n",
    "            \n",
    "next_word_prediction(path, n_input, sentences=['get a little', 'nobody tried to'])"
   ]
  },
  {
   "cell_type": "markdown",
   "metadata": {},
   "source": [
    "<div class='alert alert-warning'>\n",
    "As we can see, the predicted word is most of the time equal to the actual word following our 3-word sentence.\n",
    "</div>"
   ]
  },
  {
   "cell_type": "markdown",
   "metadata": {},
   "source": [
    "### 3.2. More fun with the Fable Writer !"
   ]
  },
  {
   "cell_type": "markdown",
   "metadata": {},
   "source": [
    "You will use the RNN/LSTM model learned in the previous question to create a\n",
    "new story/fable.\n",
    "For this you will choose 3 words from the dictionary which will start your\n",
    "story and initialize your network. Using those 3 words the RNN will generate\n",
    "the next word or the story. Using the last 3 words (the newly predicted one\n",
    "and the last 2 from the input) you will use the network to predict the 5\n",
    "word of the story.. and so on until your story is 5 sentence long. \n",
    "Make a point at the end of your story. \n",
    "To implement that, you will use the test function. "
   ]
  },
  {
   "cell_type": "code",
   "execution_count": 23,
   "metadata": {},
   "outputs": [
    {
     "name": "stdout",
     "output_type": "stream",
     "text": [
      "INFO:tensorflow:Restoring parameters from lstm_model/lstm-2-3\n",
      "come to his help . but shortly after this a wolf actually did come out from the forest calling : a so excitement . his this . a wolf , still louder than before . but this time the villagers , who had been fooled the foot of a mountain near a dark forest .\n"
     ]
    }
   ],
   "source": [
    "def generate_fable(model_path, n_input):\n",
    "    model_saver = tf.train.Saver()\n",
    "    with tf.Session() as session:\n",
    "        model_saver.restore(session, model_path)\n",
    "        n = np.random.randint(0, len(train_data) - n_input)\n",
    "        words = train_data[n:n + n_input].tolist()\n",
    "        while words.count('.') < 5 and len(words) < 1000:  # set an upper bound on iterations\n",
    "            sentence = ' '.join(words[-n_input:])\n",
    "            words.append(test(sentence, session))\n",
    "\n",
    "    if words[-1] != '.':\n",
    "        words.append('.')\n",
    "    return ' '.join(words)\n",
    "\n",
    "print(generate_fable(path, n_input))"
   ]
  },
  {
   "cell_type": "markdown",
   "metadata": {},
   "source": [
    "<div class='alert alert-warning'>\n",
    "As we can see, the story makes little sense in english, and it doesn't precisely follow the original one either. This is due to the fact that maybe the window of words to look at to make the prediction is too short, so sometimes the algorithm is able to predict the correct next word, like for example: come to his --> help, to his help --> . but not always, and that takes us off-track. We expect that by increasing the window of words we will increase the chances of getting the original text as a result.\n",
    "</div>"
   ]
  },
  {
   "cell_type": "markdown",
   "metadata": {},
   "source": [
    "### 3.3. Play with number of inputs"
   ]
  },
  {
   "cell_type": "markdown",
   "metadata": {
    "collapsed": true
   },
   "source": [
    "The number of input in our example is 3, see what happens when you use other number (1 and 5)"
   ]
  },
  {
   "cell_type": "markdown",
   "metadata": {},
   "source": [
    "#### 3.3.1 Number of inputs = 5"
   ]
  },
  {
   "cell_type": "code",
   "execution_count": 24,
   "metadata": {
    "scrolled": false
   },
   "outputs": [
    {
     "name": "stdout",
     "output_type": "stream",
     "text": [
      "Start Training\n",
      "Iter = 1000, Average Loss = 4.466149, Average Accuracy = 6.70%\n",
      "[',', 'and', 'nobody', 'stirred', 'to'] - [come] vs [him]\n",
      "Iter = 2000, Average Loss = 3.353745, Average Accuracy = 23.10%\n",
      "['and', 'began', 'to', 'worry', 'the'] - [sheep,] vs [and]\n",
      "Iter = 3000, Average Loss = 2.598150, Average Accuracy = 39.20%\n",
      "['a', 'considerable', 'time', '.', 'this'] - [pleased] vs [pleased]\n",
      "Iter = 4000, Average Loss = 2.075831, Average Accuracy = 48.40%\n",
      "['him', 'all', 'day', ',', 'so'] - [he] vs [he]\n",
      "Iter = 5000, Average Loss = 1.340913, Average Accuracy = 64.70%\n",
      "['shepherd', 'boy', 'who', 'tended', 'his'] - [sheep] vs [meet]\n",
      "Iter = 6000, Average Loss = 0.856227, Average Accuracy = 76.40%\n",
      "['but', 'this', 'time', 'the', 'villagers'] - [,] vs [,]\n",
      "Iter = 7000, Average Loss = 0.624746, Average Accuracy = 83.50%\n",
      "['the', 'boy', 'so', 'much', 'that'] - [a] vs [a]\n",
      "Iter = 8000, Average Loss = 0.408925, Average Accuracy = 89.70%\n",
      "['him', 'all', 'day', ',', 'so'] - [he] vs [he]\n",
      "Iter = 9000, Average Loss = 0.236856, Average Accuracy = 93.90%\n",
      "[\"boy's\", 'flock', ',', 'and', 'when'] - [the] vs [the]\n",
      "Iter = 10000, Average Loss = 0.174140, Average Accuracy = 95.10%\n",
      "['villagers', ',', 'who', 'had', 'been'] - [fooled] vs [fooled]\n",
      "Iter = 11000, Average Loss = 0.126718, Average Accuracy = 96.00%\n",
      "['the', 'villagers', 'came', 'to', 'his'] - [help] vs [meet]\n",
      "Iter = 12000, Average Loss = 0.095928, Average Accuracy = 97.10%\n",
      "['of', 'them', 'stopped', 'with', 'him'] - [for] vs [for]\n",
      "Iter = 13000, Average Loss = 0.073533, Average Accuracy = 97.70%\n",
      "['down', 'towards', 'the', 'village', 'calling'] - [out] vs [out]\n",
      "Iter = 14000, Average Loss = 0.069355, Average Accuracy = 97.80%\n",
      "['could', 'get', 'a', 'little', 'company'] - [and] vs [and]\n",
      "Iter = 15000, Average Loss = 0.063582, Average Accuracy = 97.90%\n",
      "['and', 'when', 'the', 'boy', 'complained'] - [,] vs [,]\n",
      "Iter = 16000, Average Loss = 0.041472, Average Accuracy = 98.60%\n",
      "[',', 'wolf', ',', 'still', 'louder'] - [than] vs [than]\n",
      "Iter = 17000, Average Loss = 0.031033, Average Accuracy = 98.90%\n",
      "['and', 'began', 'to', 'worry', 'the'] - [sheep,] vs [sheep,]\n",
      "Iter = 18000, Average Loss = 0.051923, Average Accuracy = 98.30%\n",
      "['time', '.', 'this', 'pleased', 'the'] - [boy] vs [boy]\n",
      "Iter = 19000, Average Loss = 0.051140, Average Accuracy = 98.10%\n",
      "['he', 'rushed', 'down', 'towards', 'the'] - [village] vs [village]\n",
      "Iter = 20000, Average Loss = 0.045163, Average Accuracy = 98.60%\n",
      "[',', 'even', 'when', 'he', 'speaks'] - [the] vs [the]\n",
      "Iter = 21000, Average Loss = 0.042999, Average Accuracy = 98.30%\n",
      "['help', '.', 'so', 'the', 'wolf'] - [made] vs [made]\n",
      "Iter = 22000, Average Loss = 0.046339, Average Accuracy = 97.40%\n",
      "['wolf', ',', 'still', 'louder', 'than'] - [before] vs [before]\n",
      "Iter = 23000, Average Loss = 0.013965, Average Accuracy = 99.60%\n",
      "['his', 'help', '.', 'but', 'shortly'] - [after] vs [after]\n",
      "Iter = 24000, Average Loss = 0.040715, Average Accuracy = 98.70%\n",
      "['thought', 'upon', 'a', 'plan', 'by'] - [which] vs [which]\n",
      "Iter = 25000, Average Loss = 0.021677, Average Accuracy = 99.20%\n",
      "['said', ':', 'a', 'liar', 'will'] - [not] vs [not]\n",
      "Iter = 26000, Average Loss = 0.014929, Average Accuracy = 99.40%\n",
      "['the', 'boy', 'was', 'again', 'deceiving'] - [them] vs [them]\n",
      "Iter = 27000, Average Loss = 0.030003, Average Accuracy = 99.10%\n",
      "['worry', 'the', 'sheep,', 'and', 'the'] - [boy] vs [boy]\n",
      "Iter = 28000, Average Loss = 0.037195, Average Accuracy = 98.80%\n",
      "['the', 'same', 'trick', ',', 'and'] - [again] vs [again]\n",
      "Iter = 29000, Average Loss = 0.028059, Average Accuracy = 99.10%\n",
      "['by', 'which', 'he', 'could', 'get'] - [a] vs [a]\n",
      "Iter = 30000, Average Loss = 0.039720, Average Accuracy = 98.60%\n",
      "['liar', 'will', 'not', 'be', 'believed'] - [,] vs [,]\n",
      "Iter = 31000, Average Loss = 0.013515, Average Accuracy = 99.20%\n",
      "['so', 'the', 'wolf', 'made', 'a'] - [good] vs [good]\n",
      "Iter = 32000, Average Loss = 0.015552, Average Accuracy = 99.40%\n",
      "[',', 'thought', 'the', 'boy', 'was'] - [again] vs [again]\n",
      "Iter = 33000, Average Loss = 0.020606, Average Accuracy = 99.20%\n",
      "['did', 'come', 'out', 'from', 'the'] - [forest] vs [forest]\n",
      "Iter = 34000, Average Loss = 0.025528, Average Accuracy = 98.30%\n",
      "['a', 'considerable', 'time', '.', 'this'] - [pleased] vs [pleased]\n",
      "Iter = 35000, Average Loss = 0.019433, Average Accuracy = 99.10%\n",
      "['the', 'foot', 'of', 'a', 'mountain'] - [near] vs [near]\n",
      "Iter = 36000, Average Loss = 0.016954, Average Accuracy = 99.20%\n",
      "[',', 'the', 'wise', 'man', 'of'] - [the] vs [the]\n",
      "Iter = 37000, Average Loss = 0.017812, Average Accuracy = 99.30%\n",
      "['villagers', ',', 'who', 'had', 'been'] - [fooled] vs [fooled]\n",
      "Iter = 38000, Average Loss = 0.019417, Average Accuracy = 99.20%\n",
      "['boy', 'so', 'much', 'that', 'a'] - [few] vs [few]\n",
      "Iter = 39000, Average Loss = 0.029450, Average Accuracy = 98.80%\n",
      "['plan', 'by', 'which', 'he', 'could'] - [get] vs [get]\n",
      "Iter = 40000, Average Loss = 0.010419, Average Accuracy = 99.60%\n",
      "['tended', 'his', 'sheep', 'at', 'the'] - [foot] vs [foot]\n",
      "Iter = 41000, Average Loss = 0.028907, Average Accuracy = 98.80%\n",
      "['the', 'wise', 'man', 'of', 'the'] - [village] vs [village]\n",
      "Iter = 42000, Average Loss = 0.015593, Average Accuracy = 99.40%\n",
      "['was', 'again', 'deceiving', 'them', ','] - [and] vs [and]\n",
      "Iter = 43000, Average Loss = 0.010310, Average Accuracy = 99.50%\n",
      "['and', 'the', 'boy', 'of', 'course'] - [cried] vs [cried]\n",
      "Iter = 44000, Average Loss = 0.030196, Average Accuracy = 98.60%\n",
      "['a', 'considerable', 'time', '.', 'this'] - [pleased] vs [pleased]\n",
      "Iter = 45000, Average Loss = 0.019498, Average Accuracy = 99.30%\n",
      "['him', 'all', 'day', ',', 'so'] - [he] vs [he]\n",
      "Iter = 46000, Average Loss = 0.022549, Average Accuracy = 99.00%\n",
      "['village', 'said', ':', 'a', 'liar'] - [will] vs [will]\n",
      "Iter = 47000, Average Loss = 0.020032, Average Accuracy = 99.10%\n",
      "['been', 'fooled', 'twice', 'before', ','] - [thought] vs [thought]\n",
      "Iter = 48000, Average Loss = 0.008766, Average Accuracy = 99.60%\n",
      "['of', 'course', 'cried', 'out', 'wolf'] - [,] vs [,]\n",
      "Iter = 49000, Average Loss = 0.020330, Average Accuracy = 99.10%\n",
      "['so', 'much', 'that', 'a', 'few'] - [days] vs [days]\n",
      "Iter = 50000, Average Loss = 0.020591, Average Accuracy = 99.00%\n",
      "['could', 'get', 'a', 'little', 'company'] - [and] vs [and]\n",
      "End Of training Finished!\n",
      "time:  135.60893750190735\n",
      "For tensorboard visualisation run on command line.\n",
      "\ttensorboard --logdir=lstm_words\n",
      "and point your web browser to the returned link\n",
      "Model saved\n"
     ]
    }
   ],
   "source": [
    "n_input=5\n",
    "n_layers=2\n",
    "n_hidden=64\n",
    "\n",
    "x, y, weights, biases, pred, cost, optimizer, correct_pred, accuracy, path = define_graph(learning_rate=0.001,\n",
    "                                                                                          n_input=n_input,\n",
    "                                                                                          n_layers=n_layers,\n",
    "                                                                                          n_hidden=n_hidden)\n",
    "losses, accuracies = lstm_training(x, y, weights, biases, pred, cost, optimizer, \n",
    "                                  correct_pred, accuracy, path,\n",
    "                                  epochs=50000, n_input=n_input)"
   ]
  },
  {
   "cell_type": "code",
   "execution_count": 25,
   "metadata": {},
   "outputs": [
    {
     "data": {
      "image/png": "[encoded data removed]",
      "text/plain": [
       "<matplotlib.figure.Figure at 0x7f1e98e0d390>"
      ]
     },
     "metadata": {},
     "output_type": "display_data"
    }
   ],
   "source": [
    "fig, (ax1, ax2) = plt.subplots(2, 1, figsize=(15, 8))\n",
    "ax1.plot(np.arange(0,50000, 1000), losses)\n",
    "ax1.set_title('Loss')\n",
    "ax2.plot(np.arange(0,50000, 1000), accuracies)\n",
    "ax2.set_title('Accuracy')\n",
    "ax2.set_xlabel('iterations')\n",
    "plt.show()"
   ]
  },
  {
   "cell_type": "markdown",
   "metadata": {},
   "source": [
    "<div class='alert alert-warning'>\n",
    "In this case, we notice that we converge pretty easily to a very low loss value and almost a 100% accuracy in a small set of iterations.\n",
    "</div>"
   ]
  },
  {
   "cell_type": "code",
   "execution_count": 26,
   "metadata": {},
   "outputs": [
    {
     "name": "stdout",
     "output_type": "stream",
     "text": [
      "INFO:tensorflow:Restoring parameters from lstm_model/lstm-2-5\n",
      "so the wolf made a good\n",
      " Predicted word: good \n",
      " Word from text: good\n",
      "still louder than before . but\n",
      " Predicted word: but \n",
      " Word from text: but\n",
      "villagers , who had been fooled\n",
      " Predicted word: fooled \n",
      " Word from text: fooled\n",
      "from the forest , and began\n",
      " Predicted word: began \n",
      " Word from text: began\n",
      "time . this pleased the boy\n",
      " Predicted word: boy \n",
      " Word from text: boy\n",
      "of course cried out wolf ,\n",
      " Predicted word: , \n",
      " Word from text: ,\n",
      "when the boy complained , the\n",
      " Predicted word: the \n",
      " Word from text: the\n",
      "time the villagers , who had\n",
      " Predicted word: had \n",
      " Word from text: had\n",
      "wolf actually did come out from\n",
      " Predicted word: from \n",
      " Word from text: from\n",
      "out to meet him , and\n",
      " Predicted word: and \n",
      " Word from text: and\n"
     ]
    }
   ],
   "source": [
    "next_word_prediction(path, n_input)"
   ]
  },
  {
   "cell_type": "code",
   "execution_count": 27,
   "metadata": {},
   "outputs": [
    {
     "name": "stdout",
     "output_type": "stream",
     "text": [
      "INFO:tensorflow:Restoring parameters from lstm_model/lstm-2-5\n",
      "trick , and again the villagers came to his help . but shortly after this a wolf actually did come out from the forest , and began to worry the sheep, and the boy of course cried out wolf , wolf , and the villagers came out to meet him , and some of them stopped with him for a considerable time . this pleased the boy so much that a few days afterwards he tried the same trick , and again the villagers came to his help . but shortly after this a wolf actually did come out from the forest , and began to worry the sheep, and the boy of course cried out wolf , wolf , and the villagers came out to meet him , and some of them stopped with him for a considerable time . this pleased the boy so much that a few days afterwards he tried the same trick , and again the villagers came to his help .\n"
     ]
    }
   ],
   "source": [
    "print(generate_fable(path, n_input))"
   ]
  },
  {
   "cell_type": "markdown",
   "metadata": {},
   "source": [
    "<font size=\"3\" face=\"verdana\" > <i> \"There was once a young Shepherd Boy who tended his sheep at the foot of a mountain near a dark forest.\n",
    "\n",
    "It was rather lonely for him all day, so he thought upon a plan by which he could get a little company and some excitement.\n",
    "He rushed down towards the village calling out \"Wolf, Wolf,\" and the villagers came out to meet him, and some of them stopped with him for a considerable time.\n",
    "This pleased the boy so much that a few days afterwards he tried the same trick, and again the villagers came to his help.\n",
    "But shortly after this a Wolf actually did come out from the forest, and began to worry the sheep, and the boy of course cried out \"Wolf, Wolf,\" still louder than before.\n",
    "But this time the villagers, who had been fooled twice before, thought the boy was again deceiving them, and nobody stirred to come to his help.\n",
    "So the Wolf made a good meal off the boy's flock, and when the boy complained, the wise man of the village said:\n",
    "\"A liar will not be believed, even when he speaks the truth.\"  \"</i> </font>.    \n",
    "\n",
    "\n",
    "\n",
    "\n",
    "\n"
   ]
  },
  {
   "cell_type": "markdown",
   "metadata": {},
   "source": [
    "<div class='alert alert-warning'>\n",
    "As we can see the text we obtain is still not exactly the same as the original. We believe this is due to the fact that the window is still to small to actually have the exact match. By comparing this with the previous result though, we can see that we made considerable improvements, given that we manage to correctly predict the text until \"Wolf, Wolf\", where unfortunately we never find the continuation to be \"still louder than before\" and we therefore get stuck in a loop.\n",
    "</div>"
   ]
  },
  {
   "cell_type": "markdown",
   "metadata": {},
   "source": [
    "#### 3.3.2 Number of inputs = 1"
   ]
  },
  {
   "cell_type": "code",
   "execution_count": 28,
   "metadata": {
    "scrolled": false
   },
   "outputs": [
    {
     "name": "stdout",
     "output_type": "stream",
     "text": [
      "Start Training\n",
      "Iter = 1000, Average Loss = 4.572109, Average Accuracy = 4.10%\n",
      "['so'] - [much] vs [,]\n",
      "Iter = 2000, Average Loss = 4.191515, Average Accuracy = 5.60%\n",
      "['help'] - [.] vs [.]\n",
      "Iter = 3000, Average Loss = 4.153628, Average Accuracy = 6.10%\n",
      "['.'] - [he] vs [wolf]\n",
      "Iter = 4000, Average Loss = 3.967120, Average Accuracy = 8.20%\n",
      "['wolf'] - [,] vs [wolf]\n",
      "Iter = 5000, Average Loss = 4.091443, Average Accuracy = 9.40%\n",
      "['his'] - [sheep] vs [,]\n",
      "Iter = 6000, Average Loss = 3.976566, Average Accuracy = 11.00%\n",
      "['the'] - [same] vs [boy]\n",
      "Iter = 7000, Average Loss = 3.941521, Average Accuracy = 10.90%\n",
      "['made'] - [a] vs [,]\n",
      "Iter = 8000, Average Loss = 3.712799, Average Accuracy = 11.60%\n",
      "['he'] - [rushed] vs [his]\n",
      "Iter = 9000, Average Loss = 3.941796, Average Accuracy = 10.10%\n",
      "['course'] - [cried] vs [a]\n",
      "Iter = 10000, Average Loss = 3.846914, Average Accuracy = 10.40%\n",
      "['was'] - [once] vs [the]\n",
      "Iter = 11000, Average Loss = 3.990972, Average Accuracy = 10.20%\n",
      "['few'] - [days] vs [a]\n",
      "Iter = 12000, Average Loss = 3.810154, Average Accuracy = 10.60%\n",
      "['the'] - [wolf] vs [villagers]\n",
      "Iter = 13000, Average Loss = 3.733298, Average Accuracy = 9.90%\n",
      "['some'] - [excitement] vs [.]\n",
      "Iter = 14000, Average Loss = 3.780629, Average Accuracy = 11.30%\n",
      "['out'] - [wolf] vs [his]\n",
      "Iter = 15000, Average Loss = 3.833491, Average Accuracy = 10.40%\n",
      "['his'] - [sheep] vs [the]\n",
      "Iter = 16000, Average Loss = 3.698692, Average Accuracy = 12.20%\n",
      "['again'] - [the] vs [.]\n",
      "Iter = 17000, Average Loss = 3.250176, Average Accuracy = 13.00%\n",
      "['the'] - [boy] vs [boy]\n",
      "Iter = 18000, Average Loss = 3.930945, Average Accuracy = 10.90%\n",
      "['and'] - [the] vs [but]\n",
      "Iter = 19000, Average Loss = 3.602822, Average Accuracy = 10.10%\n",
      "['time'] - [the] vs [.]\n",
      "Iter = 20000, Average Loss = 3.437341, Average Accuracy = 10.70%\n",
      "['a'] - [dark] vs [good]\n",
      "Iter = 21000, Average Loss = 3.342793, Average Accuracy = 11.80%\n",
      "['again'] - [the] vs [.]\n",
      "Iter = 22000, Average Loss = 3.818806, Average Accuracy = 11.70%\n",
      "['when'] - [the] vs [to]\n",
      "Iter = 23000, Average Loss = 3.586548, Average Accuracy = 11.20%\n",
      "['villagers'] - [came] vs [,]\n",
      "Iter = 24000, Average Loss = 3.756331, Average Accuracy = 11.70%\n",
      "['before'] - [,] vs [to]\n",
      "Iter = 25000, Average Loss = 3.671149, Average Accuracy = 12.60%\n",
      "['upon'] - [a] vs [the]\n",
      "Iter = 26000, Average Loss = 3.608755, Average Accuracy = 11.00%\n",
      "['from'] - [the] vs [the]\n",
      "Iter = 27000, Average Loss = 3.609245, Average Accuracy = 12.70%\n",
      "['believed'] - [,] vs [a]\n",
      "Iter = 28000, Average Loss = 3.810935, Average Accuracy = 10.60%\n",
      "['time'] - [.] vs [.]\n",
      "Iter = 29000, Average Loss = 3.566772, Average Accuracy = 11.70%\n",
      "['them'] - [,] vs [,]\n",
      "Iter = 30000, Average Loss = 3.518801, Average Accuracy = 12.90%\n",
      "[','] - [so] vs [and]\n",
      "Iter = 31000, Average Loss = 3.497503, Average Accuracy = 13.30%\n",
      "['a'] - [wolf] vs [little]\n",
      "Iter = 32000, Average Loss = 3.486491, Average Accuracy = 13.90%\n",
      "['the'] - [wise] vs [boy]\n",
      "Iter = 33000, Average Loss = 3.643808, Average Accuracy = 12.80%\n",
      "['of'] - [them] vs [wolf]\n",
      "Iter = 34000, Average Loss = 3.611942, Average Accuracy = 14.10%\n",
      "['thought'] - [the] vs [to]\n",
      "Iter = 35000, Average Loss = 3.761557, Average Accuracy = 12.90%\n",
      "['upon'] - [a] vs [.]\n",
      "Iter = 36000, Average Loss = 3.404795, Average Accuracy = 15.00%\n",
      "['from'] - [the] vs [the]\n",
      "Iter = 37000, Average Loss = 3.807025, Average Accuracy = 12.90%\n",
      "[','] - [even] vs [and]\n",
      "Iter = 38000, Average Loss = 3.617037, Average Accuracy = 14.90%\n",
      "['this'] - [pleased] vs [the]\n",
      "Iter = 39000, Average Loss = 3.279516, Average Accuracy = 13.90%\n",
      "['to'] - [come] vs [his]\n",
      "Iter = 40000, Average Loss = 3.704220, Average Accuracy = 12.90%\n",
      "['he'] - [could] vs [his]\n",
      "Iter = 41000, Average Loss = 3.766904, Average Accuracy = 13.00%\n",
      "['worry'] - [the] vs [the]\n",
      "Iter = 42000, Average Loss = 3.674748, Average Accuracy = 13.10%\n",
      "['once'] - [a] vs [,]\n",
      "Iter = 43000, Average Loss = 3.544712, Average Accuracy = 12.90%\n",
      "['days'] - [afterwards] vs [the]\n",
      "Iter = 44000, Average Loss = 3.501634, Average Accuracy = 13.40%\n",
      "['wolf'] - [made] vs [his]\n",
      "Iter = 45000, Average Loss = 3.528766, Average Accuracy = 13.20%\n",
      "['.'] - [he] vs [some]\n",
      "Iter = 46000, Average Loss = 3.732331, Average Accuracy = 13.90%\n",
      "['boy'] - [of] vs [his]\n",
      "Iter = 47000, Average Loss = 3.667637, Average Accuracy = 14.00%\n",
      "['young'] - [shepherd] vs [a]\n",
      "Iter = 48000, Average Loss = 3.839125, Average Accuracy = 12.30%\n",
      "['days'] - [afterwards] vs [the]\n",
      "Iter = 49000, Average Loss = 3.710351, Average Accuracy = 13.40%\n",
      "['made'] - [a] vs [the]\n",
      "Iter = 50000, Average Loss = 3.802044, Average Accuracy = 12.90%\n",
      "['towards'] - [the] vs [.]\n",
      "End Of training Finished!\n",
      "time:  87.34861660003662\n",
      "For tensorboard visualisation run on command line.\n",
      "\ttensorboard --logdir=lstm_words\n",
      "and point your web browser to the returned link\n",
      "Model saved\n"
     ]
    }
   ],
   "source": [
    "n_input=1\n",
    "n_layers=2\n",
    "n_hidden=64\n",
    "\n",
    "x, y, weights, biases, pred, cost, optimizer, correct_pred, accuracy, path = define_graph(learning_rate=0.001,\n",
    "                                                                                          n_input=n_input,\n",
    "                                                                                          n_layers=n_layers,\n",
    "                                                                                          n_hidden=n_hidden)\n",
    "losses, accuracies = lstm_training(x, y, weights, biases, pred, cost, optimizer, \n",
    "                                  correct_pred, accuracy, path,\n",
    "                                  epochs=50000, n_input=n_input)"
   ]
  },
  {
   "cell_type": "code",
   "execution_count": 29,
   "metadata": {},
   "outputs": [
    {
     "data": {
      "image/png": "[encoded data removed]",
      "text/plain": [
       "<matplotlib.figure.Figure at 0x7f1e835860f0>"
      ]
     },
     "metadata": {},
     "output_type": "display_data"
    }
   ],
   "source": [
    "fig, (ax1, ax2) = plt.subplots(2, 1, figsize=(15, 8))\n",
    "ax1.plot(np.arange(0,50000, 1000), losses)\n",
    "ax1.set_title('Loss')\n",
    "ax2.plot(np.arange(0,50000, 1000), accuracies)\n",
    "ax2.set_title('Accuracy')\n",
    "ax2.set_xlabel('iterations')\n",
    "plt.show()"
   ]
  },
  {
   "cell_type": "code",
   "execution_count": 30,
   "metadata": {},
   "outputs": [
    {
     "name": "stdout",
     "output_type": "stream",
     "text": [
      "INFO:tensorflow:Restoring parameters from lstm_model/lstm-2-1\n",
      "before .\n",
      " Predicted word: . \n",
      " Word from text: ,\n",
      "a plan\n",
      " Predicted word: plan \n",
      " Word from text: plan\n",
      "even the\n",
      " Predicted word: the \n",
      " Word from text: when\n",
      "forest .\n",
      " Predicted word: . \n",
      " Word from text: ,\n",
      "flock the\n",
      " Predicted word: the \n",
      " Word from text: ,\n",
      "did the\n",
      " Predicted word: the \n",
      " Word from text: come\n",
      "said and\n",
      " Predicted word: and \n",
      " Word from text: :\n",
      ", and\n",
      " Predicted word: and \n",
      " Word from text: and\n",
      "meal a\n",
      " Predicted word: a \n",
      " Word from text: off\n",
      "after the\n",
      " Predicted word: the \n",
      " Word from text: this\n"
     ]
    }
   ],
   "source": [
    "next_word_prediction(path, n_input)"
   ]
  },
  {
   "cell_type": "markdown",
   "metadata": {},
   "source": [
    "<div class='alert alert-warning'>\n",
    "As expected given the low accuracy obtained in the training phase, we do not have good guesses on the next words in this case.\n",
    "</div>"
   ]
  },
  {
   "cell_type": "code",
   "execution_count": 32,
   "metadata": {},
   "outputs": [
    {
     "name": "stdout",
     "output_type": "stream",
     "text": [
      "INFO:tensorflow:Restoring parameters from lstm_model/lstm-2-1\n",
      "to , and some the villagers the villagers the villagers the villagers the villagers the villagers the villagers the villagers the villagers the villagers the villagers the villagers the villagers the villagers the villagers the villagers the villagers the villagers the villagers the villagers the villagers the villagers the villagers the villagers the villagers the villagers the villagers the villagers the villagers the villagers the villagers the villagers the villagers the villagers the villagers the villagers the villagers the villagers the villagers the villagers the villagers the villagers the villagers the villagers the villagers the villagers the villagers the villagers the villagers the villagers the villagers the villagers the villagers the villagers the villagers the villagers the villagers the villagers the villagers the villagers the villagers the villagers the villagers the villagers the villagers the villagers the villagers the villagers the villagers the villagers the villagers the villagers the villagers the villagers the villagers the villagers the villagers the villagers the villagers the villagers the villagers the villagers the villagers the villagers the villagers the villagers the villagers the villagers the villagers the villagers the villagers the villagers the villagers the villagers the villagers the villagers the villagers the villagers the villagers the villagers the villagers the villagers the villagers the villagers the villagers the villagers the villagers the villagers the villagers the villagers the villagers the villagers the villagers the villagers the villagers the villagers the villagers the villagers the villagers the villagers the villagers the villagers the villagers the villagers the villagers the villagers the villagers the villagers the villagers the villagers the villagers the villagers the villagers the villagers the villagers the villagers the villagers the villagers the villagers the villagers the villagers the villagers the villagers the villagers the villagers the villagers the villagers the villagers the villagers the villagers the villagers the villagers the villagers the villagers the villagers the villagers the villagers the villagers the villagers the villagers the villagers the villagers the villagers the villagers the villagers the villagers the villagers the villagers the villagers the villagers the villagers the villagers the villagers the villagers the villagers the villagers the villagers the villagers the villagers the villagers the villagers the villagers the villagers the villagers the villagers the villagers the villagers the villagers the villagers the villagers the villagers the villagers the villagers the villagers the villagers the villagers the villagers the villagers the villagers the villagers the villagers the villagers the villagers the villagers the villagers the villagers the villagers the villagers the villagers the villagers the villagers the villagers the villagers the villagers the villagers the villagers the villagers the villagers the villagers the villagers the villagers the villagers the villagers the villagers the villagers the villagers the villagers the villagers the villagers the villagers the villagers the villagers the villagers the villagers the villagers the villagers the villagers the villagers the villagers the villagers the villagers the villagers the villagers the villagers the villagers the villagers the villagers the villagers the villagers the villagers the villagers the villagers the villagers the villagers the villagers the villagers the villagers the villagers the villagers the villagers the villagers the villagers the villagers the villagers the villagers the villagers the villagers the villagers the villagers the villagers the villagers the villagers the villagers the villagers the villagers the villagers the villagers the villagers the villagers the villagers the villagers the villagers the villagers the villagers the villagers the villagers the villagers the villagers the villagers the villagers the villagers the villagers the villagers the villagers the villagers the villagers the villagers the villagers the villagers the villagers the villagers the villagers the villagers the villagers the villagers the villagers the villagers the villagers the villagers the villagers the villagers the villagers the villagers the villagers the villagers the villagers the villagers the villagers the villagers the villagers the villagers the villagers the villagers the villagers the villagers the villagers the villagers the villagers the villagers the villagers the villagers the villagers the villagers the villagers the villagers the villagers the villagers the villagers the villagers the villagers the villagers the villagers the villagers the villagers the villagers the villagers the villagers the villagers the villagers the villagers the villagers the villagers the villagers the villagers the villagers the villagers the villagers the villagers the villagers the villagers the villagers the villagers the villagers the villagers the villagers the villagers the villagers the villagers the villagers the villagers the villagers the villagers the villagers the villagers the villagers the villagers the villagers the villagers the villagers the villagers the villagers the villagers the villagers the villagers the villagers the villagers the villagers the villagers the villagers the villagers the villagers the villagers the villagers the villagers the villagers the villagers the villagers the villagers the villagers the villagers the villagers the villagers the villagers the villagers the villagers the villagers the villagers the villagers the villagers the villagers the villagers the villagers the villagers the villagers the villagers the villagers the villagers the villagers the villagers the villagers the villagers the villagers the villagers the villagers the villagers the villagers the villagers the villagers the villagers the villagers the villagers the villagers the villagers the villagers the villagers the villagers the villagers the villagers the villagers the villagers the villagers the villagers the villagers the villagers the villagers the villagers the villagers the villagers the villagers the villagers the villagers the villagers the villagers the villagers the villagers the villagers the villagers the villagers the villagers the villagers the villagers the villagers the villagers the villagers the villagers the villagers the villagers the villagers the villagers the villagers the villagers the villagers the villagers the villagers the villagers the villagers the villagers the villagers the villagers the villagers the villagers the villagers the villagers the villagers the villagers the villagers the villagers the villagers the villagers the villagers the villagers the villagers the villagers the villagers the villagers the villagers the villagers the villagers .\n"
     ]
    }
   ],
   "source": [
    "print(generate_fable(path, n_input))"
   ]
  },
  {
   "cell_type": "markdown",
   "metadata": {},
   "source": [
    "<div class='alert alert-warning'>\n",
    "This time we are clearly stuck in a loop and we keep printing the same sentences over again. This is due to the fact that the window is too small, and it predicts only based on the last word: every time it finds \"the\" for example, it will always predict \"villagers\" as the following word. "
   ]
  },
  {
   "cell_type": "markdown",
   "metadata": {},
   "source": [
    "#### 3.3.3 Number of inputs = 6"
   ]
  },
  {
   "cell_type": "code",
   "execution_count": 33,
   "metadata": {
    "scrolled": false
   },
   "outputs": [
    {
     "name": "stdout",
     "output_type": "stream",
     "text": [
      "Start Training\n",
      "Iter = 1000, Average Loss = 4.506409, Average Accuracy = 7.10%\n",
      "['time', 'the', 'villagers', ',', 'who', 'had'] - [been] vs [a]\n",
      "Iter = 2000, Average Loss = 3.752561, Average Accuracy = 16.10%\n",
      "['considerable', 'time', '.', 'this', 'pleased', 'the'] - [boy] vs [so]\n",
      "Iter = 3000, Average Loss = 2.880093, Average Accuracy = 32.40%\n",
      "['sheep', 'at', 'the', 'foot', 'of', 'a'] - [mountain] vs [time]\n",
      "Iter = 4000, Average Loss = 2.053034, Average Accuracy = 52.80%\n",
      "['them', ',', 'and', 'nobody', 'stirred', 'to'] - [come] vs [come]\n",
      "Iter = 5000, Average Loss = 1.244533, Average Accuracy = 71.80%\n",
      "[',', 'and', 'again', 'the', 'villagers', 'came'] - [to] vs [to]\n",
      "Iter = 6000, Average Loss = 0.729636, Average Accuracy = 82.00%\n",
      "['villagers', 'came', 'out', 'to', 'meet', 'him'] - [,] vs [,]\n",
      "Iter = 7000, Average Loss = 0.374121, Average Accuracy = 90.50%\n",
      "['a', 'plan', 'by', 'which', 'he', 'could'] - [get] vs [get]\n",
      "Iter = 8000, Average Loss = 0.212234, Average Accuracy = 95.20%\n",
      "['the', 'village', 'said', ':', 'a', 'liar'] - [will] vs [will]\n",
      "Iter = 9000, Average Loss = 0.186082, Average Accuracy = 95.10%\n",
      "['.', 'so', 'the', 'wolf', 'made', 'a'] - [good] vs [good]\n",
      "Iter = 10000, Average Loss = 0.118618, Average Accuracy = 96.90%\n",
      "['villagers', 'came', 'to', 'his', 'help', '.'] - [but] vs [so]\n",
      "Iter = 11000, Average Loss = 0.115073, Average Accuracy = 96.60%\n",
      "['the', 'villagers', 'came', 'out', 'to', 'meet'] - [him] vs [him]\n",
      "Iter = 12000, Average Loss = 0.070080, Average Accuracy = 98.20%\n",
      "['of', 'the', 'village', 'said', ':', 'a'] - [liar] vs [liar]\n",
      "Iter = 13000, Average Loss = 0.047617, Average Accuracy = 98.50%\n",
      "['flock', ',', 'and', 'when', 'the', 'boy'] - [complained] vs [complained]\n",
      "Iter = 14000, Average Loss = 0.023342, Average Accuracy = 99.30%\n",
      "['the', 'forest', ',', 'and', 'began', 'to'] - [worry] vs [worry]\n",
      "Iter = 15000, Average Loss = 0.027857, Average Accuracy = 99.00%\n",
      "['few', 'days', 'afterwards', 'he', 'tried', 'the'] - [same] vs [same]\n",
      "Iter = 16000, Average Loss = 0.048822, Average Accuracy = 98.70%\n",
      "['the', 'village', 'calling', 'out', 'wolf', ','] - [wolf] vs [wolf]\n",
      "Iter = 17000, Average Loss = 0.019987, Average Accuracy = 98.90%\n",
      "['said', ':', 'a', 'liar', 'will', 'not'] - [be] vs [be]\n",
      "Iter = 18000, Average Loss = 0.014879, Average Accuracy = 99.60%\n",
      "['before', ',', 'thought', 'the', 'boy', 'was'] - [again] vs [again]\n",
      "Iter = 19000, Average Loss = 0.014030, Average Accuracy = 99.70%\n",
      "[',', 'and', 'again', 'the', 'villagers', 'came'] - [to] vs [to]\n",
      "Iter = 20000, Average Loss = 0.024349, Average Accuracy = 99.40%\n",
      "['some', 'excitement', '.', 'he', 'rushed', 'down'] - [towards] vs [towards]\n",
      "Iter = 21000, Average Loss = 0.029281, Average Accuracy = 98.90%\n",
      "['.', 'it', 'was', 'rather', 'lonely', 'for'] - [him] vs [him]\n",
      "Iter = 22000, Average Loss = 0.018643, Average Accuracy = 99.60%\n",
      "['again', 'deceiving', 'them', ',', 'and', 'nobody'] - [stirred] vs [stirred]\n",
      "Iter = 23000, Average Loss = 0.014379, Average Accuracy = 99.40%\n",
      "['course', 'cried', 'out', 'wolf', ',', 'wolf'] - [,] vs [,]\n",
      "Iter = 24000, Average Loss = 0.011307, Average Accuracy = 99.60%\n",
      "['this', 'a', 'wolf', 'actually', 'did', 'come'] - [out] vs [out]\n",
      "Iter = 25000, Average Loss = 0.011659, Average Accuracy = 99.70%\n",
      "['.', 'he', 'rushed', 'down', 'towards', 'the'] - [village] vs [village]\n",
      "Iter = 26000, Average Loss = 0.007522, Average Accuracy = 99.40%\n",
      "['of', 'a', 'mountain', 'near', 'a', 'dark'] - [forest] vs [forest]\n",
      "Iter = 27000, Average Loss = 0.000018, Average Accuracy = 100.00%\n",
      "['and', 'when', 'the', 'boy', 'complained', ','] - [the] vs [the]\n",
      "Iter = 28000, Average Loss = 0.000009, Average Accuracy = 100.00%\n",
      "['worry', 'the', 'sheep,', 'and', 'the', 'boy'] - [of] vs [of]\n",
      "Iter = 29000, Average Loss = 0.000004, Average Accuracy = 100.00%\n",
      "[',', 'and', 'again', 'the', 'villagers', 'came'] - [to] vs [to]\n",
      "Iter = 30000, Average Loss = 0.000004, Average Accuracy = 100.00%\n",
      "['tended', 'his', 'sheep', 'at', 'the', 'foot'] - [of] vs [of]\n",
      "Iter = 31000, Average Loss = 0.000003, Average Accuracy = 100.00%\n",
      "['thought', 'the', 'boy', 'was', 'again', 'deceiving'] - [them] vs [them]\n",
      "Iter = 32000, Average Loss = 0.000003, Average Accuracy = 100.00%\n",
      "['this', 'a', 'wolf', 'actually', 'did', 'come'] - [out] vs [out]\n",
      "Iter = 33000, Average Loss = 0.000002, Average Accuracy = 100.00%\n",
      "['of', 'them', 'stopped', 'with', 'him', 'for'] - [a] vs [a]\n",
      "Iter = 34000, Average Loss = 0.000002, Average Accuracy = 100.00%\n",
      "['which', 'he', 'could', 'get', 'a', 'little'] - [company] vs [company]\n",
      "Iter = 35000, Average Loss = 0.000002, Average Accuracy = 100.00%\n",
      "['a', 'liar', 'will', 'not', 'be', 'believed'] - [,] vs [,]\n",
      "Iter = 36000, Average Loss = 0.000002, Average Accuracy = 100.00%\n",
      "['deceiving', 'them', ',', 'and', 'nobody', 'stirred'] - [to] vs [to]\n",
      "Iter = 37000, Average Loss = 0.000002, Average Accuracy = 100.00%\n",
      "['much', 'that', 'a', 'few', 'days', 'afterwards'] - [he] vs [he]\n",
      "Iter = 38000, Average Loss = 0.000002, Average Accuracy = 100.00%\n",
      "['sheep', 'at', 'the', 'foot', 'of', 'a'] - [mountain] vs [mountain]\n",
      "Iter = 39000, Average Loss = 0.000002, Average Accuracy = 100.00%\n",
      "['stirred', 'to', 'come', 'to', 'his', 'help'] - [.] vs [.]\n",
      "Iter = 40000, Average Loss = 0.000001, Average Accuracy = 100.00%\n",
      "['wolf', 'actually', 'did', 'come', 'out', 'from'] - [the] vs [the]\n",
      "Iter = 41000, Average Loss = 0.000001, Average Accuracy = 100.00%\n",
      "['he', 'could', 'get', 'a', 'little', 'company'] - [and] vs [and]\n",
      "Iter = 42000, Average Loss = 0.000001, Average Accuracy = 100.00%\n",
      "['forest', '.', 'it', 'was', 'rather', 'lonely'] - [for] vs [for]\n",
      "Iter = 43000, Average Loss = 0.000001, Average Accuracy = 100.00%\n",
      "['the', 'boy', 'complained', ',', 'the', 'wise'] - [man] vs [man]\n",
      "Iter = 44000, Average Loss = 0.000001, Average Accuracy = 100.00%\n",
      "['who', 'had', 'been', 'fooled', 'twice', 'before'] - [,] vs [,]\n",
      "Iter = 45000, Average Loss = 0.000001, Average Accuracy = 100.00%\n",
      "['that', 'a', 'few', 'days', 'afterwards', 'he'] - [tried] vs [tried]\n",
      "Iter = 46000, Average Loss = 0.000001, Average Accuracy = 100.00%\n",
      "['which', 'he', 'could', 'get', 'a', 'little'] - [company] vs [company]\n",
      "Iter = 47000, Average Loss = 0.000001, Average Accuracy = 100.00%\n",
      "['again', 'deceiving', 'them', ',', 'and', 'nobody'] - [stirred] vs [stirred]\n",
      "Iter = 48000, Average Loss = 0.000001, Average Accuracy = 100.00%\n",
      "['the', 'forest', ',', 'and', 'began', 'to'] - [worry] vs [worry]\n",
      "Iter = 49000, Average Loss = 0.000001, Average Accuracy = 100.00%\n",
      "['him', 'for', 'a', 'considerable', 'time', '.'] - [this] vs [this]\n",
      "Iter = 50000, Average Loss = 0.000001, Average Accuracy = 100.00%\n",
      "['all', 'day', ',', 'so', 'he', 'thought'] - [upon] vs [upon]\n",
      "End Of training Finished!\n",
      "time:  141.8584611415863\n",
      "For tensorboard visualisation run on command line.\n",
      "\ttensorboard --logdir=lstm_words\n",
      "and point your web browser to the returned link\n",
      "Model saved\n"
     ]
    }
   ],
   "source": [
    "n_input=6\n",
    "n_layers=2\n",
    "n_hidden=64\n",
    "\n",
    "x, y, weights, biases, pred, cost, optimizer, correct_pred, accuracy, path = define_graph(learning_rate=0.001,\n",
    "                                                                                          n_input=n_input,\n",
    "                                                                                          n_layers=n_layers,\n",
    "                                                                                          n_hidden=n_hidden)\n",
    "losses, accuracies = lstm_training(x, y, weights, biases, pred, cost, optimizer, \n",
    "                                  correct_pred, accuracy, path,\n",
    "                                  epochs=50000, n_input=n_input)"
   ]
  },
  {
   "cell_type": "code",
   "execution_count": 34,
   "metadata": {},
   "outputs": [
    {
     "data": {
      "image/png": "[encoded data removed]",
      "text/plain": [
       "<matplotlib.figure.Figure at 0x7f1e838b4f98>"
      ]
     },
     "metadata": {},
     "output_type": "display_data"
    }
   ],
   "source": [
    "fig, (ax1, ax2) = plt.subplots(2, 1, figsize=(15, 8))\n",
    "ax1.plot(np.arange(0,50000, 1000), losses)\n",
    "ax1.set_title('Loss')\n",
    "ax2.plot(np.arange(0,50000, 1000), accuracies)\n",
    "ax2.set_title('Accuracy')\n",
    "ax2.set_xlabel('iterations')\n",
    "plt.show()"
   ]
  },
  {
   "cell_type": "code",
   "execution_count": 35,
   "metadata": {},
   "outputs": [
    {
     "name": "stdout",
     "output_type": "stream",
     "text": [
      "INFO:tensorflow:Restoring parameters from lstm_model/lstm-2-6\n",
      "some excitement . he rushed down towards\n",
      " Predicted word: towards \n",
      " Word from text: towards\n",
      "the same trick , and again the\n",
      " Predicted word: the \n",
      " Word from text: the\n",
      "and some of them stopped with him\n",
      " Predicted word: him \n",
      " Word from text: him\n",
      "a little company and some excitement .\n",
      " Predicted word: . \n",
      " Word from text: .\n",
      ", and some of them stopped with\n",
      " Predicted word: with \n",
      " Word from text: with\n",
      "him for a considerable time . this\n",
      " Predicted word: this \n",
      " Word from text: this\n",
      "the village said : a liar will\n",
      " Predicted word: will \n",
      " Word from text: will\n",
      "louder than before . but this time\n",
      " Predicted word: time \n",
      " Word from text: time\n",
      "flock , and when the boy complained\n",
      " Predicted word: complained \n",
      " Word from text: complained\n",
      "will not be believed , even when\n",
      " Predicted word: when \n",
      " Word from text: when\n"
     ]
    }
   ],
   "source": [
    "next_word_prediction(path, n_input)"
   ]
  },
  {
   "cell_type": "code",
   "execution_count": 36,
   "metadata": {},
   "outputs": [
    {
     "name": "stdout",
     "output_type": "stream",
     "text": [
      "INFO:tensorflow:Restoring parameters from lstm_model/lstm-2-6\n",
      "came to his help . but shortly after this a wolf actually did come out from the forest , and began to worry the sheep, and the boy of course cried out wolf , wolf , still louder than before . but this time the villagers , who had been fooled twice before , thought the boy was again deceiving them , and nobody stirred to come to his help . so the wolf made a good meal off the boy's flock , and when the boy complained , the wise man of the village said : a liar will not be believed , even when he speaks the truth . this .\n"
     ]
    }
   ],
   "source": [
    "print(generate_fable(path, n_input))"
   ]
  },
  {
   "cell_type": "markdown",
   "metadata": {},
   "source": [
    "<font size=\"3\" face=\"verdana\" > <i> \"There was once a young Shepherd Boy who tended his sheep at the foot of a mountain near a dark forest.\n",
    "\n",
    "It was rather lonely for him all day, so he thought upon a plan by which he could get a little company and some excitement.\n",
    "He rushed down towards the village calling out \"Wolf, Wolf,\" and the villagers came out to meet him, and some of them stopped with him for a considerable time.\n",
    "This pleased the boy so much that a few days afterwards he tried the same trick, and again the villagers came to his help.\n",
    "But shortly after this a Wolf actually did come out from the forest, and began to worry the sheep, and the boy of course cried out \"Wolf, Wolf,\" still louder than before.\n",
    "But this time the villagers, who had been fooled twice before, thought the boy was again deceiving them, and nobody stirred to come to his help.\n",
    "So the Wolf made a good meal off the boy's flock, and when the boy complained, the wise man of the village said:\n",
    "\"A liar will not be believed, even when he speaks the truth.\"  \"</i> </font>.    \n",
    "\n",
    "\n",
    "\n",
    "\n",
    "\n"
   ]
  },
  {
   "cell_type": "markdown",
   "metadata": {},
   "source": [
    "<div class='alert alert-warning'>\n",
    "Just out of curiosity, and to verify that our hypotesis was correct, we tried out the same algorithm with a larger window. We notice how we reach 100% of accuracy, probably due to overfitting, which although leads to a perfect match with the story, followed by a last word which is only there to complete the 5 sentences required by the exercise.\n",
    "</div>"
   ]
  },
  {
   "cell_type": "markdown",
   "metadata": {},
   "source": [
    "## 3-Layers\n",
    "\n",
    "We increase the number of LSTM layers, while maintaining the number of input words set to 3."
   ]
  },
  {
   "cell_type": "code",
   "execution_count": 37,
   "metadata": {
    "scrolled": false
   },
   "outputs": [
    {
     "name": "stdout",
     "output_type": "stream",
     "text": [
      "Start Training\n",
      "Iter = 1000, Average Loss = 4.630550, Average Accuracy = 5.80%\n",
      "['a', 'young', 'shepherd'] - [boy] vs [,]\n",
      "Iter = 2000, Average Loss = 3.999914, Average Accuracy = 11.00%\n",
      "['young', 'shepherd', 'boy'] - [who] vs [the]\n",
      "Iter = 3000, Average Loss = 3.316382, Average Accuracy = 20.70%\n",
      "['rather', 'lonely', 'for'] - [him] vs [before]\n",
      "Iter = 4000, Average Loss = 2.717895, Average Accuracy = 32.00%\n",
      "['he', 'thought', 'upon'] - [a] vs [.]\n",
      "Iter = 5000, Average Loss = 1.819497, Average Accuracy = 53.50%\n",
      "['company', 'and', 'some'] - [excitement] vs [excitement]\n",
      "Iter = 6000, Average Loss = 1.640806, Average Accuracy = 60.20%\n",
      "['some', 'excitement', '.'] - [he] vs [he]\n",
      "Iter = 7000, Average Loss = 1.805542, Average Accuracy = 54.10%\n",
      "['company', 'and', 'some'] - [excitement] vs [excitement]\n",
      "Iter = 8000, Average Loss = 1.254132, Average Accuracy = 66.60%\n",
      "['get', 'a', 'little'] - [company] vs [when]\n",
      "Iter = 9000, Average Loss = 1.257069, Average Accuracy = 65.40%\n",
      "['he', 'could', 'get'] - [a] vs [a]\n",
      "Iter = 10000, Average Loss = 0.951497, Average Accuracy = 73.10%\n",
      "['company', 'and', 'some'] - [excitement] vs [excitement]\n",
      "Iter = 11000, Average Loss = 0.641656, Average Accuracy = 81.90%\n",
      "['wolf', ',', 'and'] - [the] vs [,]\n",
      "Iter = 12000, Average Loss = 0.389646, Average Accuracy = 88.50%\n",
      "['time', '.', 'this'] - [pleased] vs [pleased]\n",
      "Iter = 13000, Average Loss = 0.505215, Average Accuracy = 87.60%\n",
      "['a', 'few', 'days'] - [afterwards] vs [afterwards]\n",
      "Iter = 14000, Average Loss = 0.815211, Average Accuracy = 79.90%\n",
      "['the', 'boy', 'so'] - [much] vs [much]\n",
      "Iter = 15000, Average Loss = 0.398895, Average Accuracy = 88.70%\n",
      "['the', 'same', 'trick'] - [,] vs [of]\n",
      "Iter = 16000, Average Loss = 0.673910, Average Accuracy = 81.40%\n",
      "['a', 'wolf', 'actually'] - [did] vs [did]\n",
      "Iter = 17000, Average Loss = 0.458629, Average Accuracy = 88.80%\n",
      "['did', 'come', 'out'] - [from] vs [from]\n",
      "Iter = 18000, Average Loss = 0.449572, Average Accuracy = 87.30%\n",
      "['wolf', ',', 'wolf'] - [,] vs [,]\n",
      "Iter = 19000, Average Loss = 0.431116, Average Accuracy = 88.40%\n",
      "['out', 'wolf', ','] - [wolf] vs [wolf]\n",
      "Iter = 20000, Average Loss = 0.325471, Average Accuracy = 90.90%\n",
      "['course', 'cried', 'out'] - [wolf] vs [wolf]\n",
      "Iter = 21000, Average Loss = 0.281449, Average Accuracy = 90.90%\n",
      "['come', 'out', 'from'] - [the] vs [the]\n",
      "Iter = 22000, Average Loss = 0.334253, Average Accuracy = 90.70%\n",
      "['forest', ',', 'and'] - [began] vs [began]\n",
      "Iter = 23000, Average Loss = 0.206131, Average Accuracy = 93.80%\n",
      "['worry', 'the', 'sheep,'] - [and] vs [and]\n",
      "Iter = 24000, Average Loss = 0.218187, Average Accuracy = 93.30%\n",
      "['worry', 'the', 'sheep,'] - [and] vs [and]\n",
      "Iter = 25000, Average Loss = 0.301652, Average Accuracy = 91.40%\n",
      "['course', 'cried', 'out'] - [wolf] vs [wolf]\n",
      "Iter = 26000, Average Loss = 0.296646, Average Accuracy = 91.80%\n",
      "['actually', 'did', 'come'] - [out] vs [out]\n",
      "Iter = 27000, Average Loss = 0.190183, Average Accuracy = 94.60%\n",
      "['forest', ',', 'and'] - [began] vs [began]\n",
      "Iter = 28000, Average Loss = 0.225977, Average Accuracy = 93.00%\n",
      "['and', 'the', 'boy'] - [of] vs [of]\n",
      "Iter = 29000, Average Loss = 0.223201, Average Accuracy = 93.10%\n",
      "['worry', 'the', 'sheep,'] - [and] vs [and]\n",
      "Iter = 30000, Average Loss = 0.180526, Average Accuracy = 93.70%\n",
      "['forest', ',', 'and'] - [began] vs [began]\n",
      "Iter = 31000, Average Loss = 0.223435, Average Accuracy = 93.70%\n",
      "['louder', 'than', 'before'] - [.] vs [.]\n",
      "Iter = 32000, Average Loss = 0.223964, Average Accuracy = 93.90%\n",
      "[',', 'still', 'louder'] - [than] vs [than]\n",
      "Iter = 33000, Average Loss = 0.237563, Average Accuracy = 93.80%\n",
      "['villagers', ',', 'who'] - [had] vs [had]\n",
      "Iter = 34000, Average Loss = 0.254452, Average Accuracy = 93.10%\n",
      "['boy', 'was', 'again'] - [deceiving] vs [deceiving]\n",
      "Iter = 35000, Average Loss = 0.219544, Average Accuracy = 93.20%\n",
      "['been', 'fooled', 'twice'] - [before] vs [before]\n",
      "Iter = 36000, Average Loss = 0.249920, Average Accuracy = 91.80%\n",
      "['this', 'time', 'the'] - [villagers] vs [villagers]\n",
      "Iter = 37000, Average Loss = 0.222719, Average Accuracy = 93.70%\n",
      "[',', 'who', 'had'] - [been] vs [been]\n",
      "Iter = 38000, Average Loss = 0.206400, Average Accuracy = 93.60%\n",
      "[',', 'still', 'louder'] - [than] vs [than]\n",
      "Iter = 39000, Average Loss = 0.200614, Average Accuracy = 94.50%\n",
      "['before', '.', 'but'] - [this] vs [this]\n",
      "Iter = 40000, Average Loss = 0.213977, Average Accuracy = 93.40%\n",
      "['before', '.', 'but'] - [this] vs [this]\n",
      "Iter = 41000, Average Loss = 0.186353, Average Accuracy = 94.50%\n",
      "['wolf', ',', 'still'] - [louder] vs [louder]\n",
      "Iter = 42000, Average Loss = 0.216358, Average Accuracy = 93.40%\n",
      "['but', 'this', 'time'] - [the] vs [the]\n",
      "Iter = 43000, Average Loss = 0.167699, Average Accuracy = 94.70%\n",
      "['villagers', ',', 'who'] - [had] vs [had]\n",
      "Iter = 44000, Average Loss = 0.191211, Average Accuracy = 94.10%\n",
      "['than', 'before', '.'] - [but] vs [but]\n",
      "Iter = 45000, Average Loss = 0.147169, Average Accuracy = 95.00%\n",
      "['villagers', ',', 'who'] - [had] vs [had]\n",
      "Iter = 46000, Average Loss = 0.171557, Average Accuracy = 95.90%\n",
      "['again', 'deceiving', 'them'] - [,] vs [,]\n",
      "Iter = 47000, Average Loss = 0.143988, Average Accuracy = 95.00%\n",
      "['again', 'deceiving', 'them'] - [,] vs [,]\n",
      "Iter = 48000, Average Loss = 0.195395, Average Accuracy = 93.90%\n",
      "['thought', 'the', 'boy'] - [was] vs [was]\n",
      "Iter = 49000, Average Loss = 0.198733, Average Accuracy = 93.30%\n",
      "['was', 'again', 'deceiving'] - [them] vs [them]\n",
      "Iter = 50000, Average Loss = 0.188367, Average Accuracy = 95.30%\n",
      "['again', 'deceiving', 'them'] - [,] vs [,]\n",
      "End Of training Finished!\n",
      "time:  144.7302279472351\n",
      "For tensorboard visualisation run on command line.\n",
      "\ttensorboard --logdir=lstm_words\n",
      "and point your web browser to the returned link\n",
      "Model saved\n"
     ]
    }
   ],
   "source": [
    "n_input=3\n",
    "n_layers=3\n",
    "n_hidden=64\n",
    "\n",
    "x, y, weights, biases, pred, cost, optimizer, correct_pred, accuracy, path = define_graph(learning_rate=0.001,\n",
    "                                                                                          n_input=n_input,\n",
    "                                                                                          n_layers=n_layers,\n",
    "                                                                                          n_hidden=n_hidden)\n",
    "losses, accuracies = lstm_training(x, y, weights, biases, pred, cost, optimizer, \n",
    "                                  correct_pred, accuracy, path,\n",
    "                                  epochs=50000, n_input=n_input)"
   ]
  },
  {
   "cell_type": "code",
   "execution_count": 40,
   "metadata": {},
   "outputs": [
    {
     "data": {
      "image/png": "[encoded data removed]",
      "text/plain": [
       "<matplotlib.figure.Figure at 0x7f1e83725208>"
      ]
     },
     "metadata": {},
     "output_type": "display_data"
    }
   ],
   "source": [
    "fig, (ax1, ax2) = plt.subplots(2, 1, figsize=(15, 8))\n",
    "ax1.plot(np.arange(0,50000, 1000), losses)\n",
    "ax1.set_title('Loss')\n",
    "ax2.plot(np.arange(0,50000, 1000), accuracies)\n",
    "ax2.set_title('Accuracy')\n",
    "ax2.set_xlabel('iterations')\n",
    "plt.show()"
   ]
  },
  {
   "cell_type": "code",
   "execution_count": 41,
   "metadata": {},
   "outputs": [
    {
     "name": "stdout",
     "output_type": "stream",
     "text": [
      "INFO:tensorflow:Restoring parameters from lstm_model/lstm-3-3\n",
      "his help . but\n",
      " Predicted word: but \n",
      " Word from text: so\n",
      "this a wolf actually\n",
      " Predicted word: actually \n",
      " Word from text: actually\n",
      ". he rushed down\n",
      " Predicted word: down \n",
      " Word from text: down\n",
      "villagers came out to\n",
      " Predicted word: to \n",
      " Word from text: to\n",
      "to come to his\n",
      " Predicted word: his \n",
      " Word from text: his\n",
      "was once a young\n",
      " Predicted word: young \n",
      " Word from text: young\n",
      "boy so much that\n",
      " Predicted word: that \n",
      " Word from text: that\n",
      ", wolf , still\n",
      " Predicted word: still \n",
      " Word from text: still\n",
      "afterwards he tried the\n",
      " Predicted word: the \n",
      " Word from text: the\n",
      "out wolf , wolf\n",
      " Predicted word: wolf \n",
      " Word from text: wolf\n"
     ]
    }
   ],
   "source": [
    "next_word_prediction(path, n_input)"
   ]
  },
  {
   "cell_type": "code",
   "execution_count": 42,
   "metadata": {},
   "outputs": [
    {
     "name": "stdout",
     "output_type": "stream",
     "text": [
      "INFO:tensorflow:Restoring parameters from lstm_model/lstm-3-3\n",
      "boy was again deceiving them , and nobody stirred to come to his help . but the boy was course cried the and so much down the foot . the boy of course cried out wolf , wolf , still louder than before . but this time the villagers , who had been fooled twice before , thought the boy was course cried the and so much down the foot . the boy of course cried out wolf , wolf , still louder than before .\n"
     ]
    }
   ],
   "source": [
    "print(generate_fable(path, n_input))"
   ]
  },
  {
   "cell_type": "markdown",
   "metadata": {
    "collapsed": true
   },
   "source": [
    "<div class='alert alert-warning'>\n",
    "The result is close to the one obtained with only 2 LSTM layers, both in terms of accuracy and thhe predicted story.\n",
    "</div>"
   ]
  }
 ],
 "metadata": {
  "anaconda-cloud": {},
  "kernelspec": {
   "display_name": "Python 3",
   "language": "python",
   "name": "python3"
  },
  "language_info": {
   "codemirror_mode": {
    "name": "ipython",
    "version": 3
   },
   "file_extension": ".py",
   "mimetype": "text/x-python",
   "name": "python",
   "nbconvert_exporter": "python",
   "pygments_lexer": "ipython3",
   "version": "3.5.3"
  },
  "widgets": {
   "state": {},
   "version": "1.1.2"
  }
 },
 "nbformat": 4,
 "nbformat_minor": 1
}

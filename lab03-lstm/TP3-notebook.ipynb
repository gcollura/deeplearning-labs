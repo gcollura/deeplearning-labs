{
 "cells": [
  {
   "cell_type": "markdown",
   "metadata": {},
   "source": [
    "<h1 style=\"text-align:center\">Deep Learning   </h1>\n",
    "<h1 style=\"text-align:center\"> Lab Session 3 - 3 Hours </h1>\n",
    "<h1 style=\"text-align:center\">Long Short Term Memory (LSTM) for Language Modeling</h1>"
   ]
  },
  {
   "cell_type": "markdown",
   "metadata": {},
   "source": [
    "<b> Student 1:</b> Collura  \n",
    "<b> Student 2:</b> Spano\n",
    " \n",
    " \n",
    "In this Lab Session,  you will build and train a Recurrent Neural Network, based on Long Short-Term Memory (LSTM) units for next word prediction task. \n",
    "\n",
    "Answers and experiments should be made by groups of one or two students. Each group should fill and run appropriate notebook cells. \n",
    "Once you have completed all of the code implementations and successfully answered each question above, you may finalize your work by exporting the iPython Notebook as an pdf document using print as PDF (Ctrl+P). Do not forget to run all your cells before generating your final report and do not forget to include the names of all participants in the group. The lab session should be completed by June 9th 2017.\n",
    "\n",
    "Send you pdf file to benoit.huet@eurecom.fr and olfa.ben-ahmed@eurecom.fr using **[DeepLearning_lab3]** as Subject of your email."
   ]
  },
  {
   "cell_type": "markdown",
   "metadata": {},
   "source": [
    "#  Introduction"
   ]
  },
  {
   "cell_type": "markdown",
   "metadata": {},
   "source": [
    "You will train a LSTM to predict the next word using a sample short story. The LSTM will learn to predict the next item of a sentence from the 3 previous items (given as input). Ponctuation marks are considered as dictionnary items so they can be predicted too. Figure 1 shows the LSTM and the process of next word prediction. \n",
    "\n",
    "<img src=\"lstm.png\" height=\"370\" width=\"370\"> \n",
    "\n",
    "\n",
    "Each word (and ponctuation) from text sentences is encoded by a unique integer. The integer value corresponds to the index of the corresponding word (or punctuation mark) in the dictionnary. The network output is a one-hot-vector indicating the index of the predicted word in the reversed dictionnary (Section 1.2). For example if the prediction is 86, the predicted word will be \"company\". \n",
    "\n",
    "\n",
    "\n",
    "You will use a sample short story from Aesop’s Fables (http://www.taleswithmorals.com/) to train your model. \n"
   ]
  },
  {
   "cell_type": "markdown",
   "metadata": {},
   "source": [
    "<font size=\"3\" face=\"verdana\" > <i> \"There was once a young Shepherd Boy who tended his sheep at the foot of a mountain near a dark forest.\n",
    "\n",
    "It was rather lonely for him all day, so he thought upon a plan by which he could get a little company and some excitement.\n",
    "He rushed down towards the village calling out \"Wolf, Wolf,\" and the villagers came out to meet him, and some of them stopped with him for a considerable time.\n",
    "This pleased the boy so much that a few days afterwards he tried the same trick, and again the villagers came to his help.\n",
    "But shortly after this a Wolf actually did come out from the forest, and began to worry the sheep, and the boy of course cried out \"Wolf, Wolf,\" still louder than before.\n",
    "But this time the villagers, who had been fooled twice before, thought the boy was again deceiving them, and nobody stirred to come to his help.\n",
    "So the Wolf made a good meal off the boy's flock, and when the boy complained, the wise man of the village said:\n",
    "\"A liar will not be believed, even when he speaks the truth.\"  \"</i> </font>.    \n",
    "\n",
    "\n",
    "\n",
    "\n",
    "\n"
   ]
  },
  {
   "cell_type": "markdown",
   "metadata": {},
   "source": [
    "Start by loading the necessary libraries and resetting the default computational graph. For more details about the rnn packages, we suggest you to take a look at https://www.tensorflow.org/api_guides/python/contrib.rnn"
   ]
  },
  {
   "cell_type": "code",
   "execution_count": 45,
   "metadata": {
    "collapsed": true
   },
   "outputs": [],
   "source": [
    "import numpy as np\n",
    "import collections # used to build the dictionary\n",
    "import random\n",
    "import time\n",
    "import pickle # may be used to save your model \n",
    "%matplotlib inline\n",
    "import matplotlib.pyplot as plt\n",
    "#Import Tensorflow and rnn\n",
    "import tensorflow as tf\n",
    "from tensorflow.contrib import rnn  \n",
    "\n",
    "# Target log path\n",
    "logs_path = 'lstm_words'\n",
    "writer = tf.summary.FileWriter(logs_path)"
   ]
  },
  {
   "cell_type": "markdown",
   "metadata": {},
   "source": [
    "# Next-word prediction task"
   ]
  },
  {
   "cell_type": "markdown",
   "metadata": {
    "collapsed": true
   },
   "source": [
    "## Part 1: Data  preparation"
   ]
  },
  {
   "cell_type": "markdown",
   "metadata": {
    "collapsed": true
   },
   "source": [
    "### 1.1. Loading data"
   ]
  },
  {
   "cell_type": "markdown",
   "metadata": {},
   "source": [
    "Load and split the text of our story"
   ]
  },
  {
   "cell_type": "code",
   "execution_count": 5,
   "metadata": {},
   "outputs": [
    {
     "name": "stdout",
     "output_type": "stream",
     "text": [
      "['there' 'was' 'once' 'a' 'young' 'shepherd' 'boy' 'who' 'tended' 'his'\n",
      " 'sheep' 'at' 'the' 'foot' 'of' 'a' 'mountain' 'near' 'a' 'dark' 'forest'\n",
      " '.' 'it' 'was' 'rather' 'lonely' 'for' 'him' 'all' 'day' ',' 'so' 'he'\n",
      " 'thought' 'upon' 'a' 'plan' 'by' 'which' 'he' 'could' 'get' 'a' 'little'\n",
      " 'company' 'and' 'some' 'excitement' '.' 'he' 'rushed' 'down' 'towards'\n",
      " 'the' 'village' 'calling' 'out' 'wolf' ',' 'wolf' ',' 'and' 'the'\n",
      " 'villagers' 'came' 'out' 'to' 'meet' 'him' ',' 'and' 'some' 'of' 'them'\n",
      " 'stopped' 'with' 'him' 'for' 'a' 'considerable' 'time' '.' 'this'\n",
      " 'pleased' 'the' 'boy' 'so' 'much' 'that' 'a' 'few' 'days' 'afterwards'\n",
      " 'he' 'tried' 'the' 'same' 'trick' ',' 'and' 'again' 'the' 'villagers'\n",
      " 'came' 'to' 'his' 'help' '.' 'but' 'shortly' 'after' 'this' 'a' 'wolf'\n",
      " 'actually' 'did' 'come' 'out' 'from' 'the' 'forest' ',' 'and' 'began' 'to'\n",
      " 'worry' 'the' 'sheep,' 'and' 'the' 'boy' 'of' 'course' 'cried' 'out'\n",
      " 'wolf' ',' 'wolf' ',' 'still' 'louder' 'than' 'before' '.' 'but' 'this'\n",
      " 'time' 'the' 'villagers' ',' 'who' 'had' 'been' 'fooled' 'twice' 'before'\n",
      " ',' 'thought' 'the' 'boy' 'was' 'again' 'deceiving' 'them' ',' 'and'\n",
      " 'nobody' 'stirred' 'to' 'come' 'to' 'his' 'help' '.' 'so' 'the' 'wolf'\n",
      " 'made' 'a' 'good' 'meal' 'off' 'the' \"boy's\" 'flock' ',' 'and' 'when'\n",
      " 'the' 'boy' 'complained' ',' 'the' 'wise' 'man' 'of' 'the' 'village'\n",
      " 'said' ':' 'a' 'liar' 'will' 'not' 'be' 'believed' ',' 'even' 'when' 'he'\n",
      " 'speaks' 'the' 'truth' '.']\n",
      "Loaded training data...\n",
      "214\n"
     ]
    }
   ],
   "source": [
    "def load_data(filename):\n",
    "    with open(filename) as f:\n",
    "        data = f.readlines()\n",
    "    data = [x.strip().lower() for x in data]\n",
    "    data = [data[i].split() for i in range(len(data))]\n",
    "    data = np.array(data)\n",
    "    data = np.reshape(data, [-1, ])\n",
    "    print(data)\n",
    "    return data\n",
    "\n",
    "#Run the cell \n",
    "train_file ='data/story.txt'\n",
    "train_data = load_data(train_file)\n",
    "print(\"Loaded training data...\")\n",
    "print(len(train_data))"
   ]
  },
  {
   "cell_type": "markdown",
   "metadata": {},
   "source": [
    "### 1.2. Symbols encoding"
   ]
  },
  {
   "cell_type": "markdown",
   "metadata": {},
   "source": [
    "The LSTM input's can only be numbers. A way to convert words (symbols or any items) to numbers is to assign a unique integer to each word. This process is often based on frequency of occurrence for efficient coding purpose.\n",
    "\n",
    "Here, we define a function to build an indexed word dictionary (word->number). The \"build_vocabulary\" function builds both:\n",
    "\n",
    "- Dictionary : used for encoding words to numbers for the LSTM inputs \n",
    "- Reverted dictionnary : used for decoding the outputs of the LSTM into words (and punctuation).\n",
    "\n",
    "For example, in the story above, we have **113** individual words. The \"build_vocabulary\" function builds a dictionary with the following entries ['the': 0], [',': 1], ['company': 85],...\n"
   ]
  },
  {
   "cell_type": "code",
   "execution_count": 6,
   "metadata": {
    "collapsed": true
   },
   "outputs": [],
   "source": [
    "def build_vocabulary(words):\n",
    "    count = collections.Counter(words).most_common()\n",
    "    dic= dict()\n",
    "    for word, _ in count:\n",
    "        dic[word] = len(dic)\n",
    "    reverse_dic = dict(zip(dic.values(), dic.keys()))\n",
    "    return dic, reverse_dic"
   ]
  },
  {
   "cell_type": "markdown",
   "metadata": {},
   "source": [
    "Run the cell below to display the vocabulary"
   ]
  },
  {
   "cell_type": "code",
   "execution_count": 7,
   "metadata": {
    "scrolled": false
   },
   "outputs": [
    {
     "name": "stdout",
     "output_type": "stream",
     "text": [
      "Dictionary size (Vocabulary size) =  113\n",
      "\n",
      "\n",
      "Dictionary : \n",
      "\n",
      "{'there': 107, 'good': 38, 'actually': 34, 'rather': 35, 'this': 11, 'from': 36, 'came': 17, 'his': 12, 'complained': 37, 'at': 33, 'still': 39, 'few': 40, 'mountain': 41, 'company': 42, 'twice': 43, 'foot': 44, 'so': 13, 'meet': 45, 'with': 88, 'shortly': 46, 'will': 47, 'by': 48, 'he': 7, 'even': 51, 'dark': 52, 'all': 53, 'fooled': 101, \"boy's\": 55, 'cried': 56, 'louder': 57, 'lonely': 58, 'villagers': 14, 'him': 15, 'to': 6, 'course': 59, 'it': 60, 'liar': 61, 'time': 18, 'considerable': 62, 'the': 0, 'tended': 63, 'village': 19, 'rushed': 49, 'trick': 64, 'forest': 20, 'wise': 80, 'man': 67, 'had': 66, 'help': 22, 'meal': 91, 'could': 81, 'but': 23, 'after': 68, 'pleased': 69, 'began': 70, 'little': 71, 'who': 24, ':': 72, 'worry': 73, '.': 4, 'for': 25, 'them': 26, 'flock': 74, 'before': 27, 'thought': 21, 'excitement': 75, 'did': 77, 'been': 78, 'plan': 79, 'out': 9, 'when': 30, 'sheep,': 82, 'boy': 8, 'day': 83, 'not': 84, 'nobody': 85, 'that': 86, 'of': 10, 'upon': 87, 'off': 54, 'once': 89, 'than': 90, 'some': 28, 'be': 65, 'tried': 92, 'which': 93, 'and': 3, 'a': 2, 'again': 29, 'wolf': 5, 'sheep': 94, 'made': 95, ',': 1, 'same': 96, 'speaks': 76, 'young': 98, 'down': 99, 'towards': 100, 'deceiving': 32, 'near': 102, 'calling': 97, 'come': 31, 'shepherd': 103, 'stirred': 104, 'afterwards': 110, 'was': 16, 'much': 106, 'believed': 50, 'said': 108, 'get': 112, 'days': 105, 'stopped': 111, 'truth': 109}\n",
      "\n",
      "\n",
      "Reverted Dictionary : \n",
      "\n",
      "{0: 'the', 1: ',', 2: 'a', 3: 'and', 4: '.', 5: 'wolf', 6: 'to', 7: 'he', 8: 'boy', 9: 'out', 10: 'of', 11: 'this', 12: 'his', 13: 'so', 14: 'villagers', 15: 'him', 16: 'was', 17: 'came', 18: 'time', 19: 'village', 20: 'forest', 21: 'thought', 22: 'help', 23: 'but', 24: 'who', 25: 'for', 26: 'them', 27: 'before', 28: 'some', 29: 'again', 30: 'when', 31: 'come', 32: 'deceiving', 33: 'at', 34: 'actually', 35: 'rather', 36: 'from', 37: 'complained', 38: 'good', 39: 'still', 40: 'few', 41: 'mountain', 42: 'company', 43: 'twice', 44: 'foot', 45: 'meet', 46: 'shortly', 47: 'will', 48: 'by', 49: 'rushed', 50: 'believed', 51: 'even', 52: 'dark', 53: 'all', 54: 'off', 55: \"boy's\", 56: 'cried', 57: 'louder', 58: 'lonely', 59: 'course', 60: 'it', 61: 'liar', 62: 'considerable', 63: 'tended', 64: 'trick', 65: 'be', 66: 'had', 67: 'man', 68: 'after', 69: 'pleased', 70: 'began', 71: 'little', 72: ':', 73: 'worry', 74: 'flock', 75: 'excitement', 76: 'speaks', 77: 'did', 78: 'been', 79: 'plan', 80: 'wise', 81: 'could', 82: 'sheep,', 83: 'day', 84: 'not', 85: 'nobody', 86: 'that', 87: 'upon', 88: 'with', 89: 'once', 90: 'than', 91: 'meal', 92: 'tried', 93: 'which', 94: 'sheep', 95: 'made', 96: 'same', 97: 'calling', 98: 'young', 99: 'down', 100: 'towards', 101: 'fooled', 102: 'near', 103: 'shepherd', 104: 'stirred', 105: 'days', 106: 'much', 107: 'there', 108: 'said', 109: 'truth', 110: 'afterwards', 111: 'stopped', 112: 'get'}\n"
     ]
    }
   ],
   "source": [
    "dictionary, reverse_dictionary = build_vocabulary(train_data)\n",
    "vocabulary_size = len(dictionary) \n",
    "print(\"Dictionary size (Vocabulary size) = \", vocabulary_size)\n",
    "print(\"\\n\")\n",
    "print(\"Dictionary : \\n\")\n",
    "print(dictionary)\n",
    "print(\"\\n\")\n",
    "print(\"Reverted Dictionary : \\n\" )\n",
    "print(reverse_dictionary)"
   ]
  },
  {
   "cell_type": "markdown",
   "metadata": {},
   "source": [
    "## Part 2 : LSTM Model in TensorFlow"
   ]
  },
  {
   "cell_type": "markdown",
   "metadata": {},
   "source": [
    "Since you have defined how the data will be modeled, you are now to develop an LSTM model to predict the word of following a sequence of 3 words. "
   ]
  },
  {
   "cell_type": "markdown",
   "metadata": {},
   "source": [
    "### 2.1. Model definition"
   ]
  },
  {
   "cell_type": "markdown",
   "metadata": {},
   "source": [
    "Define a 2-layers LSTM model.  \n",
    "\n",
    "For this use the following classes from the tensorflow.contrib library:\n",
    "\n",
    "- rnn.BasicLSTMCell(number of hidden units) \n",
    "- rnn.static_rnn(rnn_cell, data, dtype=tf.float32)\n",
    "- rnn.MultiRNNCell(,)\n",
    "\n",
    "\n",
    "You may need some tensorflow functions (https://www.tensorflow.org/api_docs/python/tf/) :\n",
    "- tf.split\n",
    "- tf.reshape \n",
    "- ...\n",
    "\n",
    "\n"
   ]
  },
  {
   "cell_type": "code",
   "execution_count": 8,
   "metadata": {
    "collapsed": true
   },
   "outputs": [],
   "source": [
    "def lstm_model(x, w, b, n_hidden=265, n_input=3, n_layers=2):\n",
    "    x = tf.reshape(x, [-1, n_input])\n",
    "    x = tf.split(x, n_input, 1)\n",
    "\n",
    "    # n LSTM with n_hidden units.\n",
    "    rnn_cell = rnn.MultiRNNCell([rnn.BasicLSTMCell(n_hidden) for _ in range(n_layers)])\n",
    "\n",
    "    outputs, states = rnn.static_rnn(rnn_cell, x, dtype=tf.float32)\n",
    "    \n",
    "    return tf.matmul(outputs[-1], w['out']) + b['out']"
   ]
  },
  {
   "cell_type": "markdown",
   "metadata": {},
   "source": [
    "Training Parameters, constants the Loss/Cost and optimizer"
   ]
  },
  {
   "cell_type": "code",
   "execution_count": 21,
   "metadata": {
    "collapsed": true,
    "scrolled": true
   },
   "outputs": [],
   "source": [
    "def define_graph(learning_rate=0.001, n_input=3, n_layers=2, n_hidden=64):\n",
    "    \"\"\"\n",
    "    # Training Parameters\n",
    "    learning_rate = 0.001\n",
    "    epochs = 50000\n",
    "    display_step = 1000\n",
    "    n_input = 3\n",
    "    n_layers = 2\n",
    "    \n",
    "    # For each LSTM cell that you initialise, supply a value for the hidden dimension, number of units in LSTM cell\n",
    "    n_hidden = 64\n",
    "    \"\"\"\n",
    "    tf.reset_default_graph()\n",
    "\n",
    "    model_path = 'lstm_model/lstm-%d-%d' % (n_layers, n_input)\n",
    "\n",
    "    # tf Graph input\n",
    "    x = tf.placeholder(\"float\", [None, n_input, 1])\n",
    "    y = tf.placeholder(\"float\", [None, vocabulary_size])\n",
    "\n",
    "    # LSTM  weights and biases\n",
    "    weights = {'out': tf.Variable(tf.random_normal([n_hidden, vocabulary_size]))}\n",
    "    biases = {'out': tf.Variable(tf.random_normal([vocabulary_size]))}\n",
    "\n",
    "    # build the model\n",
    "    pred = lstm_model(x, weights, biases, n_hidden=n_hidden, n_input=n_input, n_layers=n_layers)\n",
    "\n",
    "    # Loss and optimizer\n",
    "    cost = tf.reduce_mean(tf.nn.softmax_cross_entropy_with_logits(logits=pred, labels=y))  # Cross Entropy loss\n",
    "    optimizer = tf.train.RMSPropOptimizer(learning_rate).minimize(cost)  # use RMSProp Optimizer\n",
    "\n",
    "    # Model evaluation\n",
    "    correct_pred = tf.equal(tf.argmax(pred, 1), tf.argmax(y, 1))\n",
    "    accuracy = tf.reduce_mean(tf.cast(correct_pred, tf.float32))\n",
    "    \n",
    "    return x, y, weights, biases, pred, cost, optimizer, correct_pred, accuracy, model_path"
   ]
  },
  {
   "cell_type": "markdown",
   "metadata": {
    "collapsed": true
   },
   "source": [
    "We give you here the Test Function"
   ]
  },
  {
   "cell_type": "code",
   "execution_count": 22,
   "metadata": {
    "collapsed": true
   },
   "outputs": [],
   "source": [
    "#run the cell\n",
    "def test(sentence, session, verbose=False):\n",
    "    sentence = sentence.strip()\n",
    "    words = sentence.split(' ')\n",
    "    if len(words) != n_input:\n",
    "        print(\"sentence length should be equal to\", n_input, \"!\")\n",
    "    try:\n",
    "        symbols_inputs = [dictionary[str(words[i - n_input])] for i in range(n_input)]\n",
    "        keys = np.reshape(np.array(symbols_inputs), [-1, n_input, 1])\n",
    "        onehot_pred = session.run(pred, feed_dict={x: keys})\n",
    "        onehot_pred_index = int(tf.argmax(onehot_pred, 1).eval())\n",
    "        words.append(reverse_dictionary[onehot_pred_index])\n",
    "        sentence = \" \".join(words)\n",
    "        if verbose:\n",
    "            print(sentence)\n",
    "        return reverse_dictionary[onehot_pred_index]\n",
    "    except:\n",
    "        print(\" \".join([\"Word\", words[i - n_input], \"not in dictionary\"]))"
   ]
  },
  {
   "cell_type": "markdown",
   "metadata": {},
   "source": [
    "## Part 3 : LSTM Training  "
   ]
  },
  {
   "cell_type": "markdown",
   "metadata": {},
   "source": [
    "In the Training process, at each epoch, 3 words are taken from the training data, encoded to integer to form the input vector. The training labels are one-hot vector encoding the word that comes after the 3 inputs words. Display the loss and the training accuracy every 1000 iteration. Save the model at the end of training in the **lstm_model** folder"
   ]
  },
  {
   "cell_type": "code",
   "execution_count": 48,
   "metadata": {
    "scrolled": false
   },
   "outputs": [],
   "source": [
    "def lstm_training(x, y, weights, biases, pred, cost, optimizer, correct_pred, \n",
    "                  accuracy, model_path, n_input, epochs=30000, display_step=1000):\n",
    "    # Initializing the variables\n",
    "    start_time = time.time()\n",
    "    init = tf.global_variables_initializer()\n",
    "    model_saver = tf.train.Saver()\n",
    "    \n",
    "    losses = []\n",
    "    accuracies = []\n",
    "\n",
    "    # Launch the graph\n",
    "    with tf.Session() as session:\n",
    "        session.run(init)\n",
    "\n",
    "        print(\"Start Training\")\n",
    "        step = 0\n",
    "        offset = random.randint(0, n_input + 1)\n",
    "        end_offset = n_input + 1\n",
    "        acc_total = 0\n",
    "        loss_total = 0\n",
    "\n",
    "        writer.add_graph(session.graph)\n",
    "\n",
    "        for step in range(epochs):\n",
    "            # Generate a minibatch. Add some randomness on selection process.\n",
    "            if offset > (len(train_data) - end_offset):\n",
    "                offset = random.randint(0, n_input + 1)\n",
    "\n",
    "            symbols_in_keys = [[dictionary[str(train_data[i])]] for i in range(offset, offset+n_input)]\n",
    "            symbols_in_keys = np.reshape(np.array(symbols_in_keys), [-1, n_input, 1])\n",
    "\n",
    "            symbols_out_onehot = np.zeros([vocabulary_size], dtype=float)\n",
    "            symbols_out_onehot[dictionary[str(train_data[offset+n_input])]] = 1.0\n",
    "            symbols_out_onehot = np.reshape(symbols_out_onehot,[1,-1])\n",
    "\n",
    "            _, acc, loss, onehot_pred = session.run([optimizer, accuracy, cost, pred], \\\n",
    "                                                    feed_dict={x: symbols_in_keys, y: symbols_out_onehot})\n",
    "            loss_total += loss\n",
    "            acc_total += acc\n",
    "            \n",
    "            if (step + 1) % display_step == 0:    \n",
    "                losses.append(loss_total / display_step)\n",
    "                accuracies.append(100 * acc_total / display_step)\n",
    "                \n",
    "                print(\"Iter = \" + str(step + 1) + \", Average Loss = \" + \\\n",
    "                      \"{:.6f}\".format(loss_total / display_step) + \", Average Accuracy = \" + \\\n",
    "                      \"{:.2f}%\".format(100 * acc_total / display_step))\n",
    "                acc_total = 0\n",
    "                loss_total = 0\n",
    "                symbols_in = [train_data[i] for i in range(offset, offset + n_input)]\n",
    "                symbols_out = train_data[offset + n_input]\n",
    "                symbols_out_pred = reverse_dictionary[int(tf.argmax(onehot_pred, 1).eval())]\n",
    "                print(\"%s - [%s] vs [%s]\" % (symbols_in,symbols_out,symbols_out_pred))\n",
    "            step += 1\n",
    "            offset += n_input + 1\n",
    "\n",
    "        print(\"End Of training Finished!\")\n",
    "        print(\"time: \",time.time() - start_time)\n",
    "        print(\"For tensorboard visualisation run on command line.\")\n",
    "        print(\"\\ttensorboard --logdir=%s\" % (logs_path))\n",
    "        print(\"and oint your web browser to the returned link\")\n",
    "\n",
    "        # save your model \n",
    "        model_saver.save(session, model_path)\n",
    "        print(\"Model saved\")\n",
    "        \n",
    "        return losses, accuracies"
   ]
  },
  {
   "cell_type": "code",
   "execution_count": 49,
   "metadata": {
    "scrolled": false
   },
   "outputs": [
    {
     "name": "stdout",
     "output_type": "stream",
     "text": [
      "Start Training\n",
      "Iter = 1000, Average Loss = 4.604915, Average Accuracy = 6.40%\n",
      "['believed', ',', 'even'] - [when] vs [and]\n",
      "Iter = 2000, Average Loss = 4.037460, Average Accuracy = 9.50%\n",
      "[',', 'even', 'when'] - [he] vs [,]\n",
      "Iter = 3000, Average Loss = 3.117916, Average Accuracy = 25.10%\n",
      "['shepherd', 'boy', 'who'] - [tended] vs [.]\n",
      "Iter = 4000, Average Loss = 2.990904, Average Accuracy = 28.10%\n",
      "['be', 'believed', ','] - [even] vs [boy's]\n",
      "Iter = 5000, Average Loss = 2.368033, Average Accuracy = 45.20%\n",
      "['a', 'young', 'shepherd'] - [boy] vs [stirred]\n",
      "Iter = 6000, Average Loss = 2.241475, Average Accuracy = 47.90%\n",
      "['the', 'foot', 'of'] - [a] vs [a]\n",
      "Iter = 7000, Average Loss = 1.936080, Average Accuracy = 50.60%\n",
      "['a', 'mountain', 'near'] - [a] vs [a]\n",
      "Iter = 8000, Average Loss = 1.595894, Average Accuracy = 58.70%\n",
      "['mountain', 'near', 'a'] - [dark] vs [dark]\n",
      "Iter = 9000, Average Loss = 1.360159, Average Accuracy = 66.00%\n",
      "['foot', 'of', 'a'] - [mountain] vs [mountain]\n",
      "Iter = 10000, Average Loss = 1.026815, Average Accuracy = 72.70%\n",
      "['thought', 'upon', 'a'] - [plan] vs [young]\n",
      "Iter = 11000, Average Loss = 1.208940, Average Accuracy = 67.40%\n",
      "['all', 'day', ','] - [so] vs [so]\n",
      "Iter = 12000, Average Loss = 0.867619, Average Accuracy = 77.00%\n",
      "['could', 'get', 'a'] - [little] vs [little]\n",
      "Iter = 13000, Average Loss = 1.066676, Average Accuracy = 71.60%\n",
      "['company', 'and', 'some'] - [excitement] vs [excitement]\n",
      "Iter = 14000, Average Loss = 0.936415, Average Accuracy = 75.20%\n",
      "['a', 'little', 'company'] - [and] vs [not]\n",
      "Iter = 15000, Average Loss = 0.686001, Average Accuracy = 79.40%\n",
      "['.', 'he', 'rushed'] - [down] vs [down]\n",
      "Iter = 16000, Average Loss = 0.563958, Average Accuracy = 83.80%\n",
      "['some', 'excitement', '.'] - [he] vs [he]\n",
      "Iter = 17000, Average Loss = 0.571312, Average Accuracy = 82.90%\n",
      "['company', 'and', 'some'] - [excitement] vs [excitement]\n",
      "Iter = 18000, Average Loss = 0.539306, Average Accuracy = 83.50%\n",
      "['thought', 'upon', 'a'] - [plan] vs [young]\n",
      "Iter = 19000, Average Loss = 0.550246, Average Accuracy = 83.00%\n",
      "['for', 'him', 'all'] - [day] vs [day]\n",
      "Iter = 20000, Average Loss = 0.472912, Average Accuracy = 85.10%\n",
      "['a', 'dark', 'forest'] - [.] vs [.]\n",
      "Iter = 21000, Average Loss = 0.486258, Average Accuracy = 84.60%\n",
      "['the', 'foot', 'of'] - [a] vs [a]\n",
      "Iter = 22000, Average Loss = 0.428447, Average Accuracy = 87.60%\n",
      "['was', 'rather', 'lonely'] - [for] vs [for]\n",
      "Iter = 23000, Average Loss = 0.364053, Average Accuracy = 89.20%\n",
      "['lonely', 'for', 'him'] - [all] vs [all]\n",
      "Iter = 24000, Average Loss = 0.387357, Average Accuracy = 89.00%\n",
      "['him', 'all', 'day'] - [,] vs [,]\n",
      "Iter = 25000, Average Loss = 0.455183, Average Accuracy = 87.10%\n",
      "['mountain', 'near', 'a'] - [dark] vs [dark]\n",
      "Iter = 26000, Average Loss = 0.378515, Average Accuracy = 89.10%\n",
      "['.', 'it', 'was'] - [rather] vs [rather]\n",
      "Iter = 27000, Average Loss = 0.349306, Average Accuracy = 90.80%\n",
      "['it', 'was', 'rather'] - [lonely] vs [lonely]\n",
      "Iter = 28000, Average Loss = 0.382759, Average Accuracy = 88.70%\n",
      "[',', 'so', 'he'] - [thought] vs [thought]\n",
      "Iter = 29000, Average Loss = 0.351193, Average Accuracy = 88.60%\n",
      "['day', ',', 'so'] - [he] vs [he]\n",
      "Iter = 30000, Average Loss = 0.274762, Average Accuracy = 93.50%\n",
      "['forest', '.', 'it'] - [was] vs [was]\n",
      "Iter = 31000, Average Loss = 0.376568, Average Accuracy = 89.30%\n",
      "[',', 'so', 'he'] - [thought] vs [thought]\n",
      "Iter = 32000, Average Loss = 0.325257, Average Accuracy = 90.30%\n",
      "['so', 'he', 'thought'] - [upon] vs [upon]\n",
      "Iter = 33000, Average Loss = 0.221416, Average Accuracy = 93.50%\n",
      "['so', 'he', 'thought'] - [upon] vs [upon]\n",
      "Iter = 34000, Average Loss = 0.421037, Average Accuracy = 89.10%\n",
      "['plan', 'by', 'which'] - [he] vs [he]\n",
      "Iter = 35000, Average Loss = 0.254304, Average Accuracy = 92.40%\n",
      "['all', 'day', ','] - [so] vs [so]\n",
      "Iter = 36000, Average Loss = 0.335035, Average Accuracy = 91.10%\n",
      "['plan', 'by', 'which'] - [he] vs [he]\n",
      "Iter = 37000, Average Loss = 0.295462, Average Accuracy = 91.00%\n",
      "['all', 'day', ','] - [so] vs [so]\n",
      "Iter = 38000, Average Loss = 0.277316, Average Accuracy = 91.90%\n",
      "['forest', '.', 'it'] - [was] vs [was]\n",
      "Iter = 39000, Average Loss = 0.240251, Average Accuracy = 92.30%\n",
      "['rather', 'lonely', 'for'] - [him] vs [him]\n",
      "Iter = 40000, Average Loss = 0.216423, Average Accuracy = 92.60%\n",
      "['he', 'thought', 'upon'] - [a] vs [a]\n",
      "Iter = 41000, Average Loss = 0.269751, Average Accuracy = 91.70%\n",
      "['thought', 'upon', 'a'] - [plan] vs [plan]\n",
      "Iter = 42000, Average Loss = 0.236683, Average Accuracy = 92.80%\n",
      "['so', 'he', 'thought'] - [upon] vs [upon]\n",
      "Iter = 43000, Average Loss = 0.244634, Average Accuracy = 93.40%\n",
      "['a', 'plan', 'by'] - [which] vs [which]\n",
      "Iter = 44000, Average Loss = 0.233005, Average Accuracy = 93.40%\n",
      "['thought', 'upon', 'a'] - [plan] vs [plan]\n",
      "Iter = 45000, Average Loss = 0.218584, Average Accuracy = 92.80%\n",
      "['by', 'which', 'he'] - [could] vs [could]\n",
      "Iter = 46000, Average Loss = 0.203389, Average Accuracy = 93.00%\n",
      "['upon', 'a', 'plan'] - [by] vs [shepherd]\n",
      "Iter = 47000, Average Loss = 0.242385, Average Accuracy = 93.10%\n",
      "['thought', 'upon', 'a'] - [plan] vs [plan]\n",
      "Iter = 48000, Average Loss = 0.206046, Average Accuracy = 93.50%\n",
      "['get', 'a', 'little'] - [company] vs [company]\n",
      "Iter = 49000, Average Loss = 0.185858, Average Accuracy = 93.70%\n",
      "['little', 'company', 'and'] - [some] vs [some]\n",
      "Iter = 50000, Average Loss = 0.200368, Average Accuracy = 93.70%\n",
      "['company', 'and', 'some'] - [excitement] vs [excitement]\n",
      "End Of training Finished!\n",
      "time:  67.43460631370544\n",
      "For tensorboard visualisation run on command line.\n",
      "\ttensorboard --logdir=lstm_words\n",
      "and oint your web browser to the returned link\n",
      "Model saved\n"
     ]
    }
   ],
   "source": [
    "n_input=3\n",
    "n_layers=2\n",
    "n_hidden=64\n",
    "\n",
    "x, y, weights, biases, pred, cost, optimizer, correct_pred, accuracy, path = define_graph(learning_rate=0.001,\n",
    "                                                                                          n_input=n_input,\n",
    "                                                                                          n_layers=n_layers,\n",
    "                                                                                          n_hidden=n_hidden)\n",
    "losses, accuracies = lstm_training(x, y, weights, biases, pred, cost, optimizer, correct_pred, \n",
    "                                   accuracy, path, epochs=50000, n_input=n_input)"
   ]
  },
  {
   "cell_type": "code",
   "execution_count": 52,
   "metadata": {},
   "outputs": [
    {
     "data": {
      "image/png": "[encoded data removed]",
      "text/plain": [
       "<matplotlib.figure.Figure at 0x2b4e59cf74a8>"
      ]
     },
     "metadata": {},
     "output_type": "display_data"
    }
   ],
   "source": [
    "fig, (ax1, ax2) = plt.subplots(2, 1, figsize=(15, 8))\n",
    "ax1.plot(losses)\n",
    "ax1.set_title('Loss')\n",
    "ax2.plot(accuracies)\n",
    "ax2.set_title('Accuracy')\n",
    "plt.show()"
   ]
  },
  {
   "cell_type": "markdown",
   "metadata": {
    "collapsed": true
   },
   "source": [
    "## Part 4 : Test your model "
   ]
  },
  {
   "cell_type": "markdown",
   "metadata": {
    "collapsed": true
   },
   "source": [
    "### 3.1. Next word prediction"
   ]
  },
  {
   "cell_type": "markdown",
   "metadata": {},
   "source": [
    "Load your model (using the model_saved variable given in the training session) and test the sentences :\n",
    "- 'get a little' \n",
    "- 'nobody tried to'\n",
    "- Try with other sentences using words from the story's vocabulary. "
   ]
  },
  {
   "cell_type": "code",
   "execution_count": 53,
   "metadata": {},
   "outputs": [
    {
     "name": "stdout",
     "output_type": "stream",
     "text": [
      "get a little company\n",
      "nobody tried to come\n",
      "\n",
      "\n",
      "worry the sheep, and\n",
      " Predicted word: and \n",
      " Word from text: and\n",
      "help . so the\n",
      " Predicted word: the \n",
      " Word from text: the\n",
      ": a liar will\n",
      " Predicted word: will \n",
      " Word from text: will\n",
      "the boy so much\n",
      " Predicted word: much \n",
      " Word from text: much\n",
      "boy's flock , so\n",
      " Predicted word: so \n",
      " Word from text: and\n",
      "by which he could\n",
      " Predicted word: could \n",
      " Word from text: could\n",
      "after this a wolf\n",
      " Predicted word: wolf \n",
      " Word from text: wolf\n",
      "came out to meet\n",
      " Predicted word: meet \n",
      " Word from text: meet\n",
      "could get a little\n",
      " Predicted word: little \n",
      " Word from text: little\n",
      "fooled twice before ,\n",
      " Predicted word: , \n",
      " Word from text: ,\n"
     ]
    }
   ],
   "source": [
    "def next_word_prediction(model_path, n_input, sentences=None):\n",
    "    model_saver = tf.train.Saver()\n",
    "    with tf.Session() as session:\n",
    "        model_saver.restore(session, model_path)\n",
    "\n",
    "        if sentences is not None:\n",
    "            for sentence in sentences:\n",
    "                test(sentence, session, True)\n",
    "            print('\\n')\n",
    "\n",
    "        sentences = [train_data[n:n + n_input + 1] for n in np.random.randint(0, len(train_data) - n_input - 1, 10)]\n",
    "        for sentence in sentences:\n",
    "            predicted = test(' '.join(sentence[:-1]), session, True)\n",
    "            print(' Predicted word:', predicted, '\\n Word from text:', sentence[-1])\n",
    "            \n",
    "next_word_prediction(path, n_input, sentences=['get a little', 'nobody tried to'])"
   ]
  },
  {
   "cell_type": "markdown",
   "metadata": {},
   "source": [
    "### 3.2. More fun with the Fable Writer !"
   ]
  },
  {
   "cell_type": "markdown",
   "metadata": {},
   "source": [
    "You will use the RNN/LSTM model learned in the previous question to create a\n",
    "new story/fable.\n",
    "For this you will choose 3 words from the dictionary which will start your\n",
    "story and initialize your network. Using those 3 words the RNN will generate\n",
    "the next word or the story. Using the last 3 words (the newly predicted one\n",
    "and the last 2 from the input) you will use the network to predict the 5\n",
    "word of the story.. and so on until your story is 5 sentence long. \n",
    "Make a point at the end of your story. \n",
    "To implement that, you will use the test function. "
   ]
  },
  {
   "cell_type": "code",
   "execution_count": 54,
   "metadata": {},
   "outputs": [
    {
     "name": "stdout",
     "output_type": "stream",
     "text": [
      "his help . but shortly after this a wolf actually did come out from the forest , and began stirred to to , wolf , still louder than before . but this time the villagers , who had been fooled twice before , thought the boy was again deceiving them , and nobody stirred to come to his help . but shortly after this a wolf actually did come out from the forest , and began stirred to to , wolf , still louder than before . but this time the villagers , who had been fooled twice before , thought the boy was again deceiving them , and nobody stirred to come to his help .\n"
     ]
    }
   ],
   "source": [
    "def generate_fable(model_path, n_input):\n",
    "    model_saver = tf.train.Saver()\n",
    "    with tf.Session() as session:\n",
    "        model_saver.restore(session, model_path)\n",
    "        n = np.random.randint(0, len(train_data) - n_input)\n",
    "        words = train_data[n:n + n_input].tolist()\n",
    "        while words.count('.') < 5 and len(words) < 1000:  # set an upper bound on iterations\n",
    "            sentence = ' '.join(words[-n_input:])\n",
    "            words.append(test(sentence, session))\n",
    "\n",
    "    if words[-1] != '.':\n",
    "        words.append('.')\n",
    "    return ' '.join(words)\n",
    "\n",
    "print(generate_fable(path, n_input))"
   ]
  },
  {
   "cell_type": "markdown",
   "metadata": {},
   "source": [
    "<div class='alert alert-warning'>\n",
    "As we can see, we get stuck in a loop. This is due to the fact that the window of words we consider for the prediction is too small: we only look at the previous 3 words to get the next one, so for example, every time we start from \"a few days\" we will always predict \"not\", every time we start from \"few days not\", we will get \"he\" and so on. We will see if increasing the window of input words to 5 will solve the problem.\n",
    "</div>"
   ]
  },
  {
   "cell_type": "markdown",
   "metadata": {},
   "source": [
    "### 3.3. Play with number of inputs"
   ]
  },
  {
   "cell_type": "markdown",
   "metadata": {
    "collapsed": true
   },
   "source": [
    "The number of input in our example is 3, see what happens when you use other number (1 and 5)"
   ]
  },
  {
   "cell_type": "markdown",
   "metadata": {},
   "source": [
    "#### 3.3.1 Number of inputs = 5"
   ]
  },
  {
   "cell_type": "code",
   "execution_count": 55,
   "metadata": {
    "scrolled": false
   },
   "outputs": [
    {
     "name": "stdout",
     "output_type": "stream",
     "text": [
      "Start Training\n",
      "Iter = 1000, Average Loss = 4.534271, Average Accuracy = 4.20%\n",
      "[',', 'who', 'had', 'been', 'fooled'] - [twice] vs [,]\n",
      "Iter = 2000, Average Loss = 3.492237, Average Accuracy = 15.70%\n",
      "['cried', 'out', 'wolf', ',', 'wolf'] - [,] vs [,]\n",
      "Iter = 3000, Average Loss = 3.140568, Average Accuracy = 25.20%\n",
      "['days', 'afterwards', 'he', 'tried', 'the'] - [same] vs [same]\n",
      "Iter = 4000, Average Loss = 2.300298, Average Accuracy = 44.20%\n",
      "['could', 'get', 'a', 'little', 'company'] - [and] vs [.]\n",
      "Iter = 5000, Average Loss = 1.349931, Average Accuracy = 65.60%\n",
      "[',', 'the', 'wise', 'man', 'of'] - [the] vs [again]\n",
      "Iter = 6000, Average Loss = 1.511263, Average Accuracy = 66.90%\n",
      "['so', 'the', 'wolf', 'made', 'a'] - [good] vs [good]\n",
      "Iter = 7000, Average Loss = 0.828632, Average Accuracy = 81.00%\n",
      "['come', 'out', 'from', 'the', 'forest'] - [,] vs [,]\n",
      "Iter = 8000, Average Loss = 0.525453, Average Accuracy = 85.70%\n",
      "['a', 'considerable', 'time', '.', 'this'] - [pleased] vs [pleased]\n",
      "Iter = 9000, Average Loss = 0.283476, Average Accuracy = 91.70%\n",
      "['village', 'calling', 'out', 'wolf', ','] - [wolf] vs [wolf]\n",
      "Iter = 10000, Average Loss = 0.194842, Average Accuracy = 95.40%\n",
      "['was', 'rather', 'lonely', 'for', 'him'] - [all] vs [all]\n",
      "Iter = 11000, Average Loss = 0.094594, Average Accuracy = 98.10%\n",
      "[',', 'even', 'when', 'he', 'speaks'] - [the] vs [the]\n",
      "Iter = 12000, Average Loss = 0.094841, Average Accuracy = 98.10%\n",
      "['help', '.', 'so', 'the', 'wolf'] - [made] vs [made]\n",
      "Iter = 13000, Average Loss = 0.158557, Average Accuracy = 96.00%\n",
      "['but', 'shortly', 'after', 'this', 'a'] - [wolf] vs [wolf]\n",
      "Iter = 14000, Average Loss = 0.070777, Average Accuracy = 98.60%\n",
      "['.', 'he', 'rushed', 'down', 'towards'] - [the] vs [the]\n",
      "Iter = 15000, Average Loss = 0.058840, Average Accuracy = 98.90%\n",
      "['mountain', 'near', 'a', 'dark', 'forest'] - [.] vs [.]\n",
      "Iter = 16000, Average Loss = 0.064099, Average Accuracy = 98.20%\n",
      "['made', 'a', 'good', 'meal', 'off'] - [the] vs [the]\n",
      "Iter = 17000, Average Loss = 0.066914, Average Accuracy = 98.50%\n",
      "['louder', 'than', 'before', '.', 'but'] - [this] vs [this]\n",
      "Iter = 18000, Average Loss = 0.078624, Average Accuracy = 97.90%\n",
      "[',', 'and', 'some', 'of', 'them'] - [stopped] vs [stopped]\n",
      "Iter = 19000, Average Loss = 0.038941, Average Accuracy = 99.00%\n",
      "['lonely', 'for', 'him', 'all', 'day'] - [,] vs [,]\n",
      "Iter = 20000, Average Loss = 0.033538, Average Accuracy = 99.30%\n",
      "['off', 'the', \"boy's\", 'flock', ','] - [and] vs [and]\n",
      "Iter = 21000, Average Loss = 0.041006, Average Accuracy = 99.00%\n",
      "['been', 'fooled', 'twice', 'before', ','] - [thought] vs [thought]\n",
      "Iter = 22000, Average Loss = 0.036422, Average Accuracy = 99.20%\n",
      "[',', 'still', 'louder', 'than', 'before'] - [.] vs [.]\n",
      "Iter = 23000, Average Loss = 0.038930, Average Accuracy = 98.80%\n",
      "['same', 'trick', ',', 'and', 'again'] - [the] vs [the]\n",
      "Iter = 24000, Average Loss = 0.033826, Average Accuracy = 99.30%\n",
      "['company', 'and', 'some', 'excitement', '.'] - [he] vs [he]\n",
      "Iter = 25000, Average Loss = 0.027979, Average Accuracy = 99.40%\n",
      "['of', 'a', 'mountain', 'near', 'a'] - [dark] vs [dark]\n",
      "Iter = 26000, Average Loss = 0.051186, Average Accuracy = 99.10%\n",
      "['the', \"boy's\", 'flock', ',', 'and'] - [when] vs [when]\n",
      "Iter = 27000, Average Loss = 0.049049, Average Accuracy = 98.70%\n",
      "['villagers', ',', 'who', 'had', 'been'] - [fooled] vs [fooled]\n",
      "Iter = 28000, Average Loss = 0.049350, Average Accuracy = 99.00%\n",
      "['and', 'again', 'the', 'villagers', 'came'] - [to] vs [to]\n",
      "Iter = 29000, Average Loss = 0.050888, Average Accuracy = 98.70%\n",
      "['came', 'out', 'to', 'meet', 'him'] - [,] vs [,]\n",
      "Iter = 30000, Average Loss = 0.043816, Average Accuracy = 98.90%\n",
      "['by', 'which', 'he', 'could', 'get'] - [a] vs [a]\n",
      "Iter = 31000, Average Loss = 0.030854, Average Accuracy = 98.90%\n",
      "['liar', 'will', 'not', 'be', 'believed'] - [,] vs [,]\n",
      "Iter = 32000, Average Loss = 0.039151, Average Accuracy = 98.90%\n",
      "['made', 'a', 'good', 'meal', 'off'] - [the] vs [the]\n",
      "Iter = 33000, Average Loss = 0.030771, Average Accuracy = 99.00%\n",
      "['louder', 'than', 'before', '.', 'but'] - [this] vs [this]\n",
      "Iter = 34000, Average Loss = 0.019893, Average Accuracy = 99.60%\n",
      "['but', 'shortly', 'after', 'this', 'a'] - [wolf] vs [wolf]\n",
      "Iter = 35000, Average Loss = 0.034900, Average Accuracy = 98.90%\n",
      "['the', 'villagers', 'came', 'out', 'to'] - [meet] vs [meet]\n",
      "Iter = 36000, Average Loss = 0.047207, Average Accuracy = 98.90%\n",
      "['there', 'was', 'once', 'a', 'young'] - [shepherd] vs [shepherd]\n",
      "Iter = 37000, Average Loss = 0.030508, Average Accuracy = 99.30%\n",
      "['to', 'come', 'to', 'his', 'help'] - [.] vs [.]\n",
      "Iter = 38000, Average Loss = 0.031826, Average Accuracy = 99.10%\n",
      "['to', 'worry', 'the', 'sheep,', 'and'] - [the] vs [the]\n",
      "Iter = 39000, Average Loss = 0.050239, Average Accuracy = 98.90%\n",
      "['considerable', 'time', '.', 'this', 'pleased'] - [the] vs [the]\n",
      "Iter = 40000, Average Loss = 0.023959, Average Accuracy = 99.20%\n",
      "['a', 'dark', 'forest', '.', 'it'] - [was] vs [was]\n",
      "Iter = 41000, Average Loss = 0.026696, Average Accuracy = 99.30%\n",
      "['said', ':', 'a', 'liar', 'will'] - [not] vs [not]\n",
      "Iter = 42000, Average Loss = 0.031461, Average Accuracy = 98.90%\n",
      "['before', '.', 'but', 'this', 'time'] - [the] vs [the]\n",
      "Iter = 43000, Average Loss = 0.061457, Average Accuracy = 99.00%\n",
      "['a', 'few', 'days', 'afterwards', 'he'] - [tried] vs [tried]\n",
      "Iter = 44000, Average Loss = 0.029410, Average Accuracy = 99.10%\n",
      "['village', 'calling', 'out', 'wolf', ','] - [wolf] vs [wolf]\n",
      "Iter = 45000, Average Loss = 0.048470, Average Accuracy = 98.70%\n",
      "['a', 'dark', 'forest', '.', 'it'] - [was] vs [was]\n",
      "Iter = 46000, Average Loss = 0.050945, Average Accuracy = 98.70%\n",
      "['help', '.', 'so', 'the', 'wolf'] - [made] vs [made]\n",
      "Iter = 47000, Average Loss = 0.041672, Average Accuracy = 98.80%\n",
      "['villagers', 'came', 'to', 'his', 'help'] - [.] vs [.]\n",
      "Iter = 48000, Average Loss = 0.042145, Average Accuracy = 98.50%\n",
      "['little', 'company', 'and', 'some', 'excitement'] - [.] vs [.]\n",
      "Iter = 49000, Average Loss = 0.031692, Average Accuracy = 99.20%\n",
      "['once', 'a', 'young', 'shepherd', 'boy'] - [who] vs [who]\n",
      "Iter = 50000, Average Loss = 0.026365, Average Accuracy = 98.90%\n",
      "['meal', 'off', 'the', \"boy's\", 'flock'] - [,] vs [,]\n",
      "End Of training Finished!\n",
      "time:  82.9051342010498\n",
      "For tensorboard visualisation run on command line.\n",
      "\ttensorboard --logdir=lstm_words\n",
      "and oint your web browser to the returned link\n",
      "Model saved\n"
     ]
    }
   ],
   "source": [
    "n_input=5\n",
    "n_layers=2\n",
    "n_hidden=64\n",
    "\n",
    "x, y, weights, biases, pred, cost, optimizer, correct_pred, accuracy, path = define_graph(learning_rate=0.001,\n",
    "                                                                                          n_input=n_input,\n",
    "                                                                                          n_layers=n_layers,\n",
    "                                                                                          n_hidden=n_hidden)\n",
    "losses, accuracies = lstm_training(x, y, weights, biases, pred, cost, optimizer, \n",
    "                                  correct_pred, accuracy, path,\n",
    "                                  epochs=50000, n_input=n_input)"
   ]
  },
  {
   "cell_type": "code",
   "execution_count": 58,
   "metadata": {},
   "outputs": [
    {
     "data": {
      "image/png": "[encoded data removed]",
      "text/plain": [
       "<matplotlib.figure.Figure at 0x2b4e58fcdb38>"
      ]
     },
     "metadata": {},
     "output_type": "display_data"
    }
   ],
   "source": [
    "fig, (ax1, ax2) = plt.subplots(2, 1, figsize=(15, 8))\n",
    "ax1.plot(losses)\n",
    "ax1.set_title('Loss')\n",
    "ax2.plot(accuracies)\n",
    "ax2.set_title('Accuracy')\n",
    "plt.show()"
   ]
  },
  {
   "cell_type": "markdown",
   "metadata": {},
   "source": [
    "<div class='alert alert-warning'>\n",
    "In this case, we notice that we converge pretty easily to a very low loss value and almost a 100% accuracy in a small set of iterations.\n",
    "</div>"
   ]
  },
  {
   "cell_type": "code",
   "execution_count": 56,
   "metadata": {},
   "outputs": [
    {
     "name": "stdout",
     "output_type": "stream",
     "text": [
      "thought the boy was again deceiving\n",
      " Predicted word: deceiving \n",
      " Word from text: deceiving\n",
      "but this time the villagers ,\n",
      " Predicted word: , \n",
      " Word from text: ,\n",
      "who had been fooled twice before\n",
      " Predicted word: before \n",
      " Word from text: before\n",
      "by which he could get a\n",
      " Predicted word: a \n",
      " Word from text: a\n",
      "did come out from the forest\n",
      " Predicted word: forest \n",
      " Word from text: forest\n",
      ". it was rather lonely for\n",
      " Predicted word: for \n",
      " Word from text: for\n",
      "could get a little company and\n",
      " Predicted word: and \n",
      " Word from text: and\n",
      "wolf , and the villagers came\n",
      " Predicted word: came \n",
      " Word from text: came\n",
      ", even when he speaks the\n",
      " Predicted word: the \n",
      " Word from text: the\n",
      "there was once a young shepherd\n",
      " Predicted word: shepherd \n",
      " Word from text: shepherd\n"
     ]
    }
   ],
   "source": [
    "next_word_prediction(path, n_input)"
   ]
  },
  {
   "cell_type": "code",
   "execution_count": 57,
   "metadata": {},
   "outputs": [
    {
     "name": "stdout",
     "output_type": "stream",
     "text": [
      "the sheep, and the boy of course cried out wolf , wolf , and the villagers came out to meet him , and some of them stopped with him for a considerable time . this pleased the boy so much that a few days afterwards he tried the same trick , and again the villagers came to his help . but shortly after this a wolf actually did come out from the forest , and began to worry the sheep, and the boy of course cried out wolf , wolf , and the villagers came out to meet him , and some of them stopped with him for a considerable time . this pleased the boy so much that a few days afterwards he tried the same trick , and again the villagers came to his help . but shortly after this a wolf actually did come out from the forest , and began to worry the sheep, and the boy of course cried out wolf , wolf , and the villagers came out to meet him , and some of them stopped with him for a considerable time .\n"
     ]
    }
   ],
   "source": [
    "print(generate_fable(path, n_input))"
   ]
  },
  {
   "cell_type": "markdown",
   "metadata": {},
   "source": [
    "<font size=\"3\" face=\"verdana\" > <i> \"There was once a young Shepherd Boy who tended his sheep at the foot of a mountain near a dark forest.\n",
    "\n",
    "It was rather lonely for him all day, so he thought upon a plan by which he could get a little company and some excitement.\n",
    "He rushed down towards the village calling out \"Wolf, Wolf,\" and the villagers came out to meet him, and some of them stopped with him for a considerable time.\n",
    "This pleased the boy so much that a few days afterwards he tried the same trick, and again the villagers came to his help.\n",
    "But shortly after this a Wolf actually did come out from the forest, and began to worry the sheep, and the boy of course cried out \"Wolf, Wolf,\" still louder than before.\n",
    "But this time the villagers, who had been fooled twice before, thought the boy was again deceiving them, and nobody stirred to come to his help.\n",
    "So the Wolf made a good meal off the boy's flock, and when the boy complained, the wise man of the village said:\n",
    "\"A liar will not be believed, even when he speaks the truth.\"  \"</i> </font>.    \n",
    "\n",
    "\n",
    "\n",
    "\n",
    "\n"
   ]
  },
  {
   "cell_type": "markdown",
   "metadata": {},
   "source": [
    "<div class='alert alert-warning'>\n",
    "As we can see the text we obtain is exactly the same as the original. We believe this is due to overfitting on the training data: in fact, the window of words we train on is too big, and we end up guessing all the right words.\n",
    "</div>"
   ]
  },
  {
   "cell_type": "markdown",
   "metadata": {},
   "source": [
    "#### 3.3.2 Number of inputs = 1"
   ]
  },
  {
   "cell_type": "code",
   "execution_count": 59,
   "metadata": {
    "scrolled": false
   },
   "outputs": [
    {
     "name": "stdout",
     "output_type": "stream",
     "text": [
      "Start Training\n",
      "Iter = 1000, Average Loss = 4.601986, Average Accuracy = 4.50%\n",
      "['boy'] - [so] vs [,]\n",
      "Iter = 2000, Average Loss = 4.083218, Average Accuracy = 9.20%\n",
      "['so'] - [the] vs [.]\n",
      "Iter = 3000, Average Loss = 4.035994, Average Accuracy = 9.20%\n",
      "['.'] - [he] vs [and]\n",
      "Iter = 4000, Average Loss = 3.901859, Average Accuracy = 9.70%\n",
      "['the'] - [boy] vs [and]\n",
      "Iter = 5000, Average Loss = 4.012049, Average Accuracy = 9.20%\n",
      "['boy'] - [who] vs [the]\n",
      "Iter = 6000, Average Loss = 3.724730, Average Accuracy = 13.50%\n",
      "['a'] - [few] vs [and]\n",
      "Iter = 7000, Average Loss = 3.664440, Average Accuracy = 13.90%\n",
      "['wolf'] - [made] vs [his]\n",
      "Iter = 8000, Average Loss = 3.738899, Average Accuracy = 13.20%\n",
      "['some'] - [excitement] vs [.]\n",
      "Iter = 9000, Average Loss = 3.776730, Average Accuracy = 13.90%\n",
      "['the'] - [boy] vs [boy]\n",
      "Iter = 10000, Average Loss = 3.765504, Average Accuracy = 12.30%\n",
      "['a'] - [young] vs [and]\n",
      "Iter = 11000, Average Loss = 3.869902, Average Accuracy = 12.40%\n",
      "['afterwards'] - [he] vs [a]\n",
      "Iter = 12000, Average Loss = 3.770469, Average Accuracy = 13.40%\n",
      "['wolf'] - [made] vs [,]\n",
      "Iter = 13000, Average Loss = 3.668227, Average Accuracy = 15.00%\n",
      "['little'] - [company] vs [a]\n",
      "Iter = 14000, Average Loss = 3.755670, Average Accuracy = 12.50%\n",
      "['out'] - [wolf] vs [wolf]\n",
      "Iter = 15000, Average Loss = 3.627486, Average Accuracy = 15.20%\n",
      "['young'] - [shepherd] vs [.]\n",
      "Iter = 16000, Average Loss = 3.541469, Average Accuracy = 15.50%\n",
      "['that'] - [a] vs [the]\n",
      "Iter = 17000, Average Loss = 3.712390, Average Accuracy = 15.30%\n",
      "['his'] - [help] vs [to]\n",
      "Iter = 18000, Average Loss = 3.669742, Average Accuracy = 14.90%\n",
      "['.'] - [he] vs [,]\n",
      "Iter = 19000, Average Loss = 3.641405, Average Accuracy = 15.00%\n",
      "['course'] - [cried] vs [the]\n",
      "Iter = 20000, Average Loss = 3.659923, Average Accuracy = 16.00%\n",
      "['boy'] - [who] vs [his]\n",
      "Iter = 21000, Average Loss = 3.401525, Average Accuracy = 17.40%\n",
      "['much'] - [that] vs [a]\n",
      "Iter = 22000, Average Loss = 3.695610, Average Accuracy = 13.50%\n",
      "['help'] - [.] vs [.]\n",
      "Iter = 23000, Average Loss = 3.311575, Average Accuracy = 13.70%\n",
      "['company'] - [and] vs [lonely]\n",
      "Iter = 24000, Average Loss = 3.537475, Average Accuracy = 12.90%\n",
      "['course'] - [cried] vs [the]\n",
      "Iter = 25000, Average Loss = 3.171323, Average Accuracy = 14.10%\n",
      "['boy'] - [who] vs [wolf]\n",
      "Iter = 26000, Average Loss = 3.763664, Average Accuracy = 14.00%\n",
      "['tried'] - [the] vs [he]\n",
      "Iter = 27000, Average Loss = 3.331440, Average Accuracy = 13.70%\n",
      "['meal'] - [off] vs [fooled]\n",
      "Iter = 28000, Average Loss = 3.631148, Average Accuracy = 12.50%\n",
      "['rushed'] - [down] vs [near]\n",
      "Iter = 29000, Average Loss = 3.529160, Average Accuracy = 14.80%\n",
      "['still'] - [louder] vs [the]\n",
      "Iter = 30000, Average Loss = 3.519829, Average Accuracy = 13.80%\n",
      "['at'] - [the] vs [.]\n",
      "Iter = 31000, Average Loss = 3.327297, Average Accuracy = 13.10%\n",
      "['few'] - [days] vs [lonely]\n",
      "Iter = 32000, Average Loss = 3.589628, Average Accuracy = 13.00%\n",
      "['so'] - [the] vs [,]\n",
      "Iter = 33000, Average Loss = 3.344762, Average Accuracy = 14.20%\n",
      "['towards'] - [the] vs [he]\n",
      "Iter = 34000, Average Loss = 3.619463, Average Accuracy = 14.70%\n",
      "['wolf'] - [,] vs [,]\n",
      "Iter = 35000, Average Loss = 3.712227, Average Accuracy = 12.50%\n",
      "['at'] - [the] vs [.]\n",
      "Iter = 36000, Average Loss = 3.441635, Average Accuracy = 14.20%\n",
      "['and'] - [again] vs [the]\n",
      "Iter = 37000, Average Loss = 3.518028, Average Accuracy = 14.10%\n",
      "['the'] - [boy] vs [boy]\n",
      "Iter = 38000, Average Loss = 3.388567, Average Accuracy = 13.90%\n",
      "[','] - [wolf] vs [and]\n",
      "Iter = 39000, Average Loss = 3.536745, Average Accuracy = 13.60%\n",
      "['time'] - [the] vs [.]\n",
      "Iter = 40000, Average Loss = 3.530117, Average Accuracy = 14.30%\n",
      "['it'] - [was] vs [.]\n",
      "Iter = 41000, Average Loss = 3.269730, Average Accuracy = 13.30%\n",
      "['help'] - [.] vs [.]\n",
      "Iter = 42000, Average Loss = 3.530247, Average Accuracy = 13.00%\n",
      "['man'] - [of] vs [,]\n",
      "Iter = 43000, Average Loss = 3.394270, Average Accuracy = 13.30%\n",
      "['out'] - [to] vs [,]\n",
      "Iter = 44000, Average Loss = 3.539987, Average Accuracy = 13.40%\n",
      "['been'] - [fooled] vs [the]\n",
      "Iter = 45000, Average Loss = 3.724333, Average Accuracy = 12.70%\n",
      "['was'] - [rather] vs [the]\n",
      "Iter = 46000, Average Loss = 3.519777, Average Accuracy = 13.00%\n",
      "['this'] - [a] vs [a]\n",
      "Iter = 47000, Average Loss = 3.460342, Average Accuracy = 13.70%\n",
      "['will'] - [not] vs [the]\n",
      "Iter = 48000, Average Loss = 3.755230, Average Accuracy = 12.50%\n",
      "['considerable'] - [time] vs [,]\n",
      "Iter = 49000, Average Loss = 3.546950, Average Accuracy = 14.70%\n",
      "['come'] - [to] vs [,]\n",
      "Iter = 50000, Average Loss = 3.487055, Average Accuracy = 13.60%\n",
      "['get'] - [a] vs [a]\n",
      "End Of training Finished!\n",
      "time:  40.616902351379395\n",
      "For tensorboard visualisation run on command line.\n",
      "\ttensorboard --logdir=lstm_words\n",
      "and oint your web browser to the returned link\n",
      "Model saved\n"
     ]
    }
   ],
   "source": [
    "n_input=1\n",
    "n_layers=2\n",
    "n_hidden=64\n",
    "\n",
    "x, y, weights, biases, pred, cost, optimizer, correct_pred, accuracy, path = define_graph(learning_rate=0.001,\n",
    "                                                                                          n_input=n_input,\n",
    "                                                                                          n_layers=n_layers,\n",
    "                                                                                          n_hidden=n_hidden)\n",
    "losses, accuracies = lstm_training(x, y, weights, biases, pred, cost, optimizer, \n",
    "                                  correct_pred, accuracy, path,\n",
    "                                  epochs=50000, n_input=n_input)"
   ]
  },
  {
   "cell_type": "code",
   "execution_count": 60,
   "metadata": {},
   "outputs": [
    {
     "data": {
      "image/png": "[encoded data removed]",
      "text/plain": [
       "<matplotlib.figure.Figure at 0x2b4e58fcde48>"
      ]
     },
     "metadata": {},
     "output_type": "display_data"
    }
   ],
   "source": [
    "fig, (ax1, ax2) = plt.subplots(2, 1, figsize=(15, 8))\n",
    "ax1.plot(losses)\n",
    "ax1.set_title('Loss')\n",
    "ax2.plot(accuracies)\n",
    "ax2.set_title('Accuracy')\n",
    "plt.show()"
   ]
  },
  {
   "cell_type": "code",
   "execution_count": 61,
   "metadata": {},
   "outputs": [
    {
     "name": "stdout",
     "output_type": "stream",
     "text": [
      ". his\n",
      " Predicted word: his \n",
      " Word from text: it\n",
      "for ,\n",
      " Predicted word: , \n",
      " Word from text: a\n",
      "a the\n",
      " Predicted word: the \n",
      " Word from text: plan\n",
      "the boy\n",
      " Predicted word: boy \n",
      " Word from text: village\n",
      ", and\n",
      " Predicted word: and \n",
      " Word from text: still\n",
      "out ,\n",
      " Predicted word: , \n",
      " Word from text: from\n",
      "company the\n",
      " Predicted word: the \n",
      " Word from text: and\n",
      "the boy\n",
      " Predicted word: boy \n",
      " Word from text: boy\n",
      "calling a\n",
      " Predicted word: a \n",
      " Word from text: out\n",
      "made a\n",
      " Predicted word: a \n",
      " Word from text: a\n"
     ]
    }
   ],
   "source": [
    "next_word_prediction(path, n_input)"
   ]
  },
  {
   "cell_type": "markdown",
   "metadata": {},
   "source": [
    "<div class='alert alert-warning'>\n",
    "As expected given the low accuracy obtained in the training phase, we do not have good guesses on the next words in this case.\n",
    "</div>"
   ]
  },
  {
   "cell_type": "code",
   "execution_count": 62,
   "metadata": {},
   "outputs": [
    {
     "name": "stdout",
     "output_type": "stream",
     "text": [
      "could a the boy , and the boy , and the boy , and the boy , and the boy , and the boy , and the boy , and the boy , and the boy , and the boy , and the boy , and the boy , and the boy , and the boy , and the boy , and the boy , and the boy , and the boy , and the boy , and the boy , and the boy , and the boy , and the boy , and the boy , and the boy , and the boy , and the boy , and the boy , and the boy , and the boy , and the boy , and the boy , and the boy , and the boy , and the boy , and the boy , and the boy , and the boy , and the boy , and the boy , and the boy , and the boy , and the boy , and the boy , and the boy , and the boy , and the boy , and the boy , and the boy , and the boy , and the boy , and the boy , and the boy , and the boy , and the boy , and the boy , and the boy , and the boy , and the boy , and the boy , and the boy , and the boy , and the boy , and the boy , and the boy , and the boy , and the boy , and the boy , and the boy , and the boy , and the boy , and the boy , and the boy , and the boy , and the boy , and the boy , and the boy , and the boy , and the boy , and the boy , and the boy , and the boy , and the boy , and the boy , and the boy , and the boy , and the boy , and the boy , and the boy , and the boy , and the boy , and the boy , and the boy , and the boy , and the boy , and the boy , and the boy , and the boy , and the boy , and the boy , and the boy , and the boy , and the boy , and the boy , and the boy , and the boy , and the boy , and the boy , and the boy , and the boy , and the boy , and the boy , and the boy , and the boy , and the boy , and the boy , and the boy , and the boy , and the boy , and the boy , and the boy , and the boy , and the boy , and the boy , and the boy , and the boy , and the boy , and the boy , and the boy , and the boy , and the boy , and the boy , and the boy , and the boy , and the boy , and the boy , and the boy , and the boy , and the boy , and the boy , and the boy , and the boy , and the boy , and the boy , and the boy , and the boy , and the boy , and the boy , and the boy , and the boy , and the boy , and the boy , and the boy , and the boy , and the boy , and the boy , and the boy , and the boy , and the boy , and the boy , and the boy , and the boy , and the boy , and the boy , and the boy , and the boy , and the boy , and the boy , and the boy , and the boy , and the boy , and the boy , and the boy , and the boy , and the boy , and the boy , and the boy , and the boy , and the boy , and the boy , and the boy , and the boy , and the boy , and the boy , and the boy , and the boy , and the boy , and the boy , and the boy , and the boy , and the boy , and the boy , and the boy , and the boy , and the boy , and the boy , and the boy , and the boy , and the boy , and the boy , and the boy , and the boy , and the boy , and the boy , and the boy , and the boy , and the boy , and the boy , and the boy , and the boy , and the boy , and the boy , and the boy , and the boy , and the boy , and the boy , and the boy , and the boy , and the boy , and the boy , and the boy , and the boy , and the boy , and the boy , and the boy , and the boy , and the boy , and the boy , and the boy , and the boy , and the boy , and the boy , and the boy , and the boy , and the boy , and the boy , and the boy , and the boy , and the boy , and the boy , and the boy , and the boy , and the boy , and the boy , and the boy , and the boy , and the boy , and the boy , and the boy , and the boy .\n"
     ]
    }
   ],
   "source": [
    "print(generate_fable(path, n_input))"
   ]
  },
  {
   "cell_type": "markdown",
   "metadata": {},
   "source": [
    "<div class='alert alert-warning'>\n",
    "As happened above with input=3, here we are stuck in a loop and we keep printing the same sentences over again. This is due to the fact that the window is too small, and it predicts only based on the last word: every time it finds \",\" for example, it will always predict \"and\" as the following word. Same with \"and\" and \"the\" and so on.\n",
    "</div>"
   ]
  },
  {
   "cell_type": "markdown",
   "metadata": {},
   "source": [
    "#### 3.3.3 Number of inputs = 4"
   ]
  },
  {
   "cell_type": "code",
   "execution_count": 63,
   "metadata": {
    "scrolled": false
   },
   "outputs": [
    {
     "name": "stdout",
     "output_type": "stream",
     "text": [
      "Start Training\n",
      "Iter = 1000, Average Loss = 4.492513, Average Accuracy = 5.50%\n",
      "['when', 'the', 'boy', 'complained'] - [,] vs [and]\n",
      "Iter = 2000, Average Loss = 3.934577, Average Accuracy = 10.10%\n",
      "['thought', 'the', 'boy', 'was'] - [again] vs [,]\n",
      "Iter = 3000, Average Loss = 3.223678, Average Accuracy = 20.60%\n",
      "['time', 'the', 'villagers', ','] - [who] vs [who]\n",
      "Iter = 4000, Average Loss = 2.563735, Average Accuracy = 34.00%\n",
      "['from', 'the', 'forest', ','] - [and] vs [and]\n",
      "Iter = 5000, Average Loss = 1.944986, Average Accuracy = 48.80%\n",
      "['that', 'a', 'few', 'days'] - [afterwards] vs [off]\n",
      "Iter = 6000, Average Loss = 1.375919, Average Accuracy = 64.40%\n",
      "['with', 'him', 'for', 'a'] - [considerable] vs [considerable]\n",
      "Iter = 7000, Average Loss = 1.222300, Average Accuracy = 67.90%\n",
      "['the', 'village', 'calling', 'out'] - [wolf] vs [wolf]\n",
      "Iter = 8000, Average Loss = 0.831691, Average Accuracy = 78.90%\n",
      "['upon', 'a', 'plan', 'by'] - [which] vs [which]\n",
      "Iter = 9000, Average Loss = 0.611127, Average Accuracy = 85.10%\n",
      "['lonely', 'for', 'him', 'all'] - [day] vs [day]\n",
      "Iter = 10000, Average Loss = 0.464914, Average Accuracy = 87.90%\n",
      "[',', 'even', 'when', 'he'] - [speaks] vs [speaks]\n",
      "Iter = 11000, Average Loss = 0.335075, Average Accuracy = 91.10%\n",
      "[':', 'a', 'liar', 'will'] - [not] vs [which]\n",
      "Iter = 12000, Average Loss = 0.332938, Average Accuracy = 91.30%\n",
      "['made', 'a', 'good', 'meal'] - [off] vs [off]\n",
      "Iter = 13000, Average Loss = 0.288668, Average Accuracy = 92.10%\n",
      "['wolf', ',', 'still', 'louder'] - [than] vs [than]\n",
      "Iter = 14000, Average Loss = 0.225711, Average Accuracy = 94.00%\n",
      "['help', '.', 'but', 'shortly'] - [after] vs [after]\n",
      "Iter = 15000, Average Loss = 0.203725, Average Accuracy = 94.50%\n",
      "['few', 'days', 'afterwards', 'he'] - [tried] vs [tried]\n",
      "Iter = 16000, Average Loss = 0.188136, Average Accuracy = 94.50%\n",
      "['boy', 'so', 'much', 'that'] - [a] vs [a]\n",
      "Iter = 17000, Average Loss = 0.211577, Average Accuracy = 94.50%\n",
      "['some', 'of', 'them', 'stopped'] - [with] vs [with]\n",
      "Iter = 18000, Average Loss = 0.167835, Average Accuracy = 95.00%\n",
      "['villagers', 'came', 'out', 'to'] - [meet] vs [meet]\n",
      "Iter = 19000, Average Loss = 0.167158, Average Accuracy = 94.40%\n",
      "['and', 'some', 'excitement', '.'] - [he] vs [he]\n",
      "Iter = 20000, Average Loss = 0.133369, Average Accuracy = 96.50%\n",
      "['little', 'company', 'and', 'some'] - [excitement] vs [excitement]\n",
      "Iter = 21000, Average Loss = 0.167377, Average Accuracy = 95.40%\n",
      "['was', 'rather', 'lonely', 'for'] - [him] vs [him]\n",
      "Iter = 22000, Average Loss = 0.129894, Average Accuracy = 95.60%\n",
      "['believed', ',', 'even', 'when'] - [he] vs [he]\n",
      "Iter = 23000, Average Loss = 0.135027, Average Accuracy = 95.40%\n",
      "['and', 'when', 'the', 'boy'] - [complained] vs [complained]\n",
      "Iter = 24000, Average Loss = 0.134246, Average Accuracy = 95.90%\n",
      "['come', 'to', 'his', 'help'] - [.] vs [.]\n",
      "Iter = 25000, Average Loss = 0.111808, Average Accuracy = 96.90%\n",
      "['wolf', ',', 'still', 'louder'] - [than] vs [than]\n",
      "Iter = 26000, Average Loss = 0.143209, Average Accuracy = 95.90%\n",
      "['to', 'worry', 'the', 'sheep,'] - [and] vs [and]\n",
      "Iter = 27000, Average Loss = 0.114820, Average Accuracy = 96.80%\n",
      "['much', 'that', 'a', 'few'] - [days] vs [days]\n",
      "Iter = 28000, Average Loss = 0.120839, Average Accuracy = 96.90%\n",
      "['and', 'the', 'villagers', 'came'] - [out] vs [out]\n",
      "Iter = 29000, Average Loss = 0.106479, Average Accuracy = 96.30%\n",
      "['and', 'some', 'excitement', '.'] - [he] vs [he]\n",
      "Iter = 30000, Average Loss = 0.117537, Average Accuracy = 97.10%\n",
      "['upon', 'a', 'plan', 'by'] - [which] vs [and]\n",
      "Iter = 31000, Average Loss = 0.104086, Average Accuracy = 96.60%\n",
      "['a', 'liar', 'will', 'not'] - [be] vs [be]\n",
      "Iter = 32000, Average Loss = 0.081138, Average Accuracy = 97.50%\n",
      "['the', 'wolf', 'made', 'a'] - [good] vs [good]\n",
      "Iter = 33000, Average Loss = 0.126120, Average Accuracy = 96.40%\n",
      "['boy', 'was', 'again', 'deceiving'] - [them] vs [them]\n",
      "Iter = 34000, Average Loss = 0.079394, Average Accuracy = 97.90%\n",
      "[',', 'wolf', ',', 'still'] - [louder] vs [louder]\n",
      "Iter = 35000, Average Loss = 0.108986, Average Accuracy = 97.80%\n",
      "['cried', 'out', 'wolf', ','] - [wolf] vs [wolf]\n",
      "Iter = 36000, Average Loss = 0.074038, Average Accuracy = 97.80%\n",
      "['this', 'a', 'wolf', 'actually'] - [did] vs [did]\n",
      "Iter = 37000, Average Loss = 0.103355, Average Accuracy = 97.90%\n",
      "['few', 'days', 'afterwards', 'he'] - [tried] vs [tried]\n",
      "Iter = 38000, Average Loss = 0.121135, Average Accuracy = 97.90%\n",
      "['stopped', 'with', 'him', 'for'] - [a] vs [a]\n",
      "Iter = 39000, Average Loss = 0.101620, Average Accuracy = 97.80%\n",
      "['calling', 'out', 'wolf', ','] - [wolf] vs [wolf]\n",
      "Iter = 40000, Average Loss = 0.085755, Average Accuracy = 97.30%\n",
      "['all', 'day', ',', 'so'] - [he] vs [he]\n",
      "Iter = 41000, Average Loss = 0.111327, Average Accuracy = 97.00%\n",
      "['a', 'young', 'shepherd', 'boy'] - [who] vs [who]\n",
      "Iter = 42000, Average Loss = 0.101726, Average Accuracy = 97.80%\n",
      "['a', 'liar', 'will', 'not'] - [be] vs [be]\n",
      "Iter = 43000, Average Loss = 0.120813, Average Accuracy = 96.90%\n",
      "['off', 'the', \"boy's\", 'flock'] - [,] vs [,]\n",
      "Iter = 44000, Average Loss = 0.096632, Average Accuracy = 97.60%\n",
      "['come', 'to', 'his', 'help'] - [.] vs [.]\n",
      "Iter = 45000, Average Loss = 0.089871, Average Accuracy = 97.30%\n",
      "['the', 'sheep,', 'and', 'the'] - [boy] vs [boy]\n",
      "Iter = 46000, Average Loss = 0.094708, Average Accuracy = 97.30%\n",
      "[',', 'and', 'again', 'the'] - [villagers] vs [boy]\n",
      "Iter = 47000, Average Loss = 0.093574, Average Accuracy = 95.50%\n",
      "['meet', 'him', ',', 'and'] - [some] vs [some]\n",
      "Iter = 48000, Average Loss = 0.099992, Average Accuracy = 96.90%\n",
      "['get', 'a', 'little', 'company'] - [and] vs [which]\n",
      "Iter = 49000, Average Loss = 0.082553, Average Accuracy = 97.70%\n",
      "['.', 'it', 'was', 'rather'] - [lonely] vs [lonely]\n",
      "Iter = 50000, Average Loss = 0.046700, Average Accuracy = 99.00%\n",
      "[',', 'even', 'when', 'he'] - [speaks] vs [speaks]\n",
      "End Of training Finished!\n",
      "time:  77.37737655639648\n",
      "For tensorboard visualisation run on command line.\n",
      "\ttensorboard --logdir=lstm_words\n",
      "and oint your web browser to the returned link\n",
      "Model saved\n"
     ]
    }
   ],
   "source": [
    "n_input=4\n",
    "n_layers=2\n",
    "n_hidden=64\n",
    "\n",
    "x, y, weights, biases, pred, cost, optimizer, correct_pred, accuracy, path = define_graph(learning_rate=0.001,\n",
    "                                                                                          n_input=n_input,\n",
    "                                                                                          n_layers=n_layers,\n",
    "                                                                                          n_hidden=n_hidden)\n",
    "losses, accuracies = lstm_training(x, y, weights, biases, pred, cost, optimizer, \n",
    "                                  correct_pred, accuracy, path,\n",
    "                                  epochs=50000, n_input=n_input)"
   ]
  },
  {
   "cell_type": "code",
   "execution_count": 64,
   "metadata": {},
   "outputs": [
    {
     "data": {
      "image/png": "[encoded data removed]",
      "text/plain": [
       "<matplotlib.figure.Figure at 0x2b4e1683b0b8>"
      ]
     },
     "metadata": {},
     "output_type": "display_data"
    }
   ],
   "source": [
    "fig, (ax1, ax2) = plt.subplots(2, 1, figsize=(15, 8))\n",
    "ax1.plot(losses)\n",
    "ax1.set_title('Loss')\n",
    "ax2.plot(accuracies)\n",
    "ax2.set_title('Accuracy')\n",
    "plt.show()"
   ]
  },
  {
   "cell_type": "code",
   "execution_count": 65,
   "metadata": {},
   "outputs": [
    {
     "name": "stdout",
     "output_type": "stream",
     "text": [
      "the villagers , who had\n",
      " Predicted word: had \n",
      " Word from text: had\n",
      "with him for a considerable\n",
      " Predicted word: considerable \n",
      " Word from text: considerable\n",
      "wise man of the village\n",
      " Predicted word: village \n",
      " Word from text: village\n",
      "trick , and again the\n",
      " Predicted word: the \n",
      " Word from text: the\n",
      "help . but shortly after\n",
      " Predicted word: after \n",
      " Word from text: after\n",
      "when the boy complained ,\n",
      " Predicted word: , \n",
      " Word from text: ,\n",
      "the same trick , and\n",
      " Predicted word: and \n",
      " Word from text: and\n",
      ". this pleased the boy\n",
      " Predicted word: boy \n",
      " Word from text: boy\n",
      ". he rushed down towards\n",
      " Predicted word: towards \n",
      " Word from text: towards\n",
      "at the foot of a\n",
      " Predicted word: a \n",
      " Word from text: a\n"
     ]
    }
   ],
   "source": [
    "next_word_prediction(path, n_input)"
   ]
  },
  {
   "cell_type": "code",
   "execution_count": 66,
   "metadata": {},
   "outputs": [
    {
     "name": "stdout",
     "output_type": "stream",
     "text": [
      "excitement . he rushed down towards the village calling out wolf , wolf , still louder than before . but this time the villagers , who had been fooled twice before , thought the boy was again deceiving them , and nobody stirred to come to his help . so the wolf made a good meal afterwards he tried the same trick , and again the boy complained , the wise man of the village said : a liar will not be believed , even when he speaks the truth . the boy of course cried out wolf , wolf , still louder than before .\n"
     ]
    }
   ],
   "source": [
    "print(generate_fable(path, n_input))"
   ]
  },
  {
   "cell_type": "markdown",
   "metadata": {},
   "source": [
    "<font size=\"3\" face=\"verdana\" > <i> \"There was once a young Shepherd Boy who tended his sheep at the foot of a mountain near a dark forest.\n",
    "\n",
    "It was rather lonely for him all day, so he thought upon a plan by which he could get a little company and some excitement.\n",
    "He rushed down towards the village calling out \"Wolf, Wolf,\" and the villagers came out to meet him, and some of them stopped with him for a considerable time.\n",
    "This pleased the boy so much that a few days afterwards he tried the same trick, and again the villagers came to his help.\n",
    "But shortly after this a Wolf actually did come out from the forest, and began to worry the sheep, and the boy of course cried out \"Wolf, Wolf,\" still louder than before.\n",
    "But this time the villagers, who had been fooled twice before, thought the boy was again deceiving them, and nobody stirred to come to his help.\n",
    "So the Wolf made a good meal off the boy's flock, and when the boy complained, the wise man of the village said:\n",
    "\"A liar will not be believed, even when he speaks the truth.\"  \"</i> </font>.    \n",
    "\n",
    "\n",
    "\n",
    "\n",
    "\n"
   ]
  },
  {
   "cell_type": "markdown",
   "metadata": {},
   "source": [
    "<div class='alert alert-warning'>\n",
    "In this case, we can see how we are in a midway between n_input = 3 and n_input = 5. We do not obtain exactly the same text as the original one, but we do not get stuck in a loop. \n",
    "</div>"
   ]
  },
  {
   "cell_type": "markdown",
   "metadata": {},
   "source": [
    "## 3-Layers\n",
    "\n",
    "We increase the number of LSTM layers, while maintaining the number of input words set to 3."
   ]
  },
  {
   "cell_type": "code",
   "execution_count": 68,
   "metadata": {
    "scrolled": false
   },
   "outputs": [
    {
     "name": "stdout",
     "output_type": "stream",
     "text": [
      "Start Training\n",
      "Iter = 1000, Average Loss = 4.442622, Average Accuracy = 5.80%\n",
      "['tended', 'his', 'sheep'] - [at] vs [the]\n",
      "Iter = 2000, Average Loss = 3.968901, Average Accuracy = 11.80%\n",
      "['the', 'foot', 'of'] - [a] vs [the]\n",
      "Iter = 3000, Average Loss = 2.961745, Average Accuracy = 28.00%\n",
      "['the', 'foot', 'of'] - [a] vs [a]\n",
      "Iter = 4000, Average Loss = 3.006594, Average Accuracy = 29.10%\n",
      "['was', 'once', 'a'] - [young] vs [same]\n",
      "Iter = 5000, Average Loss = 2.011011, Average Accuracy = 46.40%\n",
      "['even', 'when', 'he'] - [speaks] vs [all]\n",
      "Iter = 6000, Average Loss = 1.887852, Average Accuracy = 52.10%\n",
      "['young', 'shepherd', 'boy'] - [who] vs [who]\n",
      "Iter = 7000, Average Loss = 1.376347, Average Accuracy = 64.20%\n",
      "['once', 'a', 'young'] - [shepherd] vs [days]\n",
      "Iter = 8000, Average Loss = 1.537535, Average Accuracy = 60.10%\n",
      "['shepherd', 'boy', 'who'] - [tended] vs [tended]\n",
      "Iter = 9000, Average Loss = 1.264431, Average Accuracy = 63.80%\n",
      "['he', 'speaks', 'the'] - [truth] vs [truth]\n",
      "Iter = 10000, Average Loss = 0.893253, Average Accuracy = 75.00%\n",
      "['be', 'believed', ','] - [even] vs [even]\n",
      "Iter = 11000, Average Loss = 1.020105, Average Accuracy = 71.50%\n",
      "['once', 'a', 'young'] - [shepherd] vs [shepherd]\n",
      "Iter = 12000, Average Loss = 0.758111, Average Accuracy = 77.40%\n",
      "['be', 'believed', ','] - [even] vs [even]\n",
      "Iter = 13000, Average Loss = 0.628183, Average Accuracy = 81.40%\n",
      "['young', 'shepherd', 'boy'] - [who] vs [tried]\n",
      "Iter = 14000, Average Loss = 0.604699, Average Accuracy = 82.50%\n",
      "['mountain', 'near', 'a'] - [dark] vs [dark]\n",
      "Iter = 15000, Average Loss = 0.598729, Average Accuracy = 83.00%\n",
      "['all', 'day', ','] - [so] vs [so]\n",
      "Iter = 16000, Average Loss = 0.471685, Average Accuracy = 85.80%\n",
      "['he', 'thought', 'upon'] - [a] vs [a]\n",
      "Iter = 17000, Average Loss = 0.524679, Average Accuracy = 84.30%\n",
      "['forest', '.', 'it'] - [was] vs [was]\n",
      "Iter = 18000, Average Loss = 0.382685, Average Accuracy = 88.00%\n",
      "['forest', '.', 'it'] - [was] vs [was]\n",
      "Iter = 19000, Average Loss = 0.503440, Average Accuracy = 85.80%\n",
      "['thought', 'upon', 'a'] - [plan] vs [plan]\n",
      "Iter = 20000, Average Loss = 0.480885, Average Accuracy = 84.60%\n",
      "['was', 'rather', 'lonely'] - [for] vs [for]\n",
      "Iter = 21000, Average Loss = 0.388273, Average Accuracy = 88.20%\n",
      "['forest', '.', 'it'] - [was] vs [was]\n",
      "Iter = 22000, Average Loss = 0.333356, Average Accuracy = 90.30%\n",
      "['forest', '.', 'it'] - [was] vs [was]\n",
      "Iter = 23000, Average Loss = 0.275727, Average Accuracy = 91.10%\n",
      "['which', 'he', 'could'] - [get] vs [the]\n",
      "Iter = 24000, Average Loss = 0.355421, Average Accuracy = 89.90%\n",
      "['day', ',', 'so'] - [he] vs [he]\n",
      "Iter = 25000, Average Loss = 0.268126, Average Accuracy = 92.40%\n",
      "['by', 'which', 'he'] - [could] vs [could]\n",
      "Iter = 26000, Average Loss = 0.283194, Average Accuracy = 91.10%\n",
      "['and', 'some', 'excitement'] - [.] vs [.]\n",
      "Iter = 27000, Average Loss = 0.297638, Average Accuracy = 91.10%\n",
      "[',', 'so', 'he'] - [thought] vs [thought]\n",
      "Iter = 28000, Average Loss = 0.256719, Average Accuracy = 92.90%\n",
      "['.', 'he', 'rushed'] - [down] vs [down]\n",
      "Iter = 29000, Average Loss = 0.226145, Average Accuracy = 92.80%\n",
      "['of', 'them', 'stopped'] - [with] vs [with]\n",
      "Iter = 30000, Average Loss = 0.289983, Average Accuracy = 92.10%\n",
      "['of', 'them', 'stopped'] - [with] vs [with]\n",
      "Iter = 31000, Average Loss = 0.211128, Average Accuracy = 94.40%\n",
      "['out', 'to', 'meet'] - [him] vs [him]\n",
      "Iter = 32000, Average Loss = 0.170447, Average Accuracy = 94.60%\n",
      "['of', 'them', 'stopped'] - [with] vs [with]\n",
      "Iter = 33000, Average Loss = 0.202850, Average Accuracy = 94.40%\n",
      "['to', 'meet', 'him'] - [,] vs [,]\n",
      "Iter = 34000, Average Loss = 0.221392, Average Accuracy = 93.10%\n",
      "['of', 'them', 'stopped'] - [with] vs [with]\n",
      "Iter = 35000, Average Loss = 0.168261, Average Accuracy = 94.60%\n",
      "['time', '.', 'this'] - [pleased] vs [pleased]\n",
      "Iter = 36000, Average Loss = 0.207542, Average Accuracy = 94.40%\n",
      "['boy', 'so', 'much'] - [that] vs [that]\n",
      "Iter = 37000, Average Loss = 0.243810, Average Accuracy = 92.50%\n",
      "['time', '.', 'this'] - [pleased] vs [pleased]\n",
      "Iter = 38000, Average Loss = 0.185431, Average Accuracy = 94.90%\n",
      "['much', 'that', 'a'] - [few] vs [few]\n",
      "Iter = 39000, Average Loss = 0.197555, Average Accuracy = 94.90%\n",
      "[',', 'and', 'again'] - [the] vs [the]\n",
      "Iter = 40000, Average Loss = 0.211252, Average Accuracy = 93.60%\n",
      "['he', 'tried', 'the'] - [same] vs [same]\n",
      "Iter = 41000, Average Loss = 0.210627, Average Accuracy = 93.80%\n",
      "['help', '.', 'but'] - [shortly] vs [shortly]\n",
      "Iter = 42000, Average Loss = 0.175930, Average Accuracy = 95.00%\n",
      "['began', 'to', 'worry'] - [the] vs [the]\n",
      "Iter = 43000, Average Loss = 0.117209, Average Accuracy = 97.70%\n",
      "[',', 'still', 'louder'] - [than] vs [than]\n",
      "Iter = 44000, Average Loss = 0.278991, Average Accuracy = 93.60%\n",
      "['wolf', ',', 'still'] - [louder] vs [louder]\n",
      "Iter = 45000, Average Loss = 0.162705, Average Accuracy = 94.80%\n",
      "[',', 'wolf', ','] - [still] vs [still]\n",
      "Iter = 46000, Average Loss = 0.193262, Average Accuracy = 94.80%\n",
      "['.', 'but', 'this'] - [time] vs [time]\n",
      "Iter = 47000, Average Loss = 0.197769, Average Accuracy = 95.00%\n",
      "[',', 'and', 'began'] - [to] vs [to]\n",
      "Iter = 48000, Average Loss = 0.158020, Average Accuracy = 94.50%\n",
      "['out', 'wolf', ','] - [wolf] vs [wolf]\n",
      "Iter = 49000, Average Loss = 0.166161, Average Accuracy = 95.10%\n",
      "['sheep,', 'and', 'the'] - [boy] vs [boy]\n",
      "Iter = 50000, Average Loss = 0.215904, Average Accuracy = 92.60%\n",
      "['cried', 'out', 'wolf'] - [,] vs [,]\n",
      "End Of training Finished!\n",
      "time:  77.8254611492157\n",
      "For tensorboard visualisation run on command line.\n",
      "\ttensorboard --logdir=lstm_words\n",
      "and oint your web browser to the returned link\n",
      "Model saved\n"
     ]
    }
   ],
   "source": [
    "n_input=3\n",
    "n_layers=3\n",
    "n_hidden=64\n",
    "\n",
    "x, y, weights, biases, pred, cost, optimizer, correct_pred, accuracy, path = define_graph(learning_rate=0.001,\n",
    "                                                                                          n_input=n_input,\n",
    "                                                                                          n_layers=n_layers,\n",
    "                                                                                          n_hidden=n_hidden)\n",
    "losses, accuracies = lstm_training(x, y, weights, biases, pred, cost, optimizer, \n",
    "                                  correct_pred, accuracy, path,\n",
    "                                  epochs=50000, n_input=n_input)"
   ]
  },
  {
   "cell_type": "code",
   "execution_count": 69,
   "metadata": {},
   "outputs": [
    {
     "data": {
      "image/png": "[encoded data removed]",
      "text/plain": [
       "<matplotlib.figure.Figure at 0x2b4e59e68eb8>"
      ]
     },
     "metadata": {},
     "output_type": "display_data"
    }
   ],
   "source": [
    "fig, (ax1, ax2) = plt.subplots(2, 1, figsize=(15, 8))\n",
    "ax1.plot(losses)\n",
    "ax1.set_title('Loss')\n",
    "ax2.plot(accuracies)\n",
    "ax2.set_title('Accuracy')\n",
    "plt.show()"
   ]
  },
  {
   "cell_type": "code",
   "execution_count": 70,
   "metadata": {},
   "outputs": [
    {
     "name": "stdout",
     "output_type": "stream",
     "text": [
      "a dark forest .\n",
      " Predicted word: . \n",
      " Word from text: .\n",
      "off the boy's flock\n",
      " Predicted word: flock \n",
      " Word from text: flock\n",
      "was rather lonely for\n",
      " Predicted word: for \n",
      " Word from text: for\n",
      "complained , the wise\n",
      " Predicted word: wise \n",
      " Word from text: wise\n",
      "stirred to come to\n",
      " Predicted word: to \n",
      " Word from text: to\n",
      "down towards the village\n",
      " Predicted word: village \n",
      " Word from text: village\n",
      "was rather lonely for\n",
      " Predicted word: for \n",
      " Word from text: for\n",
      ", and the villagers\n",
      " Predicted word: villagers \n",
      " Word from text: villagers\n",
      "there was once a\n",
      " Predicted word: a \n",
      " Word from text: a\n",
      "boy was again deceiving\n",
      " Predicted word: deceiving \n",
      " Word from text: deceiving\n"
     ]
    }
   ],
   "source": [
    "next_word_prediction(path, n_input)"
   ]
  },
  {
   "cell_type": "code",
   "execution_count": 71,
   "metadata": {},
   "outputs": [
    {
     "name": "stdout",
     "output_type": "stream",
     "text": [
      "be believed , even when he speaks the truth . the boy of course cried out wolf , wolf , still louder than before . but this time the villagers , who had been fooled the village calling out wolf , wolf , still louder than before . but this time the villagers , who had been fooled the village calling out wolf , wolf , still louder than before . but this time the villagers , who had been fooled the village calling out wolf , wolf , still louder than before .\n"
     ]
    }
   ],
   "source": [
    "print(generate_fable(path, n_input))"
   ]
  },
  {
   "cell_type": "markdown",
   "metadata": {
    "collapsed": true
   },
   "source": [
    "<div class='alert alert-warning'>\n",
    "The result is still very close to the one obtained with only 2 LSTM layers.\n",
    "</div>"
   ]
  }
 ],
 "metadata": {
  "anaconda-cloud": {},
  "kernelspec": {
   "display_name": "Python 3",
   "language": "python",
   "name": "python3"
  },
  "language_info": {
   "codemirror_mode": {
    "name": "ipython",
    "version": 3
   },
   "file_extension": ".py",
   "mimetype": "text/x-python",
   "name": "python",
   "nbconvert_exporter": "python",
   "pygments_lexer": "ipython3",
   "version": "3.5.3"
  },
  "widgets": {
   "state": {},
   "version": "1.1.2"
  }
 },
 "nbformat": 4,
 "nbformat_minor": 1
}
